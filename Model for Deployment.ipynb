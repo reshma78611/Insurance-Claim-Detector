{
 "cells": [
  {
   "cell_type": "markdown",
   "metadata": {},
   "source": [
    "# Introduction\n",
    "\n",
    "In this project, data on insurance is analysed and model is built for predicting whether the claim by the Hospital to the Insurance company is Fraudulent or Genuine"
   ]
  },
  {
   "cell_type": "markdown",
   "metadata": {},
   "source": [
    "# Objective:\n",
    "\n",
    "To predict whether the claim by the Hospital to the Insurance company is Fraudulent or Genuine"
   ]
  },
  {
   "cell_type": "markdown",
   "metadata": {
    "id": "xyE7oaJGe3O7"
   },
   "source": [
    "# Import Libraries"
   ]
  },
  {
   "cell_type": "code",
   "execution_count": 1,
   "metadata": {
    "id": "mHJ21ut6-8qO"
   },
   "outputs": [],
   "source": [
    "import numpy as np\n",
    "import pandas as pd\n",
    "import matplotlib.pyplot as plt\n",
    "%matplotlib inline\n",
    "import seaborn as sns"
   ]
  },
  {
   "cell_type": "markdown",
   "metadata": {
    "id": "zsXEir1ve3PF"
   },
   "source": [
    "# Import Dataset"
   ]
  },
  {
   "cell_type": "code",
   "execution_count": 2,
   "metadata": {
    "id": "00PyehPwAvl8"
   },
   "outputs": [],
   "source": [
    "#from google.colab import files\n",
    "#upload=files.upload()"
   ]
  },
  {
   "cell_type": "code",
   "execution_count": 3,
   "metadata": {
    "id": "i2iiq3tgA3Rw"
   },
   "outputs": [],
   "source": [
    "insu_data_original=pd.read_csv('Insurance Dataset.csv')"
   ]
  },
  {
   "cell_type": "markdown",
   "metadata": {
    "id": "3NnGKm6we3PI"
   },
   "source": [
    "# Exploratory Data Analysis"
   ]
  },
  {
   "cell_type": "code",
   "execution_count": 4,
   "metadata": {
    "colab": {
     "base_uri": "https://localhost:8080/",
     "height": 445
    },
    "id": "Hpzb0plgA8mj",
    "outputId": "d5312048-52c7-4737-d0bc-3a5787de56c8"
   },
   "outputs": [
    {
     "data": {
      "text/html": [
       "<div>\n",
       "<style scoped>\n",
       "    .dataframe tbody tr th:only-of-type {\n",
       "        vertical-align: middle;\n",
       "    }\n",
       "\n",
       "    .dataframe tbody tr th {\n",
       "        vertical-align: top;\n",
       "    }\n",
       "\n",
       "    .dataframe thead th {\n",
       "        text-align: right;\n",
       "    }\n",
       "</style>\n",
       "<table border=\"1\" class=\"dataframe\">\n",
       "  <thead>\n",
       "    <tr style=\"text-align: right;\">\n",
       "      <th></th>\n",
       "      <th>Area_Service</th>\n",
       "      <th>Hospital County</th>\n",
       "      <th>Hospital Id</th>\n",
       "      <th>Age</th>\n",
       "      <th>Gender</th>\n",
       "      <th>Cultural_group</th>\n",
       "      <th>ethnicity</th>\n",
       "      <th>Days_spend_hsptl</th>\n",
       "      <th>Admission_type</th>\n",
       "      <th>Home or self care,</th>\n",
       "      <th>...</th>\n",
       "      <th>Mortality risk</th>\n",
       "      <th>Surg_Description</th>\n",
       "      <th>Weight_baby</th>\n",
       "      <th>Abortion</th>\n",
       "      <th>Emergency dept_yes/No</th>\n",
       "      <th>Tot_charg</th>\n",
       "      <th>Tot_cost</th>\n",
       "      <th>ratio_of_total_costs_to_total_charges</th>\n",
       "      <th>Result</th>\n",
       "      <th>Payment_Typology</th>\n",
       "    </tr>\n",
       "  </thead>\n",
       "  <tbody>\n",
       "    <tr>\n",
       "      <th>0</th>\n",
       "      <td>Western NY</td>\n",
       "      <td>Allegany</td>\n",
       "      <td>37.0</td>\n",
       "      <td>30 to 49</td>\n",
       "      <td>F</td>\n",
       "      <td>White</td>\n",
       "      <td>Not Span/Hispanic</td>\n",
       "      <td>4</td>\n",
       "      <td>Elective</td>\n",
       "      <td>Home or Self Care</td>\n",
       "      <td>...</td>\n",
       "      <td>1.0</td>\n",
       "      <td>Medical</td>\n",
       "      <td>0</td>\n",
       "      <td>N</td>\n",
       "      <td>Y</td>\n",
       "      <td>5511.95</td>\n",
       "      <td>5582.49</td>\n",
       "      <td>1.012798</td>\n",
       "      <td>1</td>\n",
       "      <td>1</td>\n",
       "    </tr>\n",
       "    <tr>\n",
       "      <th>1</th>\n",
       "      <td>Western NY</td>\n",
       "      <td>Allegany</td>\n",
       "      <td>37.0</td>\n",
       "      <td>70 or Older</td>\n",
       "      <td>F</td>\n",
       "      <td>White</td>\n",
       "      <td>Not Span/Hispanic</td>\n",
       "      <td>4</td>\n",
       "      <td>Urgent</td>\n",
       "      <td>Short-term Hospital</td>\n",
       "      <td>...</td>\n",
       "      <td>2.0</td>\n",
       "      <td>Medical</td>\n",
       "      <td>0</td>\n",
       "      <td>N</td>\n",
       "      <td>Y</td>\n",
       "      <td>4783.20</td>\n",
       "      <td>5162.82</td>\n",
       "      <td>1.079365</td>\n",
       "      <td>1</td>\n",
       "      <td>1</td>\n",
       "    </tr>\n",
       "    <tr>\n",
       "      <th>2</th>\n",
       "      <td>Western NY</td>\n",
       "      <td>Allegany</td>\n",
       "      <td>37.0</td>\n",
       "      <td>30 to 49</td>\n",
       "      <td>F</td>\n",
       "      <td>White</td>\n",
       "      <td>Not Span/Hispanic</td>\n",
       "      <td>3</td>\n",
       "      <td>Urgent</td>\n",
       "      <td>Home or Self Care</td>\n",
       "      <td>...</td>\n",
       "      <td>1.0</td>\n",
       "      <td>Medical</td>\n",
       "      <td>0</td>\n",
       "      <td>N</td>\n",
       "      <td>Y</td>\n",
       "      <td>3829.15</td>\n",
       "      <td>4056.52</td>\n",
       "      <td>1.059379</td>\n",
       "      <td>1</td>\n",
       "      <td>1</td>\n",
       "    </tr>\n",
       "    <tr>\n",
       "      <th>3</th>\n",
       "      <td>Western NY</td>\n",
       "      <td>Allegany</td>\n",
       "      <td>37.0</td>\n",
       "      <td>0 to 17</td>\n",
       "      <td>F</td>\n",
       "      <td>White</td>\n",
       "      <td>Not Span/Hispanic</td>\n",
       "      <td>1</td>\n",
       "      <td>Urgent</td>\n",
       "      <td>Home or Self Care</td>\n",
       "      <td>...</td>\n",
       "      <td>1.0</td>\n",
       "      <td>Medical</td>\n",
       "      <td>0</td>\n",
       "      <td>N</td>\n",
       "      <td>Y</td>\n",
       "      <td>1108.20</td>\n",
       "      <td>1644.75</td>\n",
       "      <td>1.484167</td>\n",
       "      <td>0</td>\n",
       "      <td>1</td>\n",
       "    </tr>\n",
       "    <tr>\n",
       "      <th>4</th>\n",
       "      <td>Western NY</td>\n",
       "      <td>Allegany</td>\n",
       "      <td>37.0</td>\n",
       "      <td>70 or Older</td>\n",
       "      <td>F</td>\n",
       "      <td>White</td>\n",
       "      <td>Not Span/Hispanic</td>\n",
       "      <td>3</td>\n",
       "      <td>Elective</td>\n",
       "      <td>Home or Self Care</td>\n",
       "      <td>...</td>\n",
       "      <td>3.0</td>\n",
       "      <td>Medical</td>\n",
       "      <td>0</td>\n",
       "      <td>N</td>\n",
       "      <td>Y</td>\n",
       "      <td>3418.18</td>\n",
       "      <td>3370.87</td>\n",
       "      <td>0.986161</td>\n",
       "      <td>1</td>\n",
       "      <td>1</td>\n",
       "    </tr>\n",
       "  </tbody>\n",
       "</table>\n",
       "<p>5 rows × 24 columns</p>\n",
       "</div>"
      ],
      "text/plain": [
       "  Area_Service Hospital County  Hospital Id          Age Gender  \\\n",
       "0   Western NY        Allegany         37.0     30 to 49      F   \n",
       "1   Western NY        Allegany         37.0  70 or Older      F   \n",
       "2   Western NY        Allegany         37.0     30 to 49      F   \n",
       "3   Western NY        Allegany         37.0      0 to 17      F   \n",
       "4   Western NY        Allegany         37.0  70 or Older      F   \n",
       "\n",
       "  Cultural_group          ethnicity Days_spend_hsptl Admission_type  \\\n",
       "0          White  Not Span/Hispanic                4       Elective   \n",
       "1          White  Not Span/Hispanic                4         Urgent   \n",
       "2          White  Not Span/Hispanic                3         Urgent   \n",
       "3          White  Not Span/Hispanic                1         Urgent   \n",
       "4          White  Not Span/Hispanic                3       Elective   \n",
       "\n",
       "    Home or self care,  ...  Mortality risk  Surg_Description Weight_baby  \\\n",
       "0    Home or Self Care  ...             1.0           Medical           0   \n",
       "1  Short-term Hospital  ...             2.0           Medical           0   \n",
       "2    Home or Self Care  ...             1.0           Medical           0   \n",
       "3    Home or Self Care  ...             1.0           Medical           0   \n",
       "4    Home or Self Care  ...             3.0           Medical           0   \n",
       "\n",
       "   Abortion  Emergency dept_yes/No Tot_charg  Tot_cost  \\\n",
       "0         N                      Y   5511.95   5582.49   \n",
       "1         N                      Y   4783.20   5162.82   \n",
       "2         N                      Y   3829.15   4056.52   \n",
       "3         N                      Y   1108.20   1644.75   \n",
       "4         N                      Y   3418.18   3370.87   \n",
       "\n",
       "  ratio_of_total_costs_to_total_charges Result  Payment_Typology  \n",
       "0                              1.012798      1                 1  \n",
       "1                              1.079365      1                 1  \n",
       "2                              1.059379      1                 1  \n",
       "3                              1.484167      0                 1  \n",
       "4                              0.986161      1                 1  \n",
       "\n",
       "[5 rows x 24 columns]"
      ]
     },
     "execution_count": 4,
     "metadata": {},
     "output_type": "execute_result"
    }
   ],
   "source": [
    "insu_data_original.head()"
   ]
  },
  {
   "cell_type": "code",
   "execution_count": 5,
   "metadata": {
    "id": "qhSiFUhnBGQ3"
   },
   "outputs": [],
   "source": [
    "insu_data=insu_data_original.copy()"
   ]
  },
  {
   "cell_type": "code",
   "execution_count": 6,
   "metadata": {
    "colab": {
     "base_uri": "https://localhost:8080/",
     "height": 445
    },
    "id": "KiR4HsQMBKn8",
    "outputId": "a0a42c17-435b-4bc8-b704-2a82bf24f576"
   },
   "outputs": [
    {
     "data": {
      "text/html": [
       "<div>\n",
       "<style scoped>\n",
       "    .dataframe tbody tr th:only-of-type {\n",
       "        vertical-align: middle;\n",
       "    }\n",
       "\n",
       "    .dataframe tbody tr th {\n",
       "        vertical-align: top;\n",
       "    }\n",
       "\n",
       "    .dataframe thead th {\n",
       "        text-align: right;\n",
       "    }\n",
       "</style>\n",
       "<table border=\"1\" class=\"dataframe\">\n",
       "  <thead>\n",
       "    <tr style=\"text-align: right;\">\n",
       "      <th></th>\n",
       "      <th>Area_Service</th>\n",
       "      <th>Hospital County</th>\n",
       "      <th>Hospital Id</th>\n",
       "      <th>Age</th>\n",
       "      <th>Gender</th>\n",
       "      <th>Cultural_group</th>\n",
       "      <th>ethnicity</th>\n",
       "      <th>Days_spend_hsptl</th>\n",
       "      <th>Admission_type</th>\n",
       "      <th>Home or self care,</th>\n",
       "      <th>...</th>\n",
       "      <th>Mortality risk</th>\n",
       "      <th>Surg_Description</th>\n",
       "      <th>Weight_baby</th>\n",
       "      <th>Abortion</th>\n",
       "      <th>Emergency dept_yes/No</th>\n",
       "      <th>Tot_charg</th>\n",
       "      <th>Tot_cost</th>\n",
       "      <th>ratio_of_total_costs_to_total_charges</th>\n",
       "      <th>Result</th>\n",
       "      <th>Payment_Typology</th>\n",
       "    </tr>\n",
       "  </thead>\n",
       "  <tbody>\n",
       "    <tr>\n",
       "      <th>0</th>\n",
       "      <td>Western NY</td>\n",
       "      <td>Allegany</td>\n",
       "      <td>37.0</td>\n",
       "      <td>30 to 49</td>\n",
       "      <td>F</td>\n",
       "      <td>White</td>\n",
       "      <td>Not Span/Hispanic</td>\n",
       "      <td>4</td>\n",
       "      <td>Elective</td>\n",
       "      <td>Home or Self Care</td>\n",
       "      <td>...</td>\n",
       "      <td>1.0</td>\n",
       "      <td>Medical</td>\n",
       "      <td>0</td>\n",
       "      <td>N</td>\n",
       "      <td>Y</td>\n",
       "      <td>5511.95</td>\n",
       "      <td>5582.49</td>\n",
       "      <td>1.012798</td>\n",
       "      <td>1</td>\n",
       "      <td>1</td>\n",
       "    </tr>\n",
       "    <tr>\n",
       "      <th>1</th>\n",
       "      <td>Western NY</td>\n",
       "      <td>Allegany</td>\n",
       "      <td>37.0</td>\n",
       "      <td>70 or Older</td>\n",
       "      <td>F</td>\n",
       "      <td>White</td>\n",
       "      <td>Not Span/Hispanic</td>\n",
       "      <td>4</td>\n",
       "      <td>Urgent</td>\n",
       "      <td>Short-term Hospital</td>\n",
       "      <td>...</td>\n",
       "      <td>2.0</td>\n",
       "      <td>Medical</td>\n",
       "      <td>0</td>\n",
       "      <td>N</td>\n",
       "      <td>Y</td>\n",
       "      <td>4783.20</td>\n",
       "      <td>5162.82</td>\n",
       "      <td>1.079365</td>\n",
       "      <td>1</td>\n",
       "      <td>1</td>\n",
       "    </tr>\n",
       "    <tr>\n",
       "      <th>2</th>\n",
       "      <td>Western NY</td>\n",
       "      <td>Allegany</td>\n",
       "      <td>37.0</td>\n",
       "      <td>30 to 49</td>\n",
       "      <td>F</td>\n",
       "      <td>White</td>\n",
       "      <td>Not Span/Hispanic</td>\n",
       "      <td>3</td>\n",
       "      <td>Urgent</td>\n",
       "      <td>Home or Self Care</td>\n",
       "      <td>...</td>\n",
       "      <td>1.0</td>\n",
       "      <td>Medical</td>\n",
       "      <td>0</td>\n",
       "      <td>N</td>\n",
       "      <td>Y</td>\n",
       "      <td>3829.15</td>\n",
       "      <td>4056.52</td>\n",
       "      <td>1.059379</td>\n",
       "      <td>1</td>\n",
       "      <td>1</td>\n",
       "    </tr>\n",
       "    <tr>\n",
       "      <th>3</th>\n",
       "      <td>Western NY</td>\n",
       "      <td>Allegany</td>\n",
       "      <td>37.0</td>\n",
       "      <td>0 to 17</td>\n",
       "      <td>F</td>\n",
       "      <td>White</td>\n",
       "      <td>Not Span/Hispanic</td>\n",
       "      <td>1</td>\n",
       "      <td>Urgent</td>\n",
       "      <td>Home or Self Care</td>\n",
       "      <td>...</td>\n",
       "      <td>1.0</td>\n",
       "      <td>Medical</td>\n",
       "      <td>0</td>\n",
       "      <td>N</td>\n",
       "      <td>Y</td>\n",
       "      <td>1108.20</td>\n",
       "      <td>1644.75</td>\n",
       "      <td>1.484167</td>\n",
       "      <td>0</td>\n",
       "      <td>1</td>\n",
       "    </tr>\n",
       "    <tr>\n",
       "      <th>4</th>\n",
       "      <td>Western NY</td>\n",
       "      <td>Allegany</td>\n",
       "      <td>37.0</td>\n",
       "      <td>70 or Older</td>\n",
       "      <td>F</td>\n",
       "      <td>White</td>\n",
       "      <td>Not Span/Hispanic</td>\n",
       "      <td>3</td>\n",
       "      <td>Elective</td>\n",
       "      <td>Home or Self Care</td>\n",
       "      <td>...</td>\n",
       "      <td>3.0</td>\n",
       "      <td>Medical</td>\n",
       "      <td>0</td>\n",
       "      <td>N</td>\n",
       "      <td>Y</td>\n",
       "      <td>3418.18</td>\n",
       "      <td>3370.87</td>\n",
       "      <td>0.986161</td>\n",
       "      <td>1</td>\n",
       "      <td>1</td>\n",
       "    </tr>\n",
       "  </tbody>\n",
       "</table>\n",
       "<p>5 rows × 24 columns</p>\n",
       "</div>"
      ],
      "text/plain": [
       "  Area_Service Hospital County  Hospital Id          Age Gender  \\\n",
       "0   Western NY        Allegany         37.0     30 to 49      F   \n",
       "1   Western NY        Allegany         37.0  70 or Older      F   \n",
       "2   Western NY        Allegany         37.0     30 to 49      F   \n",
       "3   Western NY        Allegany         37.0      0 to 17      F   \n",
       "4   Western NY        Allegany         37.0  70 or Older      F   \n",
       "\n",
       "  Cultural_group          ethnicity Days_spend_hsptl Admission_type  \\\n",
       "0          White  Not Span/Hispanic                4       Elective   \n",
       "1          White  Not Span/Hispanic                4         Urgent   \n",
       "2          White  Not Span/Hispanic                3         Urgent   \n",
       "3          White  Not Span/Hispanic                1         Urgent   \n",
       "4          White  Not Span/Hispanic                3       Elective   \n",
       "\n",
       "    Home or self care,  ...  Mortality risk  Surg_Description Weight_baby  \\\n",
       "0    Home or Self Care  ...             1.0           Medical           0   \n",
       "1  Short-term Hospital  ...             2.0           Medical           0   \n",
       "2    Home or Self Care  ...             1.0           Medical           0   \n",
       "3    Home or Self Care  ...             1.0           Medical           0   \n",
       "4    Home or Self Care  ...             3.0           Medical           0   \n",
       "\n",
       "   Abortion  Emergency dept_yes/No Tot_charg  Tot_cost  \\\n",
       "0         N                      Y   5511.95   5582.49   \n",
       "1         N                      Y   4783.20   5162.82   \n",
       "2         N                      Y   3829.15   4056.52   \n",
       "3         N                      Y   1108.20   1644.75   \n",
       "4         N                      Y   3418.18   3370.87   \n",
       "\n",
       "  ratio_of_total_costs_to_total_charges Result  Payment_Typology  \n",
       "0                              1.012798      1                 1  \n",
       "1                              1.079365      1                 1  \n",
       "2                              1.059379      1                 1  \n",
       "3                              1.484167      0                 1  \n",
       "4                              0.986161      1                 1  \n",
       "\n",
       "[5 rows x 24 columns]"
      ]
     },
     "execution_count": 6,
     "metadata": {},
     "output_type": "execute_result"
    }
   ],
   "source": [
    "insu_data.head()"
   ]
  },
  {
   "cell_type": "code",
   "execution_count": 7,
   "metadata": {
    "colab": {
     "base_uri": "https://localhost:8080/"
    },
    "id": "hi5jFwEnBPQm",
    "outputId": "6d74b316-427b-4df5-e204-5e7d206e3f46"
   },
   "outputs": [
    {
     "data": {
      "text/plain": [
       "Index(['Area_Service', 'Hospital County', 'Hospital Id', 'Age', 'Gender',\n",
       "       'Cultural_group', 'ethnicity', 'Days_spend_hsptl', 'Admission_type',\n",
       "       'Home or self care,', 'ccs_diagnosis_code', 'ccs_procedure_code',\n",
       "       'apr_drg_description', 'Code_illness', 'Mortality risk',\n",
       "       'Surg_Description', 'Weight_baby', 'Abortion', 'Emergency dept_yes/No',\n",
       "       'Tot_charg', 'Tot_cost', 'ratio_of_total_costs_to_total_charges',\n",
       "       'Result', 'Payment_Typology'],\n",
       "      dtype='object')"
      ]
     },
     "execution_count": 7,
     "metadata": {},
     "output_type": "execute_result"
    }
   ],
   "source": [
    "insu_data.columns"
   ]
  },
  {
   "cell_type": "code",
   "execution_count": 8,
   "metadata": {
    "id": "V6cu_5E9BVW3"
   },
   "outputs": [],
   "source": [
    "insu_data.rename(columns={'Hospital County':'hospital_county','Hospital Id':'hospital_id','Home or self care,':'home_self_care','Mortality risk':'mortality_risk','Emergency dept_yes/No':'emergency_dept_yes_no'},inplace=True)"
   ]
  },
  {
   "cell_type": "code",
   "execution_count": 9,
   "metadata": {
    "colab": {
     "base_uri": "https://localhost:8080/"
    },
    "id": "UayT4e4KBbzs",
    "outputId": "4fd1f4ad-a6da-490a-fd03-e54ffb379b52"
   },
   "outputs": [
    {
     "data": {
      "text/plain": [
       "Index(['Area_Service', 'hospital_county', 'hospital_id', 'Age', 'Gender',\n",
       "       'Cultural_group', 'ethnicity', 'Days_spend_hsptl', 'Admission_type',\n",
       "       'home_self_care', 'ccs_diagnosis_code', 'ccs_procedure_code',\n",
       "       'apr_drg_description', 'Code_illness', 'mortality_risk',\n",
       "       'Surg_Description', 'Weight_baby', 'Abortion', 'emergency_dept_yes_no',\n",
       "       'Tot_charg', 'Tot_cost', 'ratio_of_total_costs_to_total_charges',\n",
       "       'Result', 'Payment_Typology'],\n",
       "      dtype='object')"
      ]
     },
     "execution_count": 9,
     "metadata": {},
     "output_type": "execute_result"
    }
   ],
   "source": [
    "insu_data.columns"
   ]
  },
  {
   "cell_type": "code",
   "execution_count": 10,
   "metadata": {
    "colab": {
     "base_uri": "https://localhost:8080/",
     "height": 317
    },
    "id": "0mE45_q_BfHu",
    "outputId": "48755bfb-9db7-40f2-8b29-9a6c0517cdbb"
   },
   "outputs": [
    {
     "data": {
      "text/html": [
       "<div>\n",
       "<style scoped>\n",
       "    .dataframe tbody tr th:only-of-type {\n",
       "        vertical-align: middle;\n",
       "    }\n",
       "\n",
       "    .dataframe tbody tr th {\n",
       "        vertical-align: top;\n",
       "    }\n",
       "\n",
       "    .dataframe thead th {\n",
       "        text-align: right;\n",
       "    }\n",
       "</style>\n",
       "<table border=\"1\" class=\"dataframe\">\n",
       "  <thead>\n",
       "    <tr style=\"text-align: right;\">\n",
       "      <th></th>\n",
       "      <th>hospital_id</th>\n",
       "      <th>ccs_diagnosis_code</th>\n",
       "      <th>ccs_procedure_code</th>\n",
       "      <th>Code_illness</th>\n",
       "      <th>mortality_risk</th>\n",
       "      <th>Weight_baby</th>\n",
       "      <th>Tot_charg</th>\n",
       "      <th>Tot_cost</th>\n",
       "      <th>ratio_of_total_costs_to_total_charges</th>\n",
       "      <th>Result</th>\n",
       "      <th>Payment_Typology</th>\n",
       "    </tr>\n",
       "  </thead>\n",
       "  <tbody>\n",
       "    <tr>\n",
       "      <th>count</th>\n",
       "      <td>1.046119e+06</td>\n",
       "      <td>1.048575e+06</td>\n",
       "      <td>1.048575e+06</td>\n",
       "      <td>1.048575e+06</td>\n",
       "      <td>1.048533e+06</td>\n",
       "      <td>1.048575e+06</td>\n",
       "      <td>1.048575e+06</td>\n",
       "      <td>1.048575e+06</td>\n",
       "      <td>1.048575e+06</td>\n",
       "      <td>1.048575e+06</td>\n",
       "      <td>1.048575e+06</td>\n",
       "    </tr>\n",
       "    <tr>\n",
       "      <th>mean</th>\n",
       "      <td>6.529400e+02</td>\n",
       "      <td>1.987936e+02</td>\n",
       "      <td>9.723249e+01</td>\n",
       "      <td>2.051806e+00</td>\n",
       "      <td>1.748955e+00</td>\n",
       "      <td>2.935512e+02</td>\n",
       "      <td>2.708697e+04</td>\n",
       "      <td>1.046399e+04</td>\n",
       "      <td>4.565822e-01</td>\n",
       "      <td>7.499769e-01</td>\n",
       "      <td>1.935755e+00</td>\n",
       "    </tr>\n",
       "    <tr>\n",
       "      <th>std</th>\n",
       "      <td>6.711577e+02</td>\n",
       "      <td>1.652839e+02</td>\n",
       "      <td>8.732697e+01</td>\n",
       "      <td>9.145785e-01</td>\n",
       "      <td>9.864236e-01</td>\n",
       "      <td>9.494631e+02</td>\n",
       "      <td>5.487428e+04</td>\n",
       "      <td>2.230366e+04</td>\n",
       "      <td>8.029246e-01</td>\n",
       "      <td>4.330263e-01</td>\n",
       "      <td>7.717916e-01</td>\n",
       "    </tr>\n",
       "    <tr>\n",
       "      <th>min</th>\n",
       "      <td>1.000000e+00</td>\n",
       "      <td>1.000000e+00</td>\n",
       "      <td>0.000000e+00</td>\n",
       "      <td>0.000000e+00</td>\n",
       "      <td>1.000000e+00</td>\n",
       "      <td>0.000000e+00</td>\n",
       "      <td>3.100000e-01</td>\n",
       "      <td>1.000000e-01</td>\n",
       "      <td>3.312909e-02</td>\n",
       "      <td>0.000000e+00</td>\n",
       "      <td>1.000000e+00</td>\n",
       "    </tr>\n",
       "    <tr>\n",
       "      <th>25%</th>\n",
       "      <td>2.130000e+02</td>\n",
       "      <td>1.080000e+02</td>\n",
       "      <td>0.000000e+00</td>\n",
       "      <td>1.000000e+00</td>\n",
       "      <td>1.000000e+00</td>\n",
       "      <td>0.000000e+00</td>\n",
       "      <td>7.402500e+03</td>\n",
       "      <td>3.234570e+03</td>\n",
       "      <td>3.135802e-01</td>\n",
       "      <td>0.000000e+00</td>\n",
       "      <td>1.000000e+00</td>\n",
       "    </tr>\n",
       "    <tr>\n",
       "      <th>50%</th>\n",
       "      <td>6.300000e+02</td>\n",
       "      <td>1.590000e+02</td>\n",
       "      <td>9.000000e+01</td>\n",
       "      <td>2.000000e+00</td>\n",
       "      <td>1.000000e+00</td>\n",
       "      <td>0.000000e+00</td>\n",
       "      <td>1.458988e+04</td>\n",
       "      <td>5.928480e+03</td>\n",
       "      <td>4.091384e-01</td>\n",
       "      <td>1.000000e+00</td>\n",
       "      <td>2.000000e+00</td>\n",
       "    </tr>\n",
       "    <tr>\n",
       "      <th>75%</th>\n",
       "      <td>9.770000e+02</td>\n",
       "      <td>2.180000e+02</td>\n",
       "      <td>1.740000e+02</td>\n",
       "      <td>3.000000e+00</td>\n",
       "      <td>3.000000e+00</td>\n",
       "      <td>0.000000e+00</td>\n",
       "      <td>2.914547e+04</td>\n",
       "      <td>1.134317e+04</td>\n",
       "      <td>5.192548e-01</td>\n",
       "      <td>1.000000e+00</td>\n",
       "      <td>3.000000e+00</td>\n",
       "    </tr>\n",
       "    <tr>\n",
       "      <th>max</th>\n",
       "      <td>9.250000e+03</td>\n",
       "      <td>6.700000e+02</td>\n",
       "      <td>2.310000e+02</td>\n",
       "      <td>4.000000e+00</td>\n",
       "      <td>4.000000e+00</td>\n",
       "      <td>9.000000e+03</td>\n",
       "      <td>6.196974e+06</td>\n",
       "      <td>2.562478e+06</td>\n",
       "      <td>1.575596e+02</td>\n",
       "      <td>1.000000e+00</td>\n",
       "      <td>5.000000e+00</td>\n",
       "    </tr>\n",
       "  </tbody>\n",
       "</table>\n",
       "</div>"
      ],
      "text/plain": [
       "        hospital_id  ccs_diagnosis_code  ccs_procedure_code  Code_illness  \\\n",
       "count  1.046119e+06        1.048575e+06        1.048575e+06  1.048575e+06   \n",
       "mean   6.529400e+02        1.987936e+02        9.723249e+01  2.051806e+00   \n",
       "std    6.711577e+02        1.652839e+02        8.732697e+01  9.145785e-01   \n",
       "min    1.000000e+00        1.000000e+00        0.000000e+00  0.000000e+00   \n",
       "25%    2.130000e+02        1.080000e+02        0.000000e+00  1.000000e+00   \n",
       "50%    6.300000e+02        1.590000e+02        9.000000e+01  2.000000e+00   \n",
       "75%    9.770000e+02        2.180000e+02        1.740000e+02  3.000000e+00   \n",
       "max    9.250000e+03        6.700000e+02        2.310000e+02  4.000000e+00   \n",
       "\n",
       "       mortality_risk   Weight_baby     Tot_charg      Tot_cost  \\\n",
       "count    1.048533e+06  1.048575e+06  1.048575e+06  1.048575e+06   \n",
       "mean     1.748955e+00  2.935512e+02  2.708697e+04  1.046399e+04   \n",
       "std      9.864236e-01  9.494631e+02  5.487428e+04  2.230366e+04   \n",
       "min      1.000000e+00  0.000000e+00  3.100000e-01  1.000000e-01   \n",
       "25%      1.000000e+00  0.000000e+00  7.402500e+03  3.234570e+03   \n",
       "50%      1.000000e+00  0.000000e+00  1.458988e+04  5.928480e+03   \n",
       "75%      3.000000e+00  0.000000e+00  2.914547e+04  1.134317e+04   \n",
       "max      4.000000e+00  9.000000e+03  6.196974e+06  2.562478e+06   \n",
       "\n",
       "       ratio_of_total_costs_to_total_charges        Result  Payment_Typology  \n",
       "count                           1.048575e+06  1.048575e+06      1.048575e+06  \n",
       "mean                            4.565822e-01  7.499769e-01      1.935755e+00  \n",
       "std                             8.029246e-01  4.330263e-01      7.717916e-01  \n",
       "min                             3.312909e-02  0.000000e+00      1.000000e+00  \n",
       "25%                             3.135802e-01  0.000000e+00      1.000000e+00  \n",
       "50%                             4.091384e-01  1.000000e+00      2.000000e+00  \n",
       "75%                             5.192548e-01  1.000000e+00      3.000000e+00  \n",
       "max                             1.575596e+02  1.000000e+00      5.000000e+00  "
      ]
     },
     "execution_count": 10,
     "metadata": {},
     "output_type": "execute_result"
    }
   ],
   "source": [
    "insu_data.describe()"
   ]
  },
  {
   "cell_type": "code",
   "execution_count": 11,
   "metadata": {
    "colab": {
     "base_uri": "https://localhost:8080/"
    },
    "id": "HE9IuZhfBmP-",
    "outputId": "13cd8cb6-be29-4118-ebbd-e62db1bf6390"
   },
   "outputs": [
    {
     "name": "stdout",
     "output_type": "stream",
     "text": [
      "<class 'pandas.core.frame.DataFrame'>\n",
      "RangeIndex: 1048575 entries, 0 to 1048574\n",
      "Data columns (total 24 columns):\n",
      " #   Column                                 Non-Null Count    Dtype  \n",
      "---  ------                                 --------------    -----  \n",
      " 0   Area_Service                           1046119 non-null  object \n",
      " 1   hospital_county                        1046119 non-null  object \n",
      " 2   hospital_id                            1046119 non-null  float64\n",
      " 3   Age                                    1048575 non-null  object \n",
      " 4   Gender                                 1048575 non-null  object \n",
      " 5   Cultural_group                         1048575 non-null  object \n",
      " 6   ethnicity                              1048575 non-null  object \n",
      " 7   Days_spend_hsptl                       1048575 non-null  object \n",
      " 8   Admission_type                         1048575 non-null  object \n",
      " 9   home_self_care                         1048575 non-null  object \n",
      " 10  ccs_diagnosis_code                     1048575 non-null  int64  \n",
      " 11  ccs_procedure_code                     1048575 non-null  int64  \n",
      " 12  apr_drg_description                    1048575 non-null  object \n",
      " 13  Code_illness                           1048575 non-null  int64  \n",
      " 14  mortality_risk                         1048533 non-null  float64\n",
      " 15  Surg_Description                       1048575 non-null  object \n",
      " 16  Weight_baby                            1048575 non-null  int64  \n",
      " 17  Abortion                               1048575 non-null  object \n",
      " 18  emergency_dept_yes_no                  1048575 non-null  object \n",
      " 19  Tot_charg                              1048575 non-null  float64\n",
      " 20  Tot_cost                               1048575 non-null  float64\n",
      " 21  ratio_of_total_costs_to_total_charges  1048575 non-null  float64\n",
      " 22  Result                                 1048575 non-null  int64  \n",
      " 23  Payment_Typology                       1048575 non-null  int64  \n",
      "dtypes: float64(5), int64(6), object(13)\n",
      "memory usage: 192.0+ MB\n"
     ]
    }
   ],
   "source": [
    "insu_data.info()"
   ]
  },
  {
   "cell_type": "code",
   "execution_count": 12,
   "metadata": {
    "colab": {
     "base_uri": "https://localhost:8080/"
    },
    "id": "crQjICQRBvPh",
    "outputId": "2dc98009-b6bc-4801-9f9b-11411e1f6878",
    "scrolled": true
   },
   "outputs": [
    {
     "data": {
      "text/plain": [
       "['Area_Service',\n",
       " 'hospital_county',\n",
       " 'hospital_id',\n",
       " 'Age',\n",
       " 'Gender',\n",
       " 'Cultural_group',\n",
       " 'ethnicity',\n",
       " 'Days_spend_hsptl',\n",
       " 'Admission_type',\n",
       " 'home_self_care',\n",
       " 'ccs_diagnosis_code',\n",
       " 'ccs_procedure_code',\n",
       " 'apr_drg_description',\n",
       " 'Code_illness',\n",
       " 'mortality_risk',\n",
       " 'Surg_Description',\n",
       " 'Weight_baby',\n",
       " 'Abortion',\n",
       " 'emergency_dept_yes_no',\n",
       " 'Tot_charg',\n",
       " 'Tot_cost',\n",
       " 'ratio_of_total_costs_to_total_charges',\n",
       " 'Result',\n",
       " 'Payment_Typology']"
      ]
     },
     "execution_count": 12,
     "metadata": {},
     "output_type": "execute_result"
    }
   ],
   "source": [
    "insu_data_columns=['Area_Service', 'hospital_county', 'hospital_id', 'Age', 'Gender','Cultural_group', 'ethnicity', 'Days_spend_hsptl', 'Admission_type','home_self_care', 'ccs_diagnosis_code', 'ccs_procedure_code','apr_drg_description', 'Code_illness', 'mortality_risk','Surg_Description', 'Weight_baby', 'Abortion', 'emergency_dept_yes_no','Tot_charg', 'Tot_cost', 'ratio_of_total_costs_to_total_charges','Result', 'Payment_Typology']\n",
    "insu_data_columns"
   ]
  },
  {
   "cell_type": "code",
   "execution_count": 13,
   "metadata": {
    "colab": {
     "base_uri": "https://localhost:8080/"
    },
    "id": "jLTSEC7ZB1Gy",
    "outputId": "521da693-3c1c-4e3f-c3c0-f55c46682398"
   },
   "outputs": [
    {
     "name": "stdout",
     "output_type": "stream",
     "text": [
      "8\n",
      "52\n",
      "144\n",
      "5\n",
      "3\n",
      "4\n",
      "3\n",
      "120\n",
      "6\n",
      "19\n",
      "262\n",
      "230\n",
      "316\n",
      "5\n",
      "5\n",
      "3\n",
      "70\n",
      "2\n",
      "2\n",
      "869659\n",
      "766537\n",
      "987065\n",
      "2\n",
      "5\n"
     ]
    }
   ],
   "source": [
    "for i in insu_data_columns:\n",
    "   print(len(insu_data[i].unique()))"
   ]
  },
  {
   "cell_type": "markdown",
   "metadata": {
    "id": "ywBcfz38e3PV"
   },
   "source": [
    "### Check for null values if any"
   ]
  },
  {
   "cell_type": "code",
   "execution_count": 14,
   "metadata": {
    "colab": {
     "base_uri": "https://localhost:8080/"
    },
    "id": "wz41ZiaAB56o",
    "outputId": "6ec7dce0-f584-4a4d-e9ee-b6938a3fb076"
   },
   "outputs": [
    {
     "data": {
      "text/plain": [
       "Area_Service                             2456\n",
       "hospital_county                          2456\n",
       "hospital_id                              2456\n",
       "Age                                         0\n",
       "Gender                                      0\n",
       "Cultural_group                              0\n",
       "ethnicity                                   0\n",
       "Days_spend_hsptl                            0\n",
       "Admission_type                              0\n",
       "home_self_care                              0\n",
       "ccs_diagnosis_code                          0\n",
       "ccs_procedure_code                          0\n",
       "apr_drg_description                         0\n",
       "Code_illness                                0\n",
       "mortality_risk                             42\n",
       "Surg_Description                            0\n",
       "Weight_baby                                 0\n",
       "Abortion                                    0\n",
       "emergency_dept_yes_no                       0\n",
       "Tot_charg                                   0\n",
       "Tot_cost                                    0\n",
       "ratio_of_total_costs_to_total_charges       0\n",
       "Result                                      0\n",
       "Payment_Typology                            0\n",
       "dtype: int64"
      ]
     },
     "execution_count": 14,
     "metadata": {},
     "output_type": "execute_result"
    }
   ],
   "source": [
    "insu_data.isnull().sum()"
   ]
  },
  {
   "cell_type": "code",
   "execution_count": 15,
   "metadata": {
    "colab": {
     "base_uri": "https://localhost:8080/"
    },
    "id": "eWmD8WYkB-a-",
    "outputId": "923230ea-d958-4601-b75d-6d77d30151bd"
   },
   "outputs": [
    {
     "data": {
      "text/plain": [
       "Area_Service                             0.002342\n",
       "hospital_county                          0.002342\n",
       "hospital_id                              0.002342\n",
       "Age                                      0.000000\n",
       "Gender                                   0.000000\n",
       "Cultural_group                           0.000000\n",
       "ethnicity                                0.000000\n",
       "Days_spend_hsptl                         0.000000\n",
       "Admission_type                           0.000000\n",
       "home_self_care                           0.000000\n",
       "ccs_diagnosis_code                       0.000000\n",
       "ccs_procedure_code                       0.000000\n",
       "apr_drg_description                      0.000000\n",
       "Code_illness                             0.000000\n",
       "mortality_risk                           0.000040\n",
       "Surg_Description                         0.000000\n",
       "Weight_baby                              0.000000\n",
       "Abortion                                 0.000000\n",
       "emergency_dept_yes_no                    0.000000\n",
       "Tot_charg                                0.000000\n",
       "Tot_cost                                 0.000000\n",
       "ratio_of_total_costs_to_total_charges    0.000000\n",
       "Result                                   0.000000\n",
       "Payment_Typology                         0.000000\n",
       "dtype: float64"
      ]
     },
     "execution_count": 15,
     "metadata": {},
     "output_type": "execute_result"
    }
   ],
   "source": [
    "insu_data.isnull().mean()"
   ]
  },
  {
   "cell_type": "markdown",
   "metadata": {
    "id": "NqNBG1pqCFHx"
   },
   "source": [
    "#### Here we have percentage of null values as area of service=0.23, hospital_county=0.23, hospital_id=0.23, mortality_risk=0.04.\n",
    "#### So we replaced null values with central tendencies"
   ]
  },
  {
   "cell_type": "code",
   "execution_count": 16,
   "metadata": {
    "id": "ripVQMkaCJNE"
   },
   "outputs": [],
   "source": [
    "#filling missing values with Mode \n",
    "insu_data['Area_Service'] = insu_data['Area_Service'].fillna(insu_data['Area_Service'].mode()[0])\n",
    "insu_data['hospital_county'] = insu_data['hospital_county'].fillna(insu_data['hospital_county'].mode()[0])\n",
    "#filling Hospital Id missing values with Median \n",
    "insu_data['hospital_id'] = insu_data['hospital_id'].fillna(insu_data['hospital_id'].median())\n",
    "insu_data[\"mortality_risk\"].fillna(0,inplace=True)"
   ]
  },
  {
   "cell_type": "code",
   "execution_count": 17,
   "metadata": {},
   "outputs": [
    {
     "data": {
      "text/plain": [
       "Area_Service                             0\n",
       "hospital_county                          0\n",
       "hospital_id                              0\n",
       "Age                                      0\n",
       "Gender                                   0\n",
       "Cultural_group                           0\n",
       "ethnicity                                0\n",
       "Days_spend_hsptl                         0\n",
       "Admission_type                           0\n",
       "home_self_care                           0\n",
       "ccs_diagnosis_code                       0\n",
       "ccs_procedure_code                       0\n",
       "apr_drg_description                      0\n",
       "Code_illness                             0\n",
       "mortality_risk                           0\n",
       "Surg_Description                         0\n",
       "Weight_baby                              0\n",
       "Abortion                                 0\n",
       "emergency_dept_yes_no                    0\n",
       "Tot_charg                                0\n",
       "Tot_cost                                 0\n",
       "ratio_of_total_costs_to_total_charges    0\n",
       "Result                                   0\n",
       "Payment_Typology                         0\n",
       "dtype: int64"
      ]
     },
     "execution_count": 17,
     "metadata": {},
     "output_type": "execute_result"
    }
   ],
   "source": [
    "insu_data.isna().sum()"
   ]
  },
  {
   "cell_type": "markdown",
   "metadata": {},
   "source": [
    "# Feature Engineering"
   ]
  },
  {
   "cell_type": "markdown",
   "metadata": {
    "id": "3plUNdxEe3Pb"
   },
   "source": [
    "### Converting Categorical data to Numerical data"
   ]
  },
  {
   "cell_type": "code",
   "execution_count": 18,
   "metadata": {
    "id": "LdwZCtD2CTzx"
   },
   "outputs": [],
   "source": [
    "string_columns=['Area_Service','hospital_county','Age','Gender','Cultural_group','ethnicity','Admission_type','home_self_care','apr_drg_description','Surg_Description','Abortion','emergency_dept_yes_no']"
   ]
  },
  {
   "cell_type": "code",
   "execution_count": 19,
   "metadata": {
    "id": "mn8SC1QRCdwn"
   },
   "outputs": [],
   "source": [
    "from sklearn import preprocessing\n",
    "label_encoder=preprocessing.LabelEncoder()\n",
    "\n",
    "for i in string_columns:\n",
    "    insu_data[i]=label_encoder.fit_transform(insu_data[i])\n",
    "    "
   ]
  },
  {
   "cell_type": "code",
   "execution_count": 20,
   "metadata": {
    "colab": {
     "base_uri": "https://localhost:8080/",
     "height": 224
    },
    "id": "5v23jnK0CdtA",
    "outputId": "d2d58aed-ca23-49cb-a79a-5c37dfb951c1",
    "scrolled": true
   },
   "outputs": [
    {
     "data": {
      "text/html": [
       "<div>\n",
       "<style scoped>\n",
       "    .dataframe tbody tr th:only-of-type {\n",
       "        vertical-align: middle;\n",
       "    }\n",
       "\n",
       "    .dataframe tbody tr th {\n",
       "        vertical-align: top;\n",
       "    }\n",
       "\n",
       "    .dataframe thead th {\n",
       "        text-align: right;\n",
       "    }\n",
       "</style>\n",
       "<table border=\"1\" class=\"dataframe\">\n",
       "  <thead>\n",
       "    <tr style=\"text-align: right;\">\n",
       "      <th></th>\n",
       "      <th>Area_Service</th>\n",
       "      <th>hospital_county</th>\n",
       "      <th>hospital_id</th>\n",
       "      <th>Age</th>\n",
       "      <th>Gender</th>\n",
       "      <th>Cultural_group</th>\n",
       "      <th>ethnicity</th>\n",
       "      <th>Days_spend_hsptl</th>\n",
       "      <th>Admission_type</th>\n",
       "      <th>home_self_care</th>\n",
       "      <th>...</th>\n",
       "      <th>mortality_risk</th>\n",
       "      <th>Surg_Description</th>\n",
       "      <th>Weight_baby</th>\n",
       "      <th>Abortion</th>\n",
       "      <th>emergency_dept_yes_no</th>\n",
       "      <th>Tot_charg</th>\n",
       "      <th>Tot_cost</th>\n",
       "      <th>ratio_of_total_costs_to_total_charges</th>\n",
       "      <th>Result</th>\n",
       "      <th>Payment_Typology</th>\n",
       "    </tr>\n",
       "  </thead>\n",
       "  <tbody>\n",
       "    <tr>\n",
       "      <th>0</th>\n",
       "      <td>6</td>\n",
       "      <td>1</td>\n",
       "      <td>37.0</td>\n",
       "      <td>2</td>\n",
       "      <td>0</td>\n",
       "      <td>3</td>\n",
       "      <td>0</td>\n",
       "      <td>4</td>\n",
       "      <td>0</td>\n",
       "      <td>7</td>\n",
       "      <td>...</td>\n",
       "      <td>1.0</td>\n",
       "      <td>0</td>\n",
       "      <td>0</td>\n",
       "      <td>0</td>\n",
       "      <td>1</td>\n",
       "      <td>5511.95</td>\n",
       "      <td>5582.49</td>\n",
       "      <td>1.012798</td>\n",
       "      <td>1</td>\n",
       "      <td>1</td>\n",
       "    </tr>\n",
       "    <tr>\n",
       "      <th>1</th>\n",
       "      <td>6</td>\n",
       "      <td>1</td>\n",
       "      <td>37.0</td>\n",
       "      <td>4</td>\n",
       "      <td>0</td>\n",
       "      <td>3</td>\n",
       "      <td>0</td>\n",
       "      <td>4</td>\n",
       "      <td>5</td>\n",
       "      <td>17</td>\n",
       "      <td>...</td>\n",
       "      <td>2.0</td>\n",
       "      <td>0</td>\n",
       "      <td>0</td>\n",
       "      <td>0</td>\n",
       "      <td>1</td>\n",
       "      <td>4783.20</td>\n",
       "      <td>5162.82</td>\n",
       "      <td>1.079365</td>\n",
       "      <td>1</td>\n",
       "      <td>1</td>\n",
       "    </tr>\n",
       "    <tr>\n",
       "      <th>2</th>\n",
       "      <td>6</td>\n",
       "      <td>1</td>\n",
       "      <td>37.0</td>\n",
       "      <td>2</td>\n",
       "      <td>0</td>\n",
       "      <td>3</td>\n",
       "      <td>0</td>\n",
       "      <td>3</td>\n",
       "      <td>5</td>\n",
       "      <td>7</td>\n",
       "      <td>...</td>\n",
       "      <td>1.0</td>\n",
       "      <td>0</td>\n",
       "      <td>0</td>\n",
       "      <td>0</td>\n",
       "      <td>1</td>\n",
       "      <td>3829.15</td>\n",
       "      <td>4056.52</td>\n",
       "      <td>1.059379</td>\n",
       "      <td>1</td>\n",
       "      <td>1</td>\n",
       "    </tr>\n",
       "    <tr>\n",
       "      <th>3</th>\n",
       "      <td>6</td>\n",
       "      <td>1</td>\n",
       "      <td>37.0</td>\n",
       "      <td>0</td>\n",
       "      <td>0</td>\n",
       "      <td>3</td>\n",
       "      <td>0</td>\n",
       "      <td>1</td>\n",
       "      <td>5</td>\n",
       "      <td>7</td>\n",
       "      <td>...</td>\n",
       "      <td>1.0</td>\n",
       "      <td>0</td>\n",
       "      <td>0</td>\n",
       "      <td>0</td>\n",
       "      <td>1</td>\n",
       "      <td>1108.20</td>\n",
       "      <td>1644.75</td>\n",
       "      <td>1.484167</td>\n",
       "      <td>0</td>\n",
       "      <td>1</td>\n",
       "    </tr>\n",
       "    <tr>\n",
       "      <th>4</th>\n",
       "      <td>6</td>\n",
       "      <td>1</td>\n",
       "      <td>37.0</td>\n",
       "      <td>4</td>\n",
       "      <td>0</td>\n",
       "      <td>3</td>\n",
       "      <td>0</td>\n",
       "      <td>3</td>\n",
       "      <td>0</td>\n",
       "      <td>7</td>\n",
       "      <td>...</td>\n",
       "      <td>3.0</td>\n",
       "      <td>0</td>\n",
       "      <td>0</td>\n",
       "      <td>0</td>\n",
       "      <td>1</td>\n",
       "      <td>3418.18</td>\n",
       "      <td>3370.87</td>\n",
       "      <td>0.986161</td>\n",
       "      <td>1</td>\n",
       "      <td>1</td>\n",
       "    </tr>\n",
       "  </tbody>\n",
       "</table>\n",
       "<p>5 rows × 24 columns</p>\n",
       "</div>"
      ],
      "text/plain": [
       "   Area_Service  hospital_county  hospital_id  Age  Gender  Cultural_group  \\\n",
       "0             6                1         37.0    2       0               3   \n",
       "1             6                1         37.0    4       0               3   \n",
       "2             6                1         37.0    2       0               3   \n",
       "3             6                1         37.0    0       0               3   \n",
       "4             6                1         37.0    4       0               3   \n",
       "\n",
       "   ethnicity Days_spend_hsptl  Admission_type  home_self_care  ...  \\\n",
       "0          0                4               0               7  ...   \n",
       "1          0                4               5              17  ...   \n",
       "2          0                3               5               7  ...   \n",
       "3          0                1               5               7  ...   \n",
       "4          0                3               0               7  ...   \n",
       "\n",
       "   mortality_risk  Surg_Description  Weight_baby  Abortion  \\\n",
       "0             1.0                 0            0         0   \n",
       "1             2.0                 0            0         0   \n",
       "2             1.0                 0            0         0   \n",
       "3             1.0                 0            0         0   \n",
       "4             3.0                 0            0         0   \n",
       "\n",
       "   emergency_dept_yes_no  Tot_charg  Tot_cost  \\\n",
       "0                      1    5511.95   5582.49   \n",
       "1                      1    4783.20   5162.82   \n",
       "2                      1    3829.15   4056.52   \n",
       "3                      1    1108.20   1644.75   \n",
       "4                      1    3418.18   3370.87   \n",
       "\n",
       "   ratio_of_total_costs_to_total_charges  Result  Payment_Typology  \n",
       "0                               1.012798       1                 1  \n",
       "1                               1.079365       1                 1  \n",
       "2                               1.059379       1                 1  \n",
       "3                               1.484167       0                 1  \n",
       "4                               0.986161       1                 1  \n",
       "\n",
       "[5 rows x 24 columns]"
      ]
     },
     "execution_count": 20,
     "metadata": {},
     "output_type": "execute_result"
    }
   ],
   "source": [
    "insu_data.head()"
   ]
  },
  {
   "cell_type": "code",
   "execution_count": 21,
   "metadata": {
    "colab": {
     "base_uri": "https://localhost:8080/"
    },
    "id": "WSBF_1PRCpBI",
    "outputId": "3fc71be8-b3ea-4c46-d2b1-1ff908e27cf8"
   },
   "outputs": [
    {
     "name": "stdout",
     "output_type": "stream",
     "text": [
      "<class 'pandas.core.frame.DataFrame'>\n",
      "RangeIndex: 1048575 entries, 0 to 1048574\n",
      "Data columns (total 24 columns):\n",
      " #   Column                                 Non-Null Count    Dtype  \n",
      "---  ------                                 --------------    -----  \n",
      " 0   Area_Service                           1048575 non-null  int32  \n",
      " 1   hospital_county                        1048575 non-null  int32  \n",
      " 2   hospital_id                            1048575 non-null  float64\n",
      " 3   Age                                    1048575 non-null  int32  \n",
      " 4   Gender                                 1048575 non-null  int32  \n",
      " 5   Cultural_group                         1048575 non-null  int32  \n",
      " 6   ethnicity                              1048575 non-null  int32  \n",
      " 7   Days_spend_hsptl                       1048575 non-null  object \n",
      " 8   Admission_type                         1048575 non-null  int32  \n",
      " 9   home_self_care                         1048575 non-null  int32  \n",
      " 10  ccs_diagnosis_code                     1048575 non-null  int64  \n",
      " 11  ccs_procedure_code                     1048575 non-null  int64  \n",
      " 12  apr_drg_description                    1048575 non-null  int32  \n",
      " 13  Code_illness                           1048575 non-null  int64  \n",
      " 14  mortality_risk                         1048575 non-null  float64\n",
      " 15  Surg_Description                       1048575 non-null  int32  \n",
      " 16  Weight_baby                            1048575 non-null  int64  \n",
      " 17  Abortion                               1048575 non-null  int32  \n",
      " 18  emergency_dept_yes_no                  1048575 non-null  int32  \n",
      " 19  Tot_charg                              1048575 non-null  float64\n",
      " 20  Tot_cost                               1048575 non-null  float64\n",
      " 21  ratio_of_total_costs_to_total_charges  1048575 non-null  float64\n",
      " 22  Result                                 1048575 non-null  int64  \n",
      " 23  Payment_Typology                       1048575 non-null  int64  \n",
      "dtypes: float64(5), int32(12), int64(6), object(1)\n",
      "memory usage: 144.0+ MB\n"
     ]
    }
   ],
   "source": [
    "insu_data.info()"
   ]
  },
  {
   "cell_type": "code",
   "execution_count": 22,
   "metadata": {
    "colab": {
     "base_uri": "https://localhost:8080/"
    },
    "id": "uYNuVbqgCvib",
    "outputId": "d447e205-5d3b-47ac-fbd8-c8d842a4834e"
   },
   "outputs": [
    {
     "data": {
      "text/plain": [
       "array(['4', '3', '1', '2', '5', '6', '14', '12', '9', '8', '10', '7',\n",
       "       '22', '11', '16', '15', '25', '13', '17', '28', '18', '19', '23',\n",
       "       '38', '20', '24', '26', '21', '27', '30', '29', '39', '87', '35',\n",
       "       '37', '32', '55', '56', '49', '110', '69', '75', '42', '51', '47',\n",
       "       '45', '46', '40', '34', '79', '43', '120 +', '65', '41', '31',\n",
       "       '50', '59', '44', '36', '70', '115', '58', '94', '33', '68', '67',\n",
       "       '54', '80', '85', '95', '78', '91', '88', '48', '52', '63', '57',\n",
       "       '74', '64', '53', '62', '97', '72', '118', '81', '90', '86', '106',\n",
       "       '112', '105', '114', '66', '89', '83', '84', '82', '93', '116',\n",
       "       '71', '60', '73', '61', '92', '76', '96', '77', '104', '100',\n",
       "       '103', '102', '117', '108', '99', '107', '98', '101', '119', '111',\n",
       "       '109', '113'], dtype=object)"
      ]
     },
     "execution_count": 22,
     "metadata": {},
     "output_type": "execute_result"
    }
   ],
   "source": [
    "insu_data['Days_spend_hsptl'].unique()"
   ]
  },
  {
   "cell_type": "markdown",
   "metadata": {},
   "source": [
    "#### Here Days_spend_hsptl is numerical but it is showing as object, So convert it to int and replacing '120+' with numeric value"
   ]
  },
  {
   "cell_type": "code",
   "execution_count": 23,
   "metadata": {
    "colab": {
     "base_uri": "https://localhost:8080/"
    },
    "id": "5c-eiJLxC0YX",
    "outputId": "0454c279-1b94-48cf-8d98-29eab9e054b7"
   },
   "outputs": [
    {
     "data": {
      "text/plain": [
       "2      236538\n",
       "3      190386\n",
       "1      155855\n",
       "4      113797\n",
       "5       73684\n",
       "        ...  \n",
       "107        20\n",
       "108        20\n",
       "110        19\n",
       "101        15\n",
       "113         7\n",
       "Name: Days_spend_hsptl, Length: 120, dtype: int64"
      ]
     },
     "execution_count": 23,
     "metadata": {},
     "output_type": "execute_result"
    }
   ],
   "source": [
    "insu_data['Days_spend_hsptl'].value_counts()"
   ]
  },
  {
   "cell_type": "code",
   "execution_count": 24,
   "metadata": {
    "id": "UcaycCmDC5T8"
   },
   "outputs": [],
   "source": [
    "insu_data['Days_spend_hsptl'].replace(to_replace='120 +',value='121',inplace=True)"
   ]
  },
  {
   "cell_type": "code",
   "execution_count": 25,
   "metadata": {
    "id": "WjCtJoWPC8eH"
   },
   "outputs": [],
   "source": [
    "insu_data['Days_spend_hsptl']=insu_data['Days_spend_hsptl'].astype('int64')"
   ]
  },
  {
   "cell_type": "code",
   "execution_count": 26,
   "metadata": {
    "colab": {
     "base_uri": "https://localhost:8080/"
    },
    "id": "072Dk0r9DAfX",
    "outputId": "7a6853a6-fc14-45ae-81d8-5c176e74f8fc"
   },
   "outputs": [
    {
     "data": {
      "text/plain": [
       "array([  4,   3,   1,   2,   5,   6,  14,  12,   9,   8,  10,   7,  22,\n",
       "        11,  16,  15,  25,  13,  17,  28,  18,  19,  23,  38,  20,  24,\n",
       "        26,  21,  27,  30,  29,  39,  87,  35,  37,  32,  55,  56,  49,\n",
       "       110,  69,  75,  42,  51,  47,  45,  46,  40,  34,  79,  43, 121,\n",
       "        65,  41,  31,  50,  59,  44,  36,  70, 115,  58,  94,  33,  68,\n",
       "        67,  54,  80,  85,  95,  78,  91,  88,  48,  52,  63,  57,  74,\n",
       "        64,  53,  62,  97,  72, 118,  81,  90,  86, 106, 112, 105, 114,\n",
       "        66,  89,  83,  84,  82,  93, 116,  71,  60,  73,  61,  92,  76,\n",
       "        96,  77, 104, 100, 103, 102, 117, 108,  99, 107,  98, 101, 119,\n",
       "       111, 109, 113], dtype=int64)"
      ]
     },
     "execution_count": 26,
     "metadata": {},
     "output_type": "execute_result"
    }
   ],
   "source": [
    "insu_data['Days_spend_hsptl'].unique()"
   ]
  },
  {
   "cell_type": "code",
   "execution_count": 27,
   "metadata": {
    "colab": {
     "base_uri": "https://localhost:8080/"
    },
    "id": "1lx_ZgTlDGca",
    "outputId": "4f247261-befe-479d-ff7f-5c58a4c7edbf"
   },
   "outputs": [
    {
     "name": "stdout",
     "output_type": "stream",
     "text": [
      "<class 'pandas.core.frame.DataFrame'>\n",
      "RangeIndex: 1048575 entries, 0 to 1048574\n",
      "Data columns (total 24 columns):\n",
      " #   Column                                 Non-Null Count    Dtype  \n",
      "---  ------                                 --------------    -----  \n",
      " 0   Area_Service                           1048575 non-null  int32  \n",
      " 1   hospital_county                        1048575 non-null  int32  \n",
      " 2   hospital_id                            1048575 non-null  float64\n",
      " 3   Age                                    1048575 non-null  int32  \n",
      " 4   Gender                                 1048575 non-null  int32  \n",
      " 5   Cultural_group                         1048575 non-null  int32  \n",
      " 6   ethnicity                              1048575 non-null  int32  \n",
      " 7   Days_spend_hsptl                       1048575 non-null  int64  \n",
      " 8   Admission_type                         1048575 non-null  int32  \n",
      " 9   home_self_care                         1048575 non-null  int32  \n",
      " 10  ccs_diagnosis_code                     1048575 non-null  int64  \n",
      " 11  ccs_procedure_code                     1048575 non-null  int64  \n",
      " 12  apr_drg_description                    1048575 non-null  int32  \n",
      " 13  Code_illness                           1048575 non-null  int64  \n",
      " 14  mortality_risk                         1048575 non-null  float64\n",
      " 15  Surg_Description                       1048575 non-null  int32  \n",
      " 16  Weight_baby                            1048575 non-null  int64  \n",
      " 17  Abortion                               1048575 non-null  int32  \n",
      " 18  emergency_dept_yes_no                  1048575 non-null  int32  \n",
      " 19  Tot_charg                              1048575 non-null  float64\n",
      " 20  Tot_cost                               1048575 non-null  float64\n",
      " 21  ratio_of_total_costs_to_total_charges  1048575 non-null  float64\n",
      " 22  Result                                 1048575 non-null  int64  \n",
      " 23  Payment_Typology                       1048575 non-null  int64  \n",
      "dtypes: float64(5), int32(12), int64(7)\n",
      "memory usage: 144.0 MB\n"
     ]
    }
   ],
   "source": [
    "insu_data.info()"
   ]
  },
  {
   "cell_type": "markdown",
   "metadata": {
    "id": "kthlFTFoDMSS"
   },
   "source": [
    "### let us check for duplicated values if any and delete them"
   ]
  },
  {
   "cell_type": "code",
   "execution_count": 28,
   "metadata": {
    "colab": {
     "base_uri": "https://localhost:8080/"
    },
    "id": "4PHkIKniDLFu",
    "outputId": "f6261639-08dc-4cab-accd-b8885e037d34"
   },
   "outputs": [
    {
     "data": {
      "text/plain": [
       "4814"
      ]
     },
     "execution_count": 28,
     "metadata": {},
     "output_type": "execute_result"
    }
   ],
   "source": [
    "insu_data.duplicated(keep='first').sum()"
   ]
  },
  {
   "cell_type": "code",
   "execution_count": 29,
   "metadata": {
    "id": "alTWpkFsDU3n"
   },
   "outputs": [],
   "source": [
    "insu_data.drop_duplicates(keep='first',inplace=True)"
   ]
  },
  {
   "cell_type": "code",
   "execution_count": 30,
   "metadata": {
    "colab": {
     "base_uri": "https://localhost:8080/"
    },
    "id": "ow1Iz0JNDY1x",
    "outputId": "57957cc5-8e79-4f5d-c116-2929630d703f"
   },
   "outputs": [
    {
     "data": {
      "text/plain": [
       "(1043761, 24)"
      ]
     },
     "execution_count": 30,
     "metadata": {},
     "output_type": "execute_result"
    }
   ],
   "source": [
    "insu_data.shape"
   ]
  },
  {
   "cell_type": "markdown",
   "metadata": {
    "id": "0dV2lNlWDduu"
   },
   "source": [
    "#### here Abortion column may create biasness since there is only one category so delete that feature"
   ]
  },
  {
   "cell_type": "code",
   "execution_count": 31,
   "metadata": {
    "id": "dKjypEXnDgIA"
   },
   "outputs": [],
   "source": [
    "insu_data.drop(columns=['Abortion'],inplace=True)"
   ]
  },
  {
   "cell_type": "code",
   "execution_count": 32,
   "metadata": {
    "colab": {
     "base_uri": "https://localhost:8080/"
    },
    "id": "Q-741tzRDnPP",
    "outputId": "5da93d26-49e6-4b83-8ae8-6e0e014c310d"
   },
   "outputs": [
    {
     "data": {
      "text/plain": [
       "(1043761, 23)"
      ]
     },
     "execution_count": 32,
     "metadata": {},
     "output_type": "execute_result"
    }
   ],
   "source": [
    "insu_data.shape"
   ]
  },
  {
   "cell_type": "markdown",
   "metadata": {
    "id": "-onTuh3QDt83"
   },
   "source": [
    "### Check for Skewness "
   ]
  },
  {
   "cell_type": "code",
   "execution_count": 33,
   "metadata": {
    "colab": {
     "base_uri": "https://localhost:8080/"
    },
    "id": "LYCfFSS0Dqyw",
    "outputId": "2b290c4b-a65c-411e-e404-0fadadc9c58a",
    "scrolled": true
   },
   "outputs": [
    {
     "data": {
      "text/plain": [
       "Area_Service                              0.367990\n",
       "hospital_county                           0.066411\n",
       "hospital_id                               6.557838\n",
       "Age                                      -0.526208\n",
       "Gender                                    0.266477\n",
       "Cultural_group                           -1.307642\n",
       "ethnicity                                 2.756222\n",
       "Days_spend_hsptl                          6.565761\n",
       "Admission_type                            1.845107\n",
       "home_self_care                            1.688921\n",
       "ccs_diagnosis_code                        1.946566\n",
       "ccs_procedure_code                        0.221264\n",
       "apr_drg_description                       0.021904\n",
       "Code_illness                              0.443766\n",
       "mortality_risk                            0.867942\n",
       "Surg_Description                          1.266184\n",
       "Weight_baby                               3.110764\n",
       "emergency_dept_yes_no                    -0.260972\n",
       "Tot_charg                                18.074458\n",
       "Tot_cost                                 27.554971\n",
       "ratio_of_total_costs_to_total_charges    95.725052\n",
       "Result                                   -1.150973\n",
       "Payment_Typology                          0.154035\n",
       "dtype: float64"
      ]
     },
     "execution_count": 33,
     "metadata": {},
     "output_type": "execute_result"
    }
   ],
   "source": [
    "insu_data.skew()"
   ]
  },
  {
   "cell_type": "code",
   "execution_count": 34,
   "metadata": {
    "colab": {
     "base_uri": "https://localhost:8080/"
    },
    "id": "IRyvJv8-ER2r",
    "outputId": "b8a1aaed-025d-4a67-a259-b3bd83e71ac3"
   },
   "outputs": [
    {
     "data": {
      "text/plain": [
       "Index(['Area_Service', 'hospital_county', 'hospital_id', 'Age', 'Gender',\n",
       "       'Cultural_group', 'ethnicity', 'Days_spend_hsptl', 'Admission_type',\n",
       "       'home_self_care', 'ccs_diagnosis_code', 'ccs_procedure_code',\n",
       "       'apr_drg_description', 'Code_illness', 'mortality_risk',\n",
       "       'Surg_Description', 'Weight_baby', 'emergency_dept_yes_no', 'Tot_charg',\n",
       "       'Tot_cost', 'ratio_of_total_costs_to_total_charges', 'Result',\n",
       "       'Payment_Typology'],\n",
       "      dtype='object')"
      ]
     },
     "execution_count": 34,
     "metadata": {},
     "output_type": "execute_result"
    }
   ],
   "source": [
    "insu_data.columns"
   ]
  },
  {
   "cell_type": "markdown",
   "metadata": {
    "id": "fcfAVu3mEWaD"
   },
   "source": [
    "#### From Analysis it is observed that hospital_id,hospital_county,Weight_baby,apr_drg_description, ratio_of_total_costs_to_total_charges are some of features  which are not impacting much, So we are dropping those features\n"
   ]
  },
  {
   "cell_type": "code",
   "execution_count": 35,
   "metadata": {
    "colab": {
     "base_uri": "https://localhost:8080/",
     "height": 224
    },
    "id": "jNzsZMj4FFH2",
    "outputId": "b1879947-ddb9-4e56-9f99-6dec268a6ca4"
   },
   "outputs": [
    {
     "data": {
      "text/html": [
       "<div>\n",
       "<style scoped>\n",
       "    .dataframe tbody tr th:only-of-type {\n",
       "        vertical-align: middle;\n",
       "    }\n",
       "\n",
       "    .dataframe tbody tr th {\n",
       "        vertical-align: top;\n",
       "    }\n",
       "\n",
       "    .dataframe thead th {\n",
       "        text-align: right;\n",
       "    }\n",
       "</style>\n",
       "<table border=\"1\" class=\"dataframe\">\n",
       "  <thead>\n",
       "    <tr style=\"text-align: right;\">\n",
       "      <th></th>\n",
       "      <th>Area_Service</th>\n",
       "      <th>Age</th>\n",
       "      <th>Gender</th>\n",
       "      <th>Cultural_group</th>\n",
       "      <th>ethnicity</th>\n",
       "      <th>Days_spend_hsptl</th>\n",
       "      <th>Admission_type</th>\n",
       "      <th>home_self_care</th>\n",
       "      <th>ccs_diagnosis_code</th>\n",
       "      <th>ccs_procedure_code</th>\n",
       "      <th>Code_illness</th>\n",
       "      <th>mortality_risk</th>\n",
       "      <th>Surg_Description</th>\n",
       "      <th>emergency_dept_yes_no</th>\n",
       "      <th>Tot_charg</th>\n",
       "      <th>Tot_cost</th>\n",
       "      <th>Result</th>\n",
       "      <th>Payment_Typology</th>\n",
       "    </tr>\n",
       "  </thead>\n",
       "  <tbody>\n",
       "    <tr>\n",
       "      <th>0</th>\n",
       "      <td>6</td>\n",
       "      <td>2</td>\n",
       "      <td>0</td>\n",
       "      <td>3</td>\n",
       "      <td>0</td>\n",
       "      <td>4</td>\n",
       "      <td>0</td>\n",
       "      <td>7</td>\n",
       "      <td>122</td>\n",
       "      <td>0</td>\n",
       "      <td>1</td>\n",
       "      <td>1.0</td>\n",
       "      <td>0</td>\n",
       "      <td>1</td>\n",
       "      <td>5511.95</td>\n",
       "      <td>5582.49</td>\n",
       "      <td>1</td>\n",
       "      <td>1</td>\n",
       "    </tr>\n",
       "    <tr>\n",
       "      <th>1</th>\n",
       "      <td>6</td>\n",
       "      <td>4</td>\n",
       "      <td>0</td>\n",
       "      <td>3</td>\n",
       "      <td>0</td>\n",
       "      <td>4</td>\n",
       "      <td>5</td>\n",
       "      <td>17</td>\n",
       "      <td>197</td>\n",
       "      <td>0</td>\n",
       "      <td>3</td>\n",
       "      <td>2.0</td>\n",
       "      <td>0</td>\n",
       "      <td>1</td>\n",
       "      <td>4783.20</td>\n",
       "      <td>5162.82</td>\n",
       "      <td>1</td>\n",
       "      <td>1</td>\n",
       "    </tr>\n",
       "    <tr>\n",
       "      <th>2</th>\n",
       "      <td>6</td>\n",
       "      <td>2</td>\n",
       "      <td>0</td>\n",
       "      <td>3</td>\n",
       "      <td>0</td>\n",
       "      <td>3</td>\n",
       "      <td>5</td>\n",
       "      <td>7</td>\n",
       "      <td>122</td>\n",
       "      <td>0</td>\n",
       "      <td>1</td>\n",
       "      <td>1.0</td>\n",
       "      <td>0</td>\n",
       "      <td>1</td>\n",
       "      <td>3829.15</td>\n",
       "      <td>4056.52</td>\n",
       "      <td>1</td>\n",
       "      <td>1</td>\n",
       "    </tr>\n",
       "    <tr>\n",
       "      <th>3</th>\n",
       "      <td>6</td>\n",
       "      <td>0</td>\n",
       "      <td>0</td>\n",
       "      <td>3</td>\n",
       "      <td>0</td>\n",
       "      <td>1</td>\n",
       "      <td>5</td>\n",
       "      <td>7</td>\n",
       "      <td>122</td>\n",
       "      <td>0</td>\n",
       "      <td>1</td>\n",
       "      <td>1.0</td>\n",
       "      <td>0</td>\n",
       "      <td>1</td>\n",
       "      <td>1108.20</td>\n",
       "      <td>1644.75</td>\n",
       "      <td>0</td>\n",
       "      <td>1</td>\n",
       "    </tr>\n",
       "    <tr>\n",
       "      <th>4</th>\n",
       "      <td>6</td>\n",
       "      <td>4</td>\n",
       "      <td>0</td>\n",
       "      <td>3</td>\n",
       "      <td>0</td>\n",
       "      <td>3</td>\n",
       "      <td>0</td>\n",
       "      <td>7</td>\n",
       "      <td>122</td>\n",
       "      <td>0</td>\n",
       "      <td>2</td>\n",
       "      <td>3.0</td>\n",
       "      <td>0</td>\n",
       "      <td>1</td>\n",
       "      <td>3418.18</td>\n",
       "      <td>3370.87</td>\n",
       "      <td>1</td>\n",
       "      <td>1</td>\n",
       "    </tr>\n",
       "  </tbody>\n",
       "</table>\n",
       "</div>"
      ],
      "text/plain": [
       "   Area_Service  Age  Gender  Cultural_group  ethnicity  Days_spend_hsptl  \\\n",
       "0             6    2       0               3          0                 4   \n",
       "1             6    4       0               3          0                 4   \n",
       "2             6    2       0               3          0                 3   \n",
       "3             6    0       0               3          0                 1   \n",
       "4             6    4       0               3          0                 3   \n",
       "\n",
       "   Admission_type  home_self_care  ccs_diagnosis_code  ccs_procedure_code  \\\n",
       "0               0               7                 122                   0   \n",
       "1               5              17                 197                   0   \n",
       "2               5               7                 122                   0   \n",
       "3               5               7                 122                   0   \n",
       "4               0               7                 122                   0   \n",
       "\n",
       "   Code_illness  mortality_risk  Surg_Description  emergency_dept_yes_no  \\\n",
       "0             1             1.0                 0                      1   \n",
       "1             3             2.0                 0                      1   \n",
       "2             1             1.0                 0                      1   \n",
       "3             1             1.0                 0                      1   \n",
       "4             2             3.0                 0                      1   \n",
       "\n",
       "   Tot_charg  Tot_cost  Result  Payment_Typology  \n",
       "0    5511.95   5582.49       1                 1  \n",
       "1    4783.20   5162.82       1                 1  \n",
       "2    3829.15   4056.52       1                 1  \n",
       "3    1108.20   1644.75       0                 1  \n",
       "4    3418.18   3370.87       1                 1  "
      ]
     },
     "execution_count": 35,
     "metadata": {},
     "output_type": "execute_result"
    }
   ],
   "source": [
    "#Dropping hospital_id,hospital_county,baby_weight,app_drug_description,ratio_of_total_charges,mortality_risk as they does not have much impact on Target\n",
    "insu_data = insu_data.drop(['hospital_county', 'hospital_id','Weight_baby','apr_drg_description','ratio_of_total_costs_to_total_charges'],inplace=False,axis=1)\n",
    "insu_data.head()"
   ]
  },
  {
   "cell_type": "code",
   "execution_count": 36,
   "metadata": {
    "colab": {
     "base_uri": "https://localhost:8080/"
    },
    "id": "9ai4hhv7mXvS",
    "outputId": "e3d9e0f6-66fe-4f8e-8881-76de1e3ddff3"
   },
   "outputs": [
    {
     "data": {
      "text/plain": [
       "(1043761, 18)"
      ]
     },
     "execution_count": 36,
     "metadata": {},
     "output_type": "execute_result"
    }
   ],
   "source": [
    "insu_data.shape"
   ]
  },
  {
   "cell_type": "markdown",
   "metadata": {
    "id": "dVcLVMoKmpxP"
   },
   "source": [
    "### Since Dataset is Very Large, consider a sample of data for model building and for Deployment Process\n",
    "\n",
    "#### Note:  Model Build on Complete data is present @Model.ipynb , for deployment purpose itself we have used this sample data\n",
    "\n"
   ]
  },
  {
   "cell_type": "code",
   "execution_count": 37,
   "metadata": {},
   "outputs": [
    {
     "data": {
      "text/plain": [
       "(5219, 18)"
      ]
     },
     "execution_count": 37,
     "metadata": {},
     "output_type": "execute_result"
    }
   ],
   "source": [
    "insu_sample=insu_data.sample(frac=0.005,random_state=3)\n",
    "insu_sample.shape"
   ]
  },
  {
   "cell_type": "code",
   "execution_count": 38,
   "metadata": {},
   "outputs": [
    {
     "data": {
      "text/plain": [
       "Area_Service             0\n",
       "Age                      0\n",
       "Gender                   0\n",
       "Cultural_group           0\n",
       "ethnicity                0\n",
       "Days_spend_hsptl         0\n",
       "Admission_type           0\n",
       "home_self_care           0\n",
       "ccs_diagnosis_code       0\n",
       "ccs_procedure_code       0\n",
       "Code_illness             0\n",
       "mortality_risk           0\n",
       "Surg_Description         0\n",
       "emergency_dept_yes_no    0\n",
       "Tot_charg                0\n",
       "Tot_cost                 0\n",
       "Result                   0\n",
       "Payment_Typology         0\n",
       "dtype: int64"
      ]
     },
     "execution_count": 38,
     "metadata": {},
     "output_type": "execute_result"
    }
   ],
   "source": [
    "insu_sample.isnull().sum()"
   ]
  },
  {
   "cell_type": "code",
   "execution_count": 39,
   "metadata": {},
   "outputs": [
    {
     "data": {
      "text/html": [
       "<div>\n",
       "<style scoped>\n",
       "    .dataframe tbody tr th:only-of-type {\n",
       "        vertical-align: middle;\n",
       "    }\n",
       "\n",
       "    .dataframe tbody tr th {\n",
       "        vertical-align: top;\n",
       "    }\n",
       "\n",
       "    .dataframe thead th {\n",
       "        text-align: right;\n",
       "    }\n",
       "</style>\n",
       "<table border=\"1\" class=\"dataframe\">\n",
       "  <thead>\n",
       "    <tr style=\"text-align: right;\">\n",
       "      <th></th>\n",
       "      <th>Area_Service</th>\n",
       "      <th>Age</th>\n",
       "      <th>Gender</th>\n",
       "      <th>Cultural_group</th>\n",
       "      <th>ethnicity</th>\n",
       "      <th>Days_spend_hsptl</th>\n",
       "      <th>Admission_type</th>\n",
       "      <th>home_self_care</th>\n",
       "      <th>ccs_diagnosis_code</th>\n",
       "      <th>ccs_procedure_code</th>\n",
       "      <th>Code_illness</th>\n",
       "      <th>mortality_risk</th>\n",
       "      <th>Surg_Description</th>\n",
       "      <th>emergency_dept_yes_no</th>\n",
       "      <th>Tot_charg</th>\n",
       "      <th>Tot_cost</th>\n",
       "      <th>Result</th>\n",
       "      <th>Payment_Typology</th>\n",
       "    </tr>\n",
       "  </thead>\n",
       "  <tbody>\n",
       "    <tr>\n",
       "      <th>570013</th>\n",
       "      <td>0</td>\n",
       "      <td>2</td>\n",
       "      <td>1</td>\n",
       "      <td>3</td>\n",
       "      <td>0</td>\n",
       "      <td>2</td>\n",
       "      <td>1</td>\n",
       "      <td>7</td>\n",
       "      <td>159</td>\n",
       "      <td>0</td>\n",
       "      <td>2</td>\n",
       "      <td>1.0</td>\n",
       "      <td>0</td>\n",
       "      <td>1</td>\n",
       "      <td>12834.66</td>\n",
       "      <td>3830.89</td>\n",
       "      <td>1</td>\n",
       "      <td>3</td>\n",
       "    </tr>\n",
       "    <tr>\n",
       "      <th>438551</th>\n",
       "      <td>1</td>\n",
       "      <td>0</td>\n",
       "      <td>1</td>\n",
       "      <td>3</td>\n",
       "      <td>0</td>\n",
       "      <td>2</td>\n",
       "      <td>2</td>\n",
       "      <td>7</td>\n",
       "      <td>218</td>\n",
       "      <td>115</td>\n",
       "      <td>1</td>\n",
       "      <td>1.0</td>\n",
       "      <td>0</td>\n",
       "      <td>0</td>\n",
       "      <td>3269.74</td>\n",
       "      <td>1556.75</td>\n",
       "      <td>0</td>\n",
       "      <td>1</td>\n",
       "    </tr>\n",
       "    <tr>\n",
       "      <th>573426</th>\n",
       "      <td>0</td>\n",
       "      <td>4</td>\n",
       "      <td>0</td>\n",
       "      <td>3</td>\n",
       "      <td>0</td>\n",
       "      <td>2</td>\n",
       "      <td>1</td>\n",
       "      <td>7</td>\n",
       "      <td>98</td>\n",
       "      <td>0</td>\n",
       "      <td>3</td>\n",
       "      <td>2.0</td>\n",
       "      <td>0</td>\n",
       "      <td>1</td>\n",
       "      <td>14640.73</td>\n",
       "      <td>3438.45</td>\n",
       "      <td>1</td>\n",
       "      <td>3</td>\n",
       "    </tr>\n",
       "    <tr>\n",
       "      <th>275709</th>\n",
       "      <td>2</td>\n",
       "      <td>3</td>\n",
       "      <td>1</td>\n",
       "      <td>3</td>\n",
       "      <td>0</td>\n",
       "      <td>1</td>\n",
       "      <td>1</td>\n",
       "      <td>7</td>\n",
       "      <td>160</td>\n",
       "      <td>0</td>\n",
       "      <td>2</td>\n",
       "      <td>1.0</td>\n",
       "      <td>0</td>\n",
       "      <td>1</td>\n",
       "      <td>4108.17</td>\n",
       "      <td>2341.40</td>\n",
       "      <td>0</td>\n",
       "      <td>2</td>\n",
       "    </tr>\n",
       "    <tr>\n",
       "      <th>883326</th>\n",
       "      <td>3</td>\n",
       "      <td>4</td>\n",
       "      <td>0</td>\n",
       "      <td>3</td>\n",
       "      <td>0</td>\n",
       "      <td>5</td>\n",
       "      <td>1</td>\n",
       "      <td>18</td>\n",
       "      <td>59</td>\n",
       "      <td>216</td>\n",
       "      <td>4</td>\n",
       "      <td>4.0</td>\n",
       "      <td>0</td>\n",
       "      <td>0</td>\n",
       "      <td>21479.38</td>\n",
       "      <td>11893.51</td>\n",
       "      <td>1</td>\n",
       "      <td>3</td>\n",
       "    </tr>\n",
       "  </tbody>\n",
       "</table>\n",
       "</div>"
      ],
      "text/plain": [
       "        Area_Service  Age  Gender  Cultural_group  ethnicity  \\\n",
       "570013             0    2       1               3          0   \n",
       "438551             1    0       1               3          0   \n",
       "573426             0    4       0               3          0   \n",
       "275709             2    3       1               3          0   \n",
       "883326             3    4       0               3          0   \n",
       "\n",
       "        Days_spend_hsptl  Admission_type  home_self_care  ccs_diagnosis_code  \\\n",
       "570013                 2               1               7                 159   \n",
       "438551                 2               2               7                 218   \n",
       "573426                 2               1               7                  98   \n",
       "275709                 1               1               7                 160   \n",
       "883326                 5               1              18                  59   \n",
       "\n",
       "        ccs_procedure_code  Code_illness  mortality_risk  Surg_Description  \\\n",
       "570013                   0             2             1.0                 0   \n",
       "438551                 115             1             1.0                 0   \n",
       "573426                   0             3             2.0                 0   \n",
       "275709                   0             2             1.0                 0   \n",
       "883326                 216             4             4.0                 0   \n",
       "\n",
       "        emergency_dept_yes_no  Tot_charg  Tot_cost  Result  Payment_Typology  \n",
       "570013                      1   12834.66   3830.89       1                 3  \n",
       "438551                      0    3269.74   1556.75       0                 1  \n",
       "573426                      1   14640.73   3438.45       1                 3  \n",
       "275709                      1    4108.17   2341.40       0                 2  \n",
       "883326                      0   21479.38  11893.51       1                 3  "
      ]
     },
     "execution_count": 39,
     "metadata": {},
     "output_type": "execute_result"
    }
   ],
   "source": [
    "insu_sample.head()"
   ]
  },
  {
   "cell_type": "code",
   "execution_count": 40,
   "metadata": {},
   "outputs": [],
   "source": [
    "insu_sample=insu_sample.reset_index(drop=True)"
   ]
  },
  {
   "cell_type": "code",
   "execution_count": 41,
   "metadata": {
    "scrolled": true
   },
   "outputs": [
    {
     "data": {
      "text/plain": [
       "Index(['Area_Service', 'Age', 'Gender', 'Cultural_group', 'ethnicity',\n",
       "       'Days_spend_hsptl', 'Admission_type', 'home_self_care',\n",
       "       'ccs_diagnosis_code', 'ccs_procedure_code', 'Code_illness',\n",
       "       'mortality_risk', 'Surg_Description', 'emergency_dept_yes_no',\n",
       "       'Tot_charg', 'Tot_cost', 'Result', 'Payment_Typology'],\n",
       "      dtype='object')"
      ]
     },
     "execution_count": 41,
     "metadata": {},
     "output_type": "execute_result"
    }
   ],
   "source": [
    "insu_sample.columns"
   ]
  },
  {
   "cell_type": "code",
   "execution_count": 42,
   "metadata": {
    "scrolled": true
   },
   "outputs": [
    {
     "data": {
      "text/html": [
       "<div>\n",
       "<style scoped>\n",
       "    .dataframe tbody tr th:only-of-type {\n",
       "        vertical-align: middle;\n",
       "    }\n",
       "\n",
       "    .dataframe tbody tr th {\n",
       "        vertical-align: top;\n",
       "    }\n",
       "\n",
       "    .dataframe thead th {\n",
       "        text-align: right;\n",
       "    }\n",
       "</style>\n",
       "<table border=\"1\" class=\"dataframe\">\n",
       "  <thead>\n",
       "    <tr style=\"text-align: right;\">\n",
       "      <th></th>\n",
       "      <th>Area_Service</th>\n",
       "      <th>Age</th>\n",
       "      <th>Gender</th>\n",
       "      <th>Cultural_group</th>\n",
       "      <th>ethnicity</th>\n",
       "      <th>Days_spend_hsptl</th>\n",
       "      <th>Admission_type</th>\n",
       "      <th>home_self_care</th>\n",
       "      <th>ccs_diagnosis_code</th>\n",
       "      <th>ccs_procedure_code</th>\n",
       "      <th>Code_illness</th>\n",
       "      <th>mortality_risk</th>\n",
       "      <th>Surg_Description</th>\n",
       "      <th>emergency_dept_yes_no</th>\n",
       "      <th>Tot_charg</th>\n",
       "      <th>Tot_cost</th>\n",
       "      <th>Result</th>\n",
       "      <th>Payment_Typology</th>\n",
       "    </tr>\n",
       "  </thead>\n",
       "  <tbody>\n",
       "    <tr>\n",
       "      <th>0</th>\n",
       "      <td>0</td>\n",
       "      <td>2</td>\n",
       "      <td>1</td>\n",
       "      <td>3</td>\n",
       "      <td>0</td>\n",
       "      <td>2</td>\n",
       "      <td>1</td>\n",
       "      <td>7</td>\n",
       "      <td>159</td>\n",
       "      <td>0</td>\n",
       "      <td>2</td>\n",
       "      <td>1.0</td>\n",
       "      <td>0</td>\n",
       "      <td>1</td>\n",
       "      <td>12834.66</td>\n",
       "      <td>3830.89</td>\n",
       "      <td>1</td>\n",
       "      <td>3</td>\n",
       "    </tr>\n",
       "    <tr>\n",
       "      <th>1</th>\n",
       "      <td>1</td>\n",
       "      <td>0</td>\n",
       "      <td>1</td>\n",
       "      <td>3</td>\n",
       "      <td>0</td>\n",
       "      <td>2</td>\n",
       "      <td>2</td>\n",
       "      <td>7</td>\n",
       "      <td>218</td>\n",
       "      <td>115</td>\n",
       "      <td>1</td>\n",
       "      <td>1.0</td>\n",
       "      <td>0</td>\n",
       "      <td>0</td>\n",
       "      <td>3269.74</td>\n",
       "      <td>1556.75</td>\n",
       "      <td>0</td>\n",
       "      <td>1</td>\n",
       "    </tr>\n",
       "    <tr>\n",
       "      <th>2</th>\n",
       "      <td>0</td>\n",
       "      <td>4</td>\n",
       "      <td>0</td>\n",
       "      <td>3</td>\n",
       "      <td>0</td>\n",
       "      <td>2</td>\n",
       "      <td>1</td>\n",
       "      <td>7</td>\n",
       "      <td>98</td>\n",
       "      <td>0</td>\n",
       "      <td>3</td>\n",
       "      <td>2.0</td>\n",
       "      <td>0</td>\n",
       "      <td>1</td>\n",
       "      <td>14640.73</td>\n",
       "      <td>3438.45</td>\n",
       "      <td>1</td>\n",
       "      <td>3</td>\n",
       "    </tr>\n",
       "    <tr>\n",
       "      <th>3</th>\n",
       "      <td>2</td>\n",
       "      <td>3</td>\n",
       "      <td>1</td>\n",
       "      <td>3</td>\n",
       "      <td>0</td>\n",
       "      <td>1</td>\n",
       "      <td>1</td>\n",
       "      <td>7</td>\n",
       "      <td>160</td>\n",
       "      <td>0</td>\n",
       "      <td>2</td>\n",
       "      <td>1.0</td>\n",
       "      <td>0</td>\n",
       "      <td>1</td>\n",
       "      <td>4108.17</td>\n",
       "      <td>2341.40</td>\n",
       "      <td>0</td>\n",
       "      <td>2</td>\n",
       "    </tr>\n",
       "    <tr>\n",
       "      <th>4</th>\n",
       "      <td>3</td>\n",
       "      <td>4</td>\n",
       "      <td>0</td>\n",
       "      <td>3</td>\n",
       "      <td>0</td>\n",
       "      <td>5</td>\n",
       "      <td>1</td>\n",
       "      <td>18</td>\n",
       "      <td>59</td>\n",
       "      <td>216</td>\n",
       "      <td>4</td>\n",
       "      <td>4.0</td>\n",
       "      <td>0</td>\n",
       "      <td>0</td>\n",
       "      <td>21479.38</td>\n",
       "      <td>11893.51</td>\n",
       "      <td>1</td>\n",
       "      <td>3</td>\n",
       "    </tr>\n",
       "  </tbody>\n",
       "</table>\n",
       "</div>"
      ],
      "text/plain": [
       "   Area_Service  Age  Gender  Cultural_group  ethnicity  Days_spend_hsptl  \\\n",
       "0             0    2       1               3          0                 2   \n",
       "1             1    0       1               3          0                 2   \n",
       "2             0    4       0               3          0                 2   \n",
       "3             2    3       1               3          0                 1   \n",
       "4             3    4       0               3          0                 5   \n",
       "\n",
       "   Admission_type  home_self_care  ccs_diagnosis_code  ccs_procedure_code  \\\n",
       "0               1               7                 159                   0   \n",
       "1               2               7                 218                 115   \n",
       "2               1               7                  98                   0   \n",
       "3               1               7                 160                   0   \n",
       "4               1              18                  59                 216   \n",
       "\n",
       "   Code_illness  mortality_risk  Surg_Description  emergency_dept_yes_no  \\\n",
       "0             2             1.0                 0                      1   \n",
       "1             1             1.0                 0                      0   \n",
       "2             3             2.0                 0                      1   \n",
       "3             2             1.0                 0                      1   \n",
       "4             4             4.0                 0                      0   \n",
       "\n",
       "   Tot_charg  Tot_cost  Result  Payment_Typology  \n",
       "0   12834.66   3830.89       1                 3  \n",
       "1    3269.74   1556.75       0                 1  \n",
       "2   14640.73   3438.45       1                 3  \n",
       "3    4108.17   2341.40       0                 2  \n",
       "4   21479.38  11893.51       1                 3  "
      ]
     },
     "execution_count": 42,
     "metadata": {},
     "output_type": "execute_result"
    }
   ],
   "source": [
    "insu_sample.head()"
   ]
  },
  {
   "cell_type": "markdown",
   "metadata": {},
   "source": [
    "#### Dividing data in to Predictors and Target"
   ]
  },
  {
   "cell_type": "code",
   "execution_count": 43,
   "metadata": {
    "colab": {
     "base_uri": "https://localhost:8080/",
     "height": 224
    },
    "id": "HZ_YDq4FmlGH",
    "outputId": "1014b40d-dd37-4d87-a66c-e73f8b94b9e5",
    "scrolled": false
   },
   "outputs": [
    {
     "data": {
      "text/html": [
       "<div>\n",
       "<style scoped>\n",
       "    .dataframe tbody tr th:only-of-type {\n",
       "        vertical-align: middle;\n",
       "    }\n",
       "\n",
       "    .dataframe tbody tr th {\n",
       "        vertical-align: top;\n",
       "    }\n",
       "\n",
       "    .dataframe thead th {\n",
       "        text-align: right;\n",
       "    }\n",
       "</style>\n",
       "<table border=\"1\" class=\"dataframe\">\n",
       "  <thead>\n",
       "    <tr style=\"text-align: right;\">\n",
       "      <th></th>\n",
       "      <th>Area_Service</th>\n",
       "      <th>Age</th>\n",
       "      <th>Gender</th>\n",
       "      <th>Cultural_group</th>\n",
       "      <th>ethnicity</th>\n",
       "      <th>Days_spend_hsptl</th>\n",
       "      <th>Admission_type</th>\n",
       "      <th>home_self_care</th>\n",
       "      <th>ccs_diagnosis_code</th>\n",
       "      <th>ccs_procedure_code</th>\n",
       "      <th>Code_illness</th>\n",
       "      <th>mortality_risk</th>\n",
       "      <th>Surg_Description</th>\n",
       "      <th>emergency_dept_yes_no</th>\n",
       "      <th>Tot_charg</th>\n",
       "      <th>Tot_cost</th>\n",
       "      <th>Payment_Typology</th>\n",
       "    </tr>\n",
       "  </thead>\n",
       "  <tbody>\n",
       "    <tr>\n",
       "      <th>0</th>\n",
       "      <td>0</td>\n",
       "      <td>2</td>\n",
       "      <td>1</td>\n",
       "      <td>3</td>\n",
       "      <td>0</td>\n",
       "      <td>2</td>\n",
       "      <td>1</td>\n",
       "      <td>7</td>\n",
       "      <td>159</td>\n",
       "      <td>0</td>\n",
       "      <td>2</td>\n",
       "      <td>1.0</td>\n",
       "      <td>0</td>\n",
       "      <td>1</td>\n",
       "      <td>12834.66</td>\n",
       "      <td>3830.89</td>\n",
       "      <td>3</td>\n",
       "    </tr>\n",
       "    <tr>\n",
       "      <th>1</th>\n",
       "      <td>1</td>\n",
       "      <td>0</td>\n",
       "      <td>1</td>\n",
       "      <td>3</td>\n",
       "      <td>0</td>\n",
       "      <td>2</td>\n",
       "      <td>2</td>\n",
       "      <td>7</td>\n",
       "      <td>218</td>\n",
       "      <td>115</td>\n",
       "      <td>1</td>\n",
       "      <td>1.0</td>\n",
       "      <td>0</td>\n",
       "      <td>0</td>\n",
       "      <td>3269.74</td>\n",
       "      <td>1556.75</td>\n",
       "      <td>1</td>\n",
       "    </tr>\n",
       "    <tr>\n",
       "      <th>2</th>\n",
       "      <td>0</td>\n",
       "      <td>4</td>\n",
       "      <td>0</td>\n",
       "      <td>3</td>\n",
       "      <td>0</td>\n",
       "      <td>2</td>\n",
       "      <td>1</td>\n",
       "      <td>7</td>\n",
       "      <td>98</td>\n",
       "      <td>0</td>\n",
       "      <td>3</td>\n",
       "      <td>2.0</td>\n",
       "      <td>0</td>\n",
       "      <td>1</td>\n",
       "      <td>14640.73</td>\n",
       "      <td>3438.45</td>\n",
       "      <td>3</td>\n",
       "    </tr>\n",
       "    <tr>\n",
       "      <th>3</th>\n",
       "      <td>2</td>\n",
       "      <td>3</td>\n",
       "      <td>1</td>\n",
       "      <td>3</td>\n",
       "      <td>0</td>\n",
       "      <td>1</td>\n",
       "      <td>1</td>\n",
       "      <td>7</td>\n",
       "      <td>160</td>\n",
       "      <td>0</td>\n",
       "      <td>2</td>\n",
       "      <td>1.0</td>\n",
       "      <td>0</td>\n",
       "      <td>1</td>\n",
       "      <td>4108.17</td>\n",
       "      <td>2341.40</td>\n",
       "      <td>2</td>\n",
       "    </tr>\n",
       "    <tr>\n",
       "      <th>4</th>\n",
       "      <td>3</td>\n",
       "      <td>4</td>\n",
       "      <td>0</td>\n",
       "      <td>3</td>\n",
       "      <td>0</td>\n",
       "      <td>5</td>\n",
       "      <td>1</td>\n",
       "      <td>18</td>\n",
       "      <td>59</td>\n",
       "      <td>216</td>\n",
       "      <td>4</td>\n",
       "      <td>4.0</td>\n",
       "      <td>0</td>\n",
       "      <td>0</td>\n",
       "      <td>21479.38</td>\n",
       "      <td>11893.51</td>\n",
       "      <td>3</td>\n",
       "    </tr>\n",
       "  </tbody>\n",
       "</table>\n",
       "</div>"
      ],
      "text/plain": [
       "   Area_Service  Age  Gender  Cultural_group  ethnicity  Days_spend_hsptl  \\\n",
       "0             0    2       1               3          0                 2   \n",
       "1             1    0       1               3          0                 2   \n",
       "2             0    4       0               3          0                 2   \n",
       "3             2    3       1               3          0                 1   \n",
       "4             3    4       0               3          0                 5   \n",
       "\n",
       "   Admission_type  home_self_care  ccs_diagnosis_code  ccs_procedure_code  \\\n",
       "0               1               7                 159                   0   \n",
       "1               2               7                 218                 115   \n",
       "2               1               7                  98                   0   \n",
       "3               1               7                 160                   0   \n",
       "4               1              18                  59                 216   \n",
       "\n",
       "   Code_illness  mortality_risk  Surg_Description  emergency_dept_yes_no  \\\n",
       "0             2             1.0                 0                      1   \n",
       "1             1             1.0                 0                      0   \n",
       "2             3             2.0                 0                      1   \n",
       "3             2             1.0                 0                      1   \n",
       "4             4             4.0                 0                      0   \n",
       "\n",
       "   Tot_charg  Tot_cost  Payment_Typology  \n",
       "0   12834.66   3830.89                 3  \n",
       "1    3269.74   1556.75                 1  \n",
       "2   14640.73   3438.45                 3  \n",
       "3    4108.17   2341.40                 2  \n",
       "4   21479.38  11893.51                 3  "
      ]
     },
     "execution_count": 43,
     "metadata": {},
     "output_type": "execute_result"
    }
   ],
   "source": [
    "X=insu_sample.drop(columns=['Result'])\n",
    "X.columns\n",
    "X.head()"
   ]
  },
  {
   "cell_type": "code",
   "execution_count": 44,
   "metadata": {
    "colab": {
     "base_uri": "https://localhost:8080/"
    },
    "id": "VFI1ZN73mvY-",
    "outputId": "3f77bf6c-f798-44b3-cfef-4de0cd489896"
   },
   "outputs": [
    {
     "data": {
      "text/plain": [
       "0       1\n",
       "1       0\n",
       "2       1\n",
       "3       0\n",
       "4       1\n",
       "       ..\n",
       "5214    0\n",
       "5215    1\n",
       "5216    1\n",
       "5217    0\n",
       "5218    1\n",
       "Name: Result, Length: 5219, dtype: int64"
      ]
     },
     "execution_count": 44,
     "metadata": {},
     "output_type": "execute_result"
    }
   ],
   "source": [
    "Y=insu_sample.Result\n",
    "Y"
   ]
  },
  {
   "cell_type": "code",
   "execution_count": 45,
   "metadata": {
    "colab": {
     "base_uri": "https://localhost:8080/"
    },
    "id": "3apiT1AUm0eV",
    "outputId": "6118ddd5-8c03-4dd0-e9c1-5762321138c2"
   },
   "outputs": [
    {
     "data": {
      "text/plain": [
       "(5219, 17)"
      ]
     },
     "execution_count": 45,
     "metadata": {},
     "output_type": "execute_result"
    }
   ],
   "source": [
    "X.shape"
   ]
  },
  {
   "cell_type": "markdown",
   "metadata": {
    "id": "oFnnK3jum-rB"
   },
   "source": [
    "## Check whether data is Balanced or Imbalanced"
   ]
  },
  {
   "cell_type": "code",
   "execution_count": 46,
   "metadata": {
    "colab": {
     "base_uri": "https://localhost:8080/"
    },
    "id": "Gh7ACGOAm4jP",
    "outputId": "49d3558f-83a0-4095-8f00-78828b9c8dd6",
    "scrolled": false
   },
   "outputs": [
    {
     "data": {
      "text/plain": [
       "1    3876\n",
       "0    1343\n",
       "Name: Result, dtype: int64"
      ]
     },
     "execution_count": 46,
     "metadata": {},
     "output_type": "execute_result"
    }
   ],
   "source": [
    "Y.value_counts()"
   ]
  },
  {
   "cell_type": "markdown",
   "metadata": {},
   "source": [
    "#### From the data we came to know that data is containing 75% of Genuine (1) data and 25% of Fraudulent (0) data.\n",
    "\n",
    "#### This imbalance may create biasness in the model towards Genuine data, So Over Sampling is done to balance the data."
   ]
  },
  {
   "cell_type": "markdown",
   "metadata": {
    "id": "H9mz6zG7e3QG"
   },
   "source": [
    "### Random Over Sampling"
   ]
  },
  {
   "cell_type": "code",
   "execution_count": 47,
   "metadata": {
    "id": "ffT8S7dje3QG",
    "outputId": "b47ae076-0d7b-4fdc-cad4-bd6e9394a69b"
   },
   "outputs": [
    {
     "data": {
      "text/plain": [
       "((7752, 17), (7752,))"
      ]
     },
     "execution_count": 47,
     "metadata": {},
     "output_type": "execute_result"
    }
   ],
   "source": [
    "from imblearn.over_sampling import RandomOverSampler\n",
    "os =  RandomOverSampler(sampling_strategy='minority')\n",
    "X_over, Y_over = os.fit_resample(X, Y)\n",
    "X_over.shape,Y_over.shape"
   ]
  },
  {
   "cell_type": "code",
   "execution_count": 48,
   "metadata": {
    "colab": {
     "base_uri": "https://localhost:8080/"
    },
    "id": "JnHOZjLjnIrK",
    "outputId": "634dc378-9194-4749-92b9-fe5c6156ce3a"
   },
   "outputs": [
    {
     "name": "stdout",
     "output_type": "stream",
     "text": [
      "Counter({1: 3876, 0: 1343})\n",
      "Counter({1: 3876, 0: 3876})\n"
     ]
    }
   ],
   "source": [
    "from collections import Counter\n",
    "print(Counter(Y))\n",
    "print(Counter(Y_over))"
   ]
  },
  {
   "cell_type": "markdown",
   "metadata": {
    "id": "SQeIDfx4nmZN"
   },
   "source": [
    "# Model Building"
   ]
  },
  {
   "cell_type": "markdown",
   "metadata": {},
   "source": [
    "### Splitting data in to partitions for Training and Testing.\n",
    "\n",
    "#### 80% of data for Training the model and 20% of data or Testing the model."
   ]
  },
  {
   "cell_type": "code",
   "execution_count": 49,
   "metadata": {
    "id": "fUUuZOjUe3QL"
   },
   "outputs": [],
   "source": [
    "from sklearn.model_selection import train_test_split\n",
    "x_train,x_test,y_train,y_test=train_test_split(X_over,Y_over,test_size=0.2)"
   ]
  },
  {
   "cell_type": "code",
   "execution_count": 50,
   "metadata": {
    "scrolled": true
   },
   "outputs": [],
   "source": [
    "x_test=x_test.reset_index(drop=True)\n",
    "\n",
    "y_test=pd.DataFrame(y_test)\n",
    "y_test=y_test.reset_index(drop=True)"
   ]
  },
  {
   "cell_type": "markdown",
   "metadata": {},
   "source": [
    "### Model Building using Random Forest Classifier"
   ]
  },
  {
   "cell_type": "code",
   "execution_count": 51,
   "metadata": {
    "id": "8LR_5neTe3QM",
    "outputId": "2962d170-5bd5-413f-c8ff-31972da47b85",
    "scrolled": true
   },
   "outputs": [
    {
     "name": "stdout",
     "output_type": "stream",
     "text": [
      "[[708  56]\n",
      " [173 614]]\n",
      "Train_Accuracy_score= 99.92\n",
      "Test_Accuracy Score= 85.24\n",
      "Classification report:               precision    recall  f1-score   support\n",
      "\n",
      "           0       0.80      0.93      0.86       764\n",
      "           1       0.92      0.78      0.84       787\n",
      "\n",
      "    accuracy                           0.85      1551\n",
      "   macro avg       0.86      0.85      0.85      1551\n",
      "weighted avg       0.86      0.85      0.85      1551\n",
      "\n"
     ]
    }
   ],
   "source": [
    "from sklearn.ensemble import RandomForestClassifier\n",
    "rf=RandomForestClassifier(n_estimators=20,random_state=3)\n",
    "rf.fit(x_train,y_train)\n",
    "from sklearn.metrics import accuracy_score,classification_report,confusion_matrix\n",
    "y_pred_rf=rf.predict(x_test)\n",
    "print(confusion_matrix(y_test,y_pred_rf))\n",
    "train_acc_rf=round(rf.score(x_train, y_train) * 100, 2)\n",
    "test_acc_rf=round(accuracy_score(y_test,y_pred_rf)*100,2)\n",
    "print('Train_Accuracy_score= {}'.format(train_acc_rf))\n",
    "print(\"Test_Accuracy Score= {}\".format(test_acc_rf))\n",
    "\n",
    "print(\"Classification report: {}\".format(classification_report(y_test,y_pred_rf)))"
   ]
  },
  {
   "cell_type": "code",
   "execution_count": 52,
   "metadata": {
    "id": "kYN3GCm9e3QO",
    "outputId": "582c21e4-44b6-46b7-deb1-23206c50e25f",
    "scrolled": false
   },
   "outputs": [],
   "source": [
    "y_pred_rf=pd.DataFrame(y_pred_rf)\n",
    "y_pred_rf.columns=['Predicted Values']"
   ]
  },
  {
   "cell_type": "code",
   "execution_count": 53,
   "metadata": {},
   "outputs": [
    {
     "name": "stdout",
     "output_type": "stream",
     "text": [
      "Predicted Values\n",
      "0                   881\n",
      "1                   670\n",
      "dtype: int64\n"
     ]
    }
   ],
   "source": [
    "print(y_pred_rf.value_counts())"
   ]
  },
  {
   "cell_type": "code",
   "execution_count": 54,
   "metadata": {
    "scrolled": true
   },
   "outputs": [],
   "source": [
    "y_test=pd.DataFrame(y_test)\n",
    "y_test.columns=['Actual Values']"
   ]
  },
  {
   "cell_type": "code",
   "execution_count": 55,
   "metadata": {},
   "outputs": [
    {
     "name": "stdout",
     "output_type": "stream",
     "text": [
      "Actual Values\n",
      "1                787\n",
      "0                764\n",
      "dtype: int64\n"
     ]
    }
   ],
   "source": [
    "print(y_test.value_counts())"
   ]
  },
  {
   "cell_type": "markdown",
   "metadata": {},
   "source": [
    "#### Comparision of Actual Values and Predicted Values"
   ]
  },
  {
   "cell_type": "code",
   "execution_count": 56,
   "metadata": {
    "id": "loyZ-TGSe3Qe",
    "outputId": "b11551f8-1bc4-4612-adbf-e54c0351f67a",
    "scrolled": true
   },
   "outputs": [
    {
     "data": {
      "text/html": [
       "<div>\n",
       "<style scoped>\n",
       "    .dataframe tbody tr th:only-of-type {\n",
       "        vertical-align: middle;\n",
       "    }\n",
       "\n",
       "    .dataframe tbody tr th {\n",
       "        vertical-align: top;\n",
       "    }\n",
       "\n",
       "    .dataframe thead th {\n",
       "        text-align: right;\n",
       "    }\n",
       "</style>\n",
       "<table border=\"1\" class=\"dataframe\">\n",
       "  <thead>\n",
       "    <tr style=\"text-align: right;\">\n",
       "      <th></th>\n",
       "      <th>Actual Values</th>\n",
       "      <th>Predicted Values</th>\n",
       "    </tr>\n",
       "  </thead>\n",
       "  <tbody>\n",
       "    <tr>\n",
       "      <th>0</th>\n",
       "      <td>0</td>\n",
       "      <td>0</td>\n",
       "    </tr>\n",
       "    <tr>\n",
       "      <th>1</th>\n",
       "      <td>0</td>\n",
       "      <td>0</td>\n",
       "    </tr>\n",
       "    <tr>\n",
       "      <th>2</th>\n",
       "      <td>1</td>\n",
       "      <td>1</td>\n",
       "    </tr>\n",
       "    <tr>\n",
       "      <th>3</th>\n",
       "      <td>1</td>\n",
       "      <td>1</td>\n",
       "    </tr>\n",
       "    <tr>\n",
       "      <th>4</th>\n",
       "      <td>1</td>\n",
       "      <td>1</td>\n",
       "    </tr>\n",
       "    <tr>\n",
       "      <th>5</th>\n",
       "      <td>1</td>\n",
       "      <td>1</td>\n",
       "    </tr>\n",
       "    <tr>\n",
       "      <th>6</th>\n",
       "      <td>0</td>\n",
       "      <td>0</td>\n",
       "    </tr>\n",
       "    <tr>\n",
       "      <th>7</th>\n",
       "      <td>0</td>\n",
       "      <td>0</td>\n",
       "    </tr>\n",
       "    <tr>\n",
       "      <th>8</th>\n",
       "      <td>1</td>\n",
       "      <td>1</td>\n",
       "    </tr>\n",
       "    <tr>\n",
       "      <th>9</th>\n",
       "      <td>0</td>\n",
       "      <td>0</td>\n",
       "    </tr>\n",
       "    <tr>\n",
       "      <th>10</th>\n",
       "      <td>1</td>\n",
       "      <td>1</td>\n",
       "    </tr>\n",
       "    <tr>\n",
       "      <th>11</th>\n",
       "      <td>0</td>\n",
       "      <td>1</td>\n",
       "    </tr>\n",
       "    <tr>\n",
       "      <th>12</th>\n",
       "      <td>0</td>\n",
       "      <td>0</td>\n",
       "    </tr>\n",
       "    <tr>\n",
       "      <th>13</th>\n",
       "      <td>0</td>\n",
       "      <td>0</td>\n",
       "    </tr>\n",
       "    <tr>\n",
       "      <th>14</th>\n",
       "      <td>0</td>\n",
       "      <td>0</td>\n",
       "    </tr>\n",
       "    <tr>\n",
       "      <th>15</th>\n",
       "      <td>0</td>\n",
       "      <td>0</td>\n",
       "    </tr>\n",
       "    <tr>\n",
       "      <th>16</th>\n",
       "      <td>1</td>\n",
       "      <td>1</td>\n",
       "    </tr>\n",
       "    <tr>\n",
       "      <th>17</th>\n",
       "      <td>1</td>\n",
       "      <td>1</td>\n",
       "    </tr>\n",
       "    <tr>\n",
       "      <th>18</th>\n",
       "      <td>1</td>\n",
       "      <td>1</td>\n",
       "    </tr>\n",
       "    <tr>\n",
       "      <th>19</th>\n",
       "      <td>1</td>\n",
       "      <td>1</td>\n",
       "    </tr>\n",
       "  </tbody>\n",
       "</table>\n",
       "</div>"
      ],
      "text/plain": [
       "    Actual Values  Predicted Values\n",
       "0               0                 0\n",
       "1               0                 0\n",
       "2               1                 1\n",
       "3               1                 1\n",
       "4               1                 1\n",
       "5               1                 1\n",
       "6               0                 0\n",
       "7               0                 0\n",
       "8               1                 1\n",
       "9               0                 0\n",
       "10              1                 1\n",
       "11              0                 1\n",
       "12              0                 0\n",
       "13              0                 0\n",
       "14              0                 0\n",
       "15              0                 0\n",
       "16              1                 1\n",
       "17              1                 1\n",
       "18              1                 1\n",
       "19              1                 1"
      ]
     },
     "execution_count": 56,
     "metadata": {},
     "output_type": "execute_result"
    }
   ],
   "source": [
    "comparision=pd.concat([y_test,y_pred_rf],axis=1)\n",
    "comparision.head(20)"
   ]
  },
  {
   "cell_type": "markdown",
   "metadata": {
    "id": "cRAUULbxe3Qt"
   },
   "source": [
    "## Create a Pickle file for Deployment Purpose"
   ]
  },
  {
   "cell_type": "code",
   "execution_count": 57,
   "metadata": {},
   "outputs": [],
   "source": [
    "import pickle\n",
    "# open a file, where you want to store the data\n",
    "file = open('insu_rf.pkl', 'wb')\n",
    "\n",
    "# dump information to that file\n",
    "pickle.dump(rf, file)"
   ]
  },
  {
   "cell_type": "code",
   "execution_count": 58,
   "metadata": {},
   "outputs": [],
   "source": [
    "model = pickle.load(open('insu_rf.pkl', 'rb'))"
   ]
  },
  {
   "cell_type": "code",
   "execution_count": 59,
   "metadata": {},
   "outputs": [],
   "source": [
    "y_prediction = model.predict(x_test)"
   ]
  },
  {
   "cell_type": "code",
   "execution_count": 60,
   "metadata": {
    "scrolled": true
   },
   "outputs": [],
   "source": [
    "y_prediction=pd.DataFrame(y_prediction)\n",
    "y_prediction.columns=['Predicted Values']"
   ]
  },
  {
   "cell_type": "code",
   "execution_count": 61,
   "metadata": {
    "scrolled": true
   },
   "outputs": [],
   "source": [
    "y_test=pd.DataFrame(y_test)\n",
    "y_test.columns=['Actual Values']"
   ]
  },
  {
   "cell_type": "markdown",
   "metadata": {},
   "source": [
    "#### Comparision of  Predictors, Actual and Predicted Values"
   ]
  },
  {
   "cell_type": "code",
   "execution_count": 62,
   "metadata": {},
   "outputs": [
    {
     "data": {
      "text/html": [
       "<div>\n",
       "<style scoped>\n",
       "    .dataframe tbody tr th:only-of-type {\n",
       "        vertical-align: middle;\n",
       "    }\n",
       "\n",
       "    .dataframe tbody tr th {\n",
       "        vertical-align: top;\n",
       "    }\n",
       "\n",
       "    .dataframe thead th {\n",
       "        text-align: right;\n",
       "    }\n",
       "</style>\n",
       "<table border=\"1\" class=\"dataframe\">\n",
       "  <thead>\n",
       "    <tr style=\"text-align: right;\">\n",
       "      <th></th>\n",
       "      <th>Area_Service</th>\n",
       "      <th>Age</th>\n",
       "      <th>Gender</th>\n",
       "      <th>Cultural_group</th>\n",
       "      <th>ethnicity</th>\n",
       "      <th>Days_spend_hsptl</th>\n",
       "      <th>Admission_type</th>\n",
       "      <th>home_self_care</th>\n",
       "      <th>ccs_diagnosis_code</th>\n",
       "      <th>ccs_procedure_code</th>\n",
       "      <th>Code_illness</th>\n",
       "      <th>mortality_risk</th>\n",
       "      <th>Surg_Description</th>\n",
       "      <th>emergency_dept_yes_no</th>\n",
       "      <th>Tot_charg</th>\n",
       "      <th>Tot_cost</th>\n",
       "      <th>Payment_Typology</th>\n",
       "      <th>Actual Values</th>\n",
       "      <th>Predicted Values</th>\n",
       "    </tr>\n",
       "  </thead>\n",
       "  <tbody>\n",
       "    <tr>\n",
       "      <th>0</th>\n",
       "      <td>1</td>\n",
       "      <td>4</td>\n",
       "      <td>0</td>\n",
       "      <td>3</td>\n",
       "      <td>0</td>\n",
       "      <td>1</td>\n",
       "      <td>0</td>\n",
       "      <td>8</td>\n",
       "      <td>237</td>\n",
       "      <td>61</td>\n",
       "      <td>3</td>\n",
       "      <td>3.0</td>\n",
       "      <td>2</td>\n",
       "      <td>0</td>\n",
       "      <td>12880.27</td>\n",
       "      <td>4154.20</td>\n",
       "      <td>3</td>\n",
       "      <td>0</td>\n",
       "      <td>0</td>\n",
       "    </tr>\n",
       "    <tr>\n",
       "      <th>1</th>\n",
       "      <td>6</td>\n",
       "      <td>4</td>\n",
       "      <td>0</td>\n",
       "      <td>3</td>\n",
       "      <td>0</td>\n",
       "      <td>6</td>\n",
       "      <td>1</td>\n",
       "      <td>8</td>\n",
       "      <td>122</td>\n",
       "      <td>0</td>\n",
       "      <td>3</td>\n",
       "      <td>2.0</td>\n",
       "      <td>0</td>\n",
       "      <td>1</td>\n",
       "      <td>15968.93</td>\n",
       "      <td>7829.80</td>\n",
       "      <td>2</td>\n",
       "      <td>0</td>\n",
       "      <td>0</td>\n",
       "    </tr>\n",
       "    <tr>\n",
       "      <th>2</th>\n",
       "      <td>3</td>\n",
       "      <td>0</td>\n",
       "      <td>0</td>\n",
       "      <td>3</td>\n",
       "      <td>0</td>\n",
       "      <td>2</td>\n",
       "      <td>2</td>\n",
       "      <td>7</td>\n",
       "      <td>218</td>\n",
       "      <td>0</td>\n",
       "      <td>1</td>\n",
       "      <td>1.0</td>\n",
       "      <td>0</td>\n",
       "      <td>0</td>\n",
       "      <td>3988.25</td>\n",
       "      <td>854.47</td>\n",
       "      <td>1</td>\n",
       "      <td>1</td>\n",
       "      <td>1</td>\n",
       "    </tr>\n",
       "    <tr>\n",
       "      <th>3</th>\n",
       "      <td>0</td>\n",
       "      <td>2</td>\n",
       "      <td>1</td>\n",
       "      <td>3</td>\n",
       "      <td>0</td>\n",
       "      <td>3</td>\n",
       "      <td>0</td>\n",
       "      <td>7</td>\n",
       "      <td>59</td>\n",
       "      <td>222</td>\n",
       "      <td>1</td>\n",
       "      <td>1.0</td>\n",
       "      <td>0</td>\n",
       "      <td>0</td>\n",
       "      <td>9058.35</td>\n",
       "      <td>4235.51</td>\n",
       "      <td>1</td>\n",
       "      <td>1</td>\n",
       "      <td>1</td>\n",
       "    </tr>\n",
       "    <tr>\n",
       "      <th>4</th>\n",
       "      <td>2</td>\n",
       "      <td>3</td>\n",
       "      <td>1</td>\n",
       "      <td>0</td>\n",
       "      <td>0</td>\n",
       "      <td>28</td>\n",
       "      <td>0</td>\n",
       "      <td>7</td>\n",
       "      <td>660</td>\n",
       "      <td>219</td>\n",
       "      <td>3</td>\n",
       "      <td>1.0</td>\n",
       "      <td>0</td>\n",
       "      <td>0</td>\n",
       "      <td>23546.25</td>\n",
       "      <td>9309.04</td>\n",
       "      <td>1</td>\n",
       "      <td>1</td>\n",
       "      <td>1</td>\n",
       "    </tr>\n",
       "    <tr>\n",
       "      <th>5</th>\n",
       "      <td>1</td>\n",
       "      <td>2</td>\n",
       "      <td>1</td>\n",
       "      <td>3</td>\n",
       "      <td>0</td>\n",
       "      <td>7</td>\n",
       "      <td>5</td>\n",
       "      <td>7</td>\n",
       "      <td>657</td>\n",
       "      <td>218</td>\n",
       "      <td>2</td>\n",
       "      <td>1.0</td>\n",
       "      <td>0</td>\n",
       "      <td>0</td>\n",
       "      <td>9949.09</td>\n",
       "      <td>5442.95</td>\n",
       "      <td>2</td>\n",
       "      <td>1</td>\n",
       "      <td>1</td>\n",
       "    </tr>\n",
       "    <tr>\n",
       "      <th>6</th>\n",
       "      <td>4</td>\n",
       "      <td>3</td>\n",
       "      <td>1</td>\n",
       "      <td>3</td>\n",
       "      <td>0</td>\n",
       "      <td>2</td>\n",
       "      <td>1</td>\n",
       "      <td>7</td>\n",
       "      <td>242</td>\n",
       "      <td>231</td>\n",
       "      <td>3</td>\n",
       "      <td>3.0</td>\n",
       "      <td>0</td>\n",
       "      <td>1</td>\n",
       "      <td>20230.36</td>\n",
       "      <td>4010.68</td>\n",
       "      <td>2</td>\n",
       "      <td>0</td>\n",
       "      <td>0</td>\n",
       "    </tr>\n",
       "    <tr>\n",
       "      <th>7</th>\n",
       "      <td>0</td>\n",
       "      <td>3</td>\n",
       "      <td>1</td>\n",
       "      <td>3</td>\n",
       "      <td>0</td>\n",
       "      <td>4</td>\n",
       "      <td>0</td>\n",
       "      <td>8</td>\n",
       "      <td>114</td>\n",
       "      <td>55</td>\n",
       "      <td>2</td>\n",
       "      <td>3.0</td>\n",
       "      <td>2</td>\n",
       "      <td>0</td>\n",
       "      <td>33903.21</td>\n",
       "      <td>12428.96</td>\n",
       "      <td>3</td>\n",
       "      <td>0</td>\n",
       "      <td>0</td>\n",
       "    </tr>\n",
       "    <tr>\n",
       "      <th>8</th>\n",
       "      <td>0</td>\n",
       "      <td>0</td>\n",
       "      <td>1</td>\n",
       "      <td>3</td>\n",
       "      <td>0</td>\n",
       "      <td>11</td>\n",
       "      <td>1</td>\n",
       "      <td>7</td>\n",
       "      <td>657</td>\n",
       "      <td>0</td>\n",
       "      <td>2</td>\n",
       "      <td>1.0</td>\n",
       "      <td>0</td>\n",
       "      <td>0</td>\n",
       "      <td>23619.15</td>\n",
       "      <td>8653.57</td>\n",
       "      <td>1</td>\n",
       "      <td>1</td>\n",
       "      <td>1</td>\n",
       "    </tr>\n",
       "    <tr>\n",
       "      <th>9</th>\n",
       "      <td>0</td>\n",
       "      <td>1</td>\n",
       "      <td>0</td>\n",
       "      <td>3</td>\n",
       "      <td>0</td>\n",
       "      <td>1</td>\n",
       "      <td>0</td>\n",
       "      <td>17</td>\n",
       "      <td>2</td>\n",
       "      <td>0</td>\n",
       "      <td>3</td>\n",
       "      <td>3.0</td>\n",
       "      <td>0</td>\n",
       "      <td>0</td>\n",
       "      <td>9323.40</td>\n",
       "      <td>3921.82</td>\n",
       "      <td>1</td>\n",
       "      <td>0</td>\n",
       "      <td>0</td>\n",
       "    </tr>\n",
       "  </tbody>\n",
       "</table>\n",
       "</div>"
      ],
      "text/plain": [
       "   Area_Service  Age  Gender  Cultural_group  ethnicity  Days_spend_hsptl  \\\n",
       "0             1    4       0               3          0                 1   \n",
       "1             6    4       0               3          0                 6   \n",
       "2             3    0       0               3          0                 2   \n",
       "3             0    2       1               3          0                 3   \n",
       "4             2    3       1               0          0                28   \n",
       "5             1    2       1               3          0                 7   \n",
       "6             4    3       1               3          0                 2   \n",
       "7             0    3       1               3          0                 4   \n",
       "8             0    0       1               3          0                11   \n",
       "9             0    1       0               3          0                 1   \n",
       "\n",
       "   Admission_type  home_self_care  ccs_diagnosis_code  ccs_procedure_code  \\\n",
       "0               0               8                 237                  61   \n",
       "1               1               8                 122                   0   \n",
       "2               2               7                 218                   0   \n",
       "3               0               7                  59                 222   \n",
       "4               0               7                 660                 219   \n",
       "5               5               7                 657                 218   \n",
       "6               1               7                 242                 231   \n",
       "7               0               8                 114                  55   \n",
       "8               1               7                 657                   0   \n",
       "9               0              17                   2                   0   \n",
       "\n",
       "   Code_illness  mortality_risk  Surg_Description  emergency_dept_yes_no  \\\n",
       "0             3             3.0                 2                      0   \n",
       "1             3             2.0                 0                      1   \n",
       "2             1             1.0                 0                      0   \n",
       "3             1             1.0                 0                      0   \n",
       "4             3             1.0                 0                      0   \n",
       "5             2             1.0                 0                      0   \n",
       "6             3             3.0                 0                      1   \n",
       "7             2             3.0                 2                      0   \n",
       "8             2             1.0                 0                      0   \n",
       "9             3             3.0                 0                      0   \n",
       "\n",
       "   Tot_charg  Tot_cost  Payment_Typology  Actual Values  Predicted Values  \n",
       "0   12880.27   4154.20                 3              0                 0  \n",
       "1   15968.93   7829.80                 2              0                 0  \n",
       "2    3988.25    854.47                 1              1                 1  \n",
       "3    9058.35   4235.51                 1              1                 1  \n",
       "4   23546.25   9309.04                 1              1                 1  \n",
       "5    9949.09   5442.95                 2              1                 1  \n",
       "6   20230.36   4010.68                 2              0                 0  \n",
       "7   33903.21  12428.96                 3              0                 0  \n",
       "8   23619.15   8653.57                 1              1                 1  \n",
       "9    9323.40   3921.82                 1              0                 0  "
      ]
     },
     "execution_count": 62,
     "metadata": {},
     "output_type": "execute_result"
    }
   ],
   "source": [
    "comparison_pickle=pd.concat([x_test,y_test,y_prediction],axis=1)\n",
    "comparison_pickle.head(10)"
   ]
  },
  {
   "cell_type": "code",
   "execution_count": null,
   "metadata": {},
   "outputs": [],
   "source": []
  }
 ],
 "metadata": {
  "colab": {
   "name": "final_model.ipynb",
   "provenance": []
  },
  "kernelspec": {
   "display_name": "Python 3",
   "language": "python",
   "name": "python3"
  },
  "language_info": {
   "codemirror_mode": {
    "name": "ipython",
    "version": 3
   },
   "file_extension": ".py",
   "mimetype": "text/x-python",
   "name": "python",
   "nbconvert_exporter": "python",
   "pygments_lexer": "ipython3",
   "version": "3.6.12"
  }
 },
 "nbformat": 4,
 "nbformat_minor": 1
}
