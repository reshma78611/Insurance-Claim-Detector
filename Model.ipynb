{
 "cells": [
  {
   "cell_type": "markdown",
   "metadata": {},
   "source": [
    "# Introduction:\n",
    "\n",
    "In this project, data on insurance is analysed and model is built for predicting whether the claim by the Hospital to the Insurance company is Fraudulent or Genuine"
   ]
  },
  {
   "cell_type": "markdown",
   "metadata": {},
   "source": [
    "# Objective:\n",
    "\n",
    "To predict whether the claim by the Hospital to the Insurance company is Fraudulent or Genuine"
   ]
  },
  {
   "cell_type": "markdown",
   "metadata": {
    "id": "nnTLBPXZEpo_"
   },
   "source": [
    "# Import libraries"
   ]
  },
  {
   "cell_type": "code",
   "execution_count": 1,
   "metadata": {
    "id": "ess40c_NEppE"
   },
   "outputs": [],
   "source": [
    "import numpy as np\n",
    "import pandas as pd\n",
    "import matplotlib.pyplot as plt\n",
    "%matplotlib inline\n",
    "import seaborn as sns"
   ]
  },
  {
   "cell_type": "markdown",
   "metadata": {
    "id": "DSr2_m0tEppG"
   },
   "source": [
    "# Import dataset"
   ]
  },
  {
   "cell_type": "code",
   "execution_count": 2,
   "metadata": {
    "colab": {
     "base_uri": "https://localhost:8080/",
     "height": 72,
     "resources": {
      "http://localhost:8080/nbextensions/google.colab/files.js": {
       "data": "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",
       "headers": [
        [
         "content-type",
         "application/javascript"
        ]
       ],
       "ok": true,
       "status": 200,
       "status_text": ""
      }
     }
    },
    "id": "SiAF84aGE-ck",
    "outputId": "1cfd3803-308d-4079-b5c3-99b16dcdc076"
   },
   "outputs": [],
   "source": [
    "#from google.colab import files\n",
    "#upload=files.upload()"
   ]
  },
  {
   "cell_type": "code",
   "execution_count": 3,
   "metadata": {
    "id": "h8ij6z6qEppH"
   },
   "outputs": [],
   "source": [
    "insu_data_original=pd.read_csv('Insurance Dataset.csv')"
   ]
  },
  {
   "cell_type": "markdown",
   "metadata": {
    "id": "LoYGrpSHEppI"
   },
   "source": [
    "# Exploratory Data Analysis"
   ]
  },
  {
   "cell_type": "code",
   "execution_count": 4,
   "metadata": {
    "colab": {
     "base_uri": "https://localhost:8080/",
     "height": 445
    },
    "id": "qzBa6STREppT",
    "outputId": "56c209a6-6388-4dc3-e7b8-1c6c505355d1"
   },
   "outputs": [
    {
     "data": {
      "text/html": [
       "<div>\n",
       "<style scoped>\n",
       "    .dataframe tbody tr th:only-of-type {\n",
       "        vertical-align: middle;\n",
       "    }\n",
       "\n",
       "    .dataframe tbody tr th {\n",
       "        vertical-align: top;\n",
       "    }\n",
       "\n",
       "    .dataframe thead th {\n",
       "        text-align: right;\n",
       "    }\n",
       "</style>\n",
       "<table border=\"1\" class=\"dataframe\">\n",
       "  <thead>\n",
       "    <tr style=\"text-align: right;\">\n",
       "      <th></th>\n",
       "      <th>Area_Service</th>\n",
       "      <th>Hospital County</th>\n",
       "      <th>Hospital Id</th>\n",
       "      <th>Age</th>\n",
       "      <th>Gender</th>\n",
       "      <th>Cultural_group</th>\n",
       "      <th>ethnicity</th>\n",
       "      <th>Days_spend_hsptl</th>\n",
       "      <th>Admission_type</th>\n",
       "      <th>Home or self care,</th>\n",
       "      <th>...</th>\n",
       "      <th>Mortality risk</th>\n",
       "      <th>Surg_Description</th>\n",
       "      <th>Weight_baby</th>\n",
       "      <th>Abortion</th>\n",
       "      <th>Emergency dept_yes/No</th>\n",
       "      <th>Tot_charg</th>\n",
       "      <th>Tot_cost</th>\n",
       "      <th>ratio_of_total_costs_to_total_charges</th>\n",
       "      <th>Result</th>\n",
       "      <th>Payment_Typology</th>\n",
       "    </tr>\n",
       "  </thead>\n",
       "  <tbody>\n",
       "    <tr>\n",
       "      <th>0</th>\n",
       "      <td>Western NY</td>\n",
       "      <td>Allegany</td>\n",
       "      <td>37.0</td>\n",
       "      <td>30 to 49</td>\n",
       "      <td>F</td>\n",
       "      <td>White</td>\n",
       "      <td>Not Span/Hispanic</td>\n",
       "      <td>4</td>\n",
       "      <td>Elective</td>\n",
       "      <td>Home or Self Care</td>\n",
       "      <td>...</td>\n",
       "      <td>1.0</td>\n",
       "      <td>Medical</td>\n",
       "      <td>0</td>\n",
       "      <td>N</td>\n",
       "      <td>Y</td>\n",
       "      <td>5511.95</td>\n",
       "      <td>5582.49</td>\n",
       "      <td>1.012798</td>\n",
       "      <td>1</td>\n",
       "      <td>1</td>\n",
       "    </tr>\n",
       "    <tr>\n",
       "      <th>1</th>\n",
       "      <td>Western NY</td>\n",
       "      <td>Allegany</td>\n",
       "      <td>37.0</td>\n",
       "      <td>70 or Older</td>\n",
       "      <td>F</td>\n",
       "      <td>White</td>\n",
       "      <td>Not Span/Hispanic</td>\n",
       "      <td>4</td>\n",
       "      <td>Urgent</td>\n",
       "      <td>Short-term Hospital</td>\n",
       "      <td>...</td>\n",
       "      <td>2.0</td>\n",
       "      <td>Medical</td>\n",
       "      <td>0</td>\n",
       "      <td>N</td>\n",
       "      <td>Y</td>\n",
       "      <td>4783.20</td>\n",
       "      <td>5162.82</td>\n",
       "      <td>1.079365</td>\n",
       "      <td>1</td>\n",
       "      <td>1</td>\n",
       "    </tr>\n",
       "    <tr>\n",
       "      <th>2</th>\n",
       "      <td>Western NY</td>\n",
       "      <td>Allegany</td>\n",
       "      <td>37.0</td>\n",
       "      <td>30 to 49</td>\n",
       "      <td>F</td>\n",
       "      <td>White</td>\n",
       "      <td>Not Span/Hispanic</td>\n",
       "      <td>3</td>\n",
       "      <td>Urgent</td>\n",
       "      <td>Home or Self Care</td>\n",
       "      <td>...</td>\n",
       "      <td>1.0</td>\n",
       "      <td>Medical</td>\n",
       "      <td>0</td>\n",
       "      <td>N</td>\n",
       "      <td>Y</td>\n",
       "      <td>3829.15</td>\n",
       "      <td>4056.52</td>\n",
       "      <td>1.059379</td>\n",
       "      <td>1</td>\n",
       "      <td>1</td>\n",
       "    </tr>\n",
       "    <tr>\n",
       "      <th>3</th>\n",
       "      <td>Western NY</td>\n",
       "      <td>Allegany</td>\n",
       "      <td>37.0</td>\n",
       "      <td>0 to 17</td>\n",
       "      <td>F</td>\n",
       "      <td>White</td>\n",
       "      <td>Not Span/Hispanic</td>\n",
       "      <td>1</td>\n",
       "      <td>Urgent</td>\n",
       "      <td>Home or Self Care</td>\n",
       "      <td>...</td>\n",
       "      <td>1.0</td>\n",
       "      <td>Medical</td>\n",
       "      <td>0</td>\n",
       "      <td>N</td>\n",
       "      <td>Y</td>\n",
       "      <td>1108.20</td>\n",
       "      <td>1644.75</td>\n",
       "      <td>1.484167</td>\n",
       "      <td>0</td>\n",
       "      <td>1</td>\n",
       "    </tr>\n",
       "    <tr>\n",
       "      <th>4</th>\n",
       "      <td>Western NY</td>\n",
       "      <td>Allegany</td>\n",
       "      <td>37.0</td>\n",
       "      <td>70 or Older</td>\n",
       "      <td>F</td>\n",
       "      <td>White</td>\n",
       "      <td>Not Span/Hispanic</td>\n",
       "      <td>3</td>\n",
       "      <td>Elective</td>\n",
       "      <td>Home or Self Care</td>\n",
       "      <td>...</td>\n",
       "      <td>3.0</td>\n",
       "      <td>Medical</td>\n",
       "      <td>0</td>\n",
       "      <td>N</td>\n",
       "      <td>Y</td>\n",
       "      <td>3418.18</td>\n",
       "      <td>3370.87</td>\n",
       "      <td>0.986161</td>\n",
       "      <td>1</td>\n",
       "      <td>1</td>\n",
       "    </tr>\n",
       "  </tbody>\n",
       "</table>\n",
       "<p>5 rows × 24 columns</p>\n",
       "</div>"
      ],
      "text/plain": [
       "  Area_Service Hospital County  Hospital Id          Age Gender  \\\n",
       "0   Western NY        Allegany         37.0     30 to 49      F   \n",
       "1   Western NY        Allegany         37.0  70 or Older      F   \n",
       "2   Western NY        Allegany         37.0     30 to 49      F   \n",
       "3   Western NY        Allegany         37.0      0 to 17      F   \n",
       "4   Western NY        Allegany         37.0  70 or Older      F   \n",
       "\n",
       "  Cultural_group          ethnicity Days_spend_hsptl Admission_type  \\\n",
       "0          White  Not Span/Hispanic                4       Elective   \n",
       "1          White  Not Span/Hispanic                4         Urgent   \n",
       "2          White  Not Span/Hispanic                3         Urgent   \n",
       "3          White  Not Span/Hispanic                1         Urgent   \n",
       "4          White  Not Span/Hispanic                3       Elective   \n",
       "\n",
       "    Home or self care,  ...  Mortality risk  Surg_Description Weight_baby  \\\n",
       "0    Home or Self Care  ...             1.0           Medical           0   \n",
       "1  Short-term Hospital  ...             2.0           Medical           0   \n",
       "2    Home or Self Care  ...             1.0           Medical           0   \n",
       "3    Home or Self Care  ...             1.0           Medical           0   \n",
       "4    Home or Self Care  ...             3.0           Medical           0   \n",
       "\n",
       "   Abortion  Emergency dept_yes/No Tot_charg  Tot_cost  \\\n",
       "0         N                      Y   5511.95   5582.49   \n",
       "1         N                      Y   4783.20   5162.82   \n",
       "2         N                      Y   3829.15   4056.52   \n",
       "3         N                      Y   1108.20   1644.75   \n",
       "4         N                      Y   3418.18   3370.87   \n",
       "\n",
       "  ratio_of_total_costs_to_total_charges Result  Payment_Typology  \n",
       "0                              1.012798      1                 1  \n",
       "1                              1.079365      1                 1  \n",
       "2                              1.059379      1                 1  \n",
       "3                              1.484167      0                 1  \n",
       "4                              0.986161      1                 1  \n",
       "\n",
       "[5 rows x 24 columns]"
      ]
     },
     "execution_count": 4,
     "metadata": {},
     "output_type": "execute_result"
    }
   ],
   "source": [
    "insu_data_original.head()"
   ]
  },
  {
   "cell_type": "code",
   "execution_count": 5,
   "metadata": {
    "colab": {
     "base_uri": "https://localhost:8080/"
    },
    "id": "j47vyGdjEppY",
    "outputId": "ffb48338-16ab-4600-cc42-9eb1a0977163"
   },
   "outputs": [
    {
     "data": {
      "text/plain": [
       "Index(['Area_Service', 'Hospital County', 'Hospital Id', 'Age', 'Gender',\n",
       "       'Cultural_group', 'ethnicity', 'Days_spend_hsptl', 'Admission_type',\n",
       "       'Home or self care,', 'ccs_diagnosis_code', 'ccs_procedure_code',\n",
       "       'apr_drg_description', 'Code_illness', 'Mortality risk',\n",
       "       'Surg_Description', 'Weight_baby', 'Abortion', 'Emergency dept_yes/No',\n",
       "       'Tot_charg', 'Tot_cost', 'ratio_of_total_costs_to_total_charges',\n",
       "       'Result', 'Payment_Typology'],\n",
       "      dtype='object')"
      ]
     },
     "execution_count": 5,
     "metadata": {},
     "output_type": "execute_result"
    }
   ],
   "source": [
    "insu_data_original.columns"
   ]
  },
  {
   "cell_type": "code",
   "execution_count": 6,
   "metadata": {
    "id": "0n7OMkfREpqq"
   },
   "outputs": [],
   "source": [
    "insu_data=insu_data_original.copy()"
   ]
  },
  {
   "cell_type": "code",
   "execution_count": 7,
   "metadata": {
    "id": "NPkye9JOEpqr"
   },
   "outputs": [],
   "source": [
    "insu_data.rename(columns={'Hospital County':'hospital_county','Hospital Id':'hospital_id','Home or self care,':'home_self_care','Mortality risk':'mortality_risk','Emergency dept_yes/No':'emergency_dept_yes_no'},inplace=True)"
   ]
  },
  {
   "cell_type": "code",
   "execution_count": 8,
   "metadata": {
    "colab": {
     "base_uri": "https://localhost:8080/"
    },
    "id": "HBZ6-wtrEpqt",
    "outputId": "524bba36-dcbf-4a8c-da21-823754b565b4"
   },
   "outputs": [
    {
     "data": {
      "text/plain": [
       "Index(['Area_Service', 'hospital_county', 'hospital_id', 'Age', 'Gender',\n",
       "       'Cultural_group', 'ethnicity', 'Days_spend_hsptl', 'Admission_type',\n",
       "       'home_self_care', 'ccs_diagnosis_code', 'ccs_procedure_code',\n",
       "       'apr_drg_description', 'Code_illness', 'mortality_risk',\n",
       "       'Surg_Description', 'Weight_baby', 'Abortion', 'emergency_dept_yes_no',\n",
       "       'Tot_charg', 'Tot_cost', 'ratio_of_total_costs_to_total_charges',\n",
       "       'Result', 'Payment_Typology'],\n",
       "      dtype='object')"
      ]
     },
     "execution_count": 8,
     "metadata": {},
     "output_type": "execute_result"
    }
   ],
   "source": [
    "insu_data.columns"
   ]
  },
  {
   "cell_type": "code",
   "execution_count": 9,
   "metadata": {
    "colab": {
     "base_uri": "https://localhost:8080/"
    },
    "id": "hYY9OZIKEpqu",
    "outputId": "165c6732-28b6-4546-afcb-3e135a2e6760"
   },
   "outputs": [
    {
     "data": {
      "text/plain": [
       "pandas.core.frame.DataFrame"
      ]
     },
     "execution_count": 9,
     "metadata": {},
     "output_type": "execute_result"
    }
   ],
   "source": [
    "type(insu_data)"
   ]
  },
  {
   "cell_type": "code",
   "execution_count": 10,
   "metadata": {
    "colab": {
     "base_uri": "https://localhost:8080/",
     "height": 309
    },
    "id": "nq4WE6A1Epqv",
    "outputId": "f3c557dc-1c98-43b9-c1e4-197853d72b69"
   },
   "outputs": [
    {
     "data": {
      "text/html": [
       "<div>\n",
       "<style scoped>\n",
       "    .dataframe tbody tr th:only-of-type {\n",
       "        vertical-align: middle;\n",
       "    }\n",
       "\n",
       "    .dataframe tbody tr th {\n",
       "        vertical-align: top;\n",
       "    }\n",
       "\n",
       "    .dataframe thead th {\n",
       "        text-align: right;\n",
       "    }\n",
       "</style>\n",
       "<table border=\"1\" class=\"dataframe\">\n",
       "  <thead>\n",
       "    <tr style=\"text-align: right;\">\n",
       "      <th></th>\n",
       "      <th>Area_Service</th>\n",
       "      <th>hospital_county</th>\n",
       "      <th>hospital_id</th>\n",
       "      <th>Age</th>\n",
       "      <th>Gender</th>\n",
       "      <th>Cultural_group</th>\n",
       "      <th>ethnicity</th>\n",
       "      <th>Days_spend_hsptl</th>\n",
       "      <th>Admission_type</th>\n",
       "      <th>home_self_care</th>\n",
       "      <th>...</th>\n",
       "      <th>mortality_risk</th>\n",
       "      <th>Surg_Description</th>\n",
       "      <th>Weight_baby</th>\n",
       "      <th>Abortion</th>\n",
       "      <th>emergency_dept_yes_no</th>\n",
       "      <th>Tot_charg</th>\n",
       "      <th>Tot_cost</th>\n",
       "      <th>ratio_of_total_costs_to_total_charges</th>\n",
       "      <th>Result</th>\n",
       "      <th>Payment_Typology</th>\n",
       "    </tr>\n",
       "  </thead>\n",
       "  <tbody>\n",
       "    <tr>\n",
       "      <th>0</th>\n",
       "      <td>Western NY</td>\n",
       "      <td>Allegany</td>\n",
       "      <td>37.0</td>\n",
       "      <td>30 to 49</td>\n",
       "      <td>F</td>\n",
       "      <td>White</td>\n",
       "      <td>Not Span/Hispanic</td>\n",
       "      <td>4</td>\n",
       "      <td>Elective</td>\n",
       "      <td>Home or Self Care</td>\n",
       "      <td>...</td>\n",
       "      <td>1.0</td>\n",
       "      <td>Medical</td>\n",
       "      <td>0</td>\n",
       "      <td>N</td>\n",
       "      <td>Y</td>\n",
       "      <td>5511.95</td>\n",
       "      <td>5582.49</td>\n",
       "      <td>1.012798</td>\n",
       "      <td>1</td>\n",
       "      <td>1</td>\n",
       "    </tr>\n",
       "    <tr>\n",
       "      <th>1</th>\n",
       "      <td>Western NY</td>\n",
       "      <td>Allegany</td>\n",
       "      <td>37.0</td>\n",
       "      <td>70 or Older</td>\n",
       "      <td>F</td>\n",
       "      <td>White</td>\n",
       "      <td>Not Span/Hispanic</td>\n",
       "      <td>4</td>\n",
       "      <td>Urgent</td>\n",
       "      <td>Short-term Hospital</td>\n",
       "      <td>...</td>\n",
       "      <td>2.0</td>\n",
       "      <td>Medical</td>\n",
       "      <td>0</td>\n",
       "      <td>N</td>\n",
       "      <td>Y</td>\n",
       "      <td>4783.20</td>\n",
       "      <td>5162.82</td>\n",
       "      <td>1.079365</td>\n",
       "      <td>1</td>\n",
       "      <td>1</td>\n",
       "    </tr>\n",
       "    <tr>\n",
       "      <th>2</th>\n",
       "      <td>Western NY</td>\n",
       "      <td>Allegany</td>\n",
       "      <td>37.0</td>\n",
       "      <td>30 to 49</td>\n",
       "      <td>F</td>\n",
       "      <td>White</td>\n",
       "      <td>Not Span/Hispanic</td>\n",
       "      <td>3</td>\n",
       "      <td>Urgent</td>\n",
       "      <td>Home or Self Care</td>\n",
       "      <td>...</td>\n",
       "      <td>1.0</td>\n",
       "      <td>Medical</td>\n",
       "      <td>0</td>\n",
       "      <td>N</td>\n",
       "      <td>Y</td>\n",
       "      <td>3829.15</td>\n",
       "      <td>4056.52</td>\n",
       "      <td>1.059379</td>\n",
       "      <td>1</td>\n",
       "      <td>1</td>\n",
       "    </tr>\n",
       "    <tr>\n",
       "      <th>3</th>\n",
       "      <td>Western NY</td>\n",
       "      <td>Allegany</td>\n",
       "      <td>37.0</td>\n",
       "      <td>0 to 17</td>\n",
       "      <td>F</td>\n",
       "      <td>White</td>\n",
       "      <td>Not Span/Hispanic</td>\n",
       "      <td>1</td>\n",
       "      <td>Urgent</td>\n",
       "      <td>Home or Self Care</td>\n",
       "      <td>...</td>\n",
       "      <td>1.0</td>\n",
       "      <td>Medical</td>\n",
       "      <td>0</td>\n",
       "      <td>N</td>\n",
       "      <td>Y</td>\n",
       "      <td>1108.20</td>\n",
       "      <td>1644.75</td>\n",
       "      <td>1.484167</td>\n",
       "      <td>0</td>\n",
       "      <td>1</td>\n",
       "    </tr>\n",
       "    <tr>\n",
       "      <th>4</th>\n",
       "      <td>Western NY</td>\n",
       "      <td>Allegany</td>\n",
       "      <td>37.0</td>\n",
       "      <td>70 or Older</td>\n",
       "      <td>F</td>\n",
       "      <td>White</td>\n",
       "      <td>Not Span/Hispanic</td>\n",
       "      <td>3</td>\n",
       "      <td>Elective</td>\n",
       "      <td>Home or Self Care</td>\n",
       "      <td>...</td>\n",
       "      <td>3.0</td>\n",
       "      <td>Medical</td>\n",
       "      <td>0</td>\n",
       "      <td>N</td>\n",
       "      <td>Y</td>\n",
       "      <td>3418.18</td>\n",
       "      <td>3370.87</td>\n",
       "      <td>0.986161</td>\n",
       "      <td>1</td>\n",
       "      <td>1</td>\n",
       "    </tr>\n",
       "  </tbody>\n",
       "</table>\n",
       "<p>5 rows × 24 columns</p>\n",
       "</div>"
      ],
      "text/plain": [
       "  Area_Service hospital_county  hospital_id          Age Gender  \\\n",
       "0   Western NY        Allegany         37.0     30 to 49      F   \n",
       "1   Western NY        Allegany         37.0  70 or Older      F   \n",
       "2   Western NY        Allegany         37.0     30 to 49      F   \n",
       "3   Western NY        Allegany         37.0      0 to 17      F   \n",
       "4   Western NY        Allegany         37.0  70 or Older      F   \n",
       "\n",
       "  Cultural_group          ethnicity Days_spend_hsptl Admission_type  \\\n",
       "0          White  Not Span/Hispanic                4       Elective   \n",
       "1          White  Not Span/Hispanic                4         Urgent   \n",
       "2          White  Not Span/Hispanic                3         Urgent   \n",
       "3          White  Not Span/Hispanic                1         Urgent   \n",
       "4          White  Not Span/Hispanic                3       Elective   \n",
       "\n",
       "        home_self_care  ...  mortality_risk  Surg_Description Weight_baby  \\\n",
       "0    Home or Self Care  ...             1.0           Medical           0   \n",
       "1  Short-term Hospital  ...             2.0           Medical           0   \n",
       "2    Home or Self Care  ...             1.0           Medical           0   \n",
       "3    Home or Self Care  ...             1.0           Medical           0   \n",
       "4    Home or Self Care  ...             3.0           Medical           0   \n",
       "\n",
       "   Abortion  emergency_dept_yes_no Tot_charg  Tot_cost  \\\n",
       "0         N                      Y   5511.95   5582.49   \n",
       "1         N                      Y   4783.20   5162.82   \n",
       "2         N                      Y   3829.15   4056.52   \n",
       "3         N                      Y   1108.20   1644.75   \n",
       "4         N                      Y   3418.18   3370.87   \n",
       "\n",
       "  ratio_of_total_costs_to_total_charges Result  Payment_Typology  \n",
       "0                              1.012798      1                 1  \n",
       "1                              1.079365      1                 1  \n",
       "2                              1.059379      1                 1  \n",
       "3                              1.484167      0                 1  \n",
       "4                              0.986161      1                 1  \n",
       "\n",
       "[5 rows x 24 columns]"
      ]
     },
     "execution_count": 10,
     "metadata": {},
     "output_type": "execute_result"
    }
   ],
   "source": [
    "insu_data.head()"
   ]
  },
  {
   "cell_type": "code",
   "execution_count": 11,
   "metadata": {
    "colab": {
     "base_uri": "https://localhost:8080/"
    },
    "id": "dq51r66NEpqw",
    "outputId": "8b3e9358-94de-40bb-b89e-a2e83768e653"
   },
   "outputs": [
    {
     "data": {
      "text/plain": [
       "Index(['Area_Service', 'hospital_county', 'hospital_id', 'Age', 'Gender',\n",
       "       'Cultural_group', 'ethnicity', 'Days_spend_hsptl', 'Admission_type',\n",
       "       'home_self_care', 'ccs_diagnosis_code', 'ccs_procedure_code',\n",
       "       'apr_drg_description', 'Code_illness', 'mortality_risk',\n",
       "       'Surg_Description', 'Weight_baby', 'Abortion', 'emergency_dept_yes_no',\n",
       "       'Tot_charg', 'Tot_cost', 'ratio_of_total_costs_to_total_charges',\n",
       "       'Result', 'Payment_Typology'],\n",
       "      dtype='object')"
      ]
     },
     "execution_count": 11,
     "metadata": {},
     "output_type": "execute_result"
    }
   ],
   "source": [
    "insu_data.columns"
   ]
  },
  {
   "cell_type": "code",
   "execution_count": 12,
   "metadata": {
    "colab": {
     "base_uri": "https://localhost:8080/"
    },
    "id": "kfUvu6c8Epqx",
    "outputId": "3facab84-dfab-4f6c-bbb1-09aaafe79e66"
   },
   "outputs": [
    {
     "data": {
      "text/plain": [
       "(1048575, 24)"
      ]
     },
     "execution_count": 12,
     "metadata": {},
     "output_type": "execute_result"
    }
   ],
   "source": [
    "insu_data.shape"
   ]
  },
  {
   "cell_type": "code",
   "execution_count": 13,
   "metadata": {
    "colab": {
     "base_uri": "https://localhost:8080/",
     "height": 317
    },
    "id": "DzuRe_lEEpqy",
    "outputId": "cb167bd4-52b2-4c45-987c-c9379876a60f",
    "scrolled": true
   },
   "outputs": [
    {
     "data": {
      "text/html": [
       "<div>\n",
       "<style scoped>\n",
       "    .dataframe tbody tr th:only-of-type {\n",
       "        vertical-align: middle;\n",
       "    }\n",
       "\n",
       "    .dataframe tbody tr th {\n",
       "        vertical-align: top;\n",
       "    }\n",
       "\n",
       "    .dataframe thead th {\n",
       "        text-align: right;\n",
       "    }\n",
       "</style>\n",
       "<table border=\"1\" class=\"dataframe\">\n",
       "  <thead>\n",
       "    <tr style=\"text-align: right;\">\n",
       "      <th></th>\n",
       "      <th>hospital_id</th>\n",
       "      <th>ccs_diagnosis_code</th>\n",
       "      <th>ccs_procedure_code</th>\n",
       "      <th>Code_illness</th>\n",
       "      <th>mortality_risk</th>\n",
       "      <th>Weight_baby</th>\n",
       "      <th>Tot_charg</th>\n",
       "      <th>Tot_cost</th>\n",
       "      <th>ratio_of_total_costs_to_total_charges</th>\n",
       "      <th>Result</th>\n",
       "      <th>Payment_Typology</th>\n",
       "    </tr>\n",
       "  </thead>\n",
       "  <tbody>\n",
       "    <tr>\n",
       "      <th>count</th>\n",
       "      <td>1.046119e+06</td>\n",
       "      <td>1.048575e+06</td>\n",
       "      <td>1.048575e+06</td>\n",
       "      <td>1.048575e+06</td>\n",
       "      <td>1.048533e+06</td>\n",
       "      <td>1.048575e+06</td>\n",
       "      <td>1.048575e+06</td>\n",
       "      <td>1.048575e+06</td>\n",
       "      <td>1.048575e+06</td>\n",
       "      <td>1.048575e+06</td>\n",
       "      <td>1.048575e+06</td>\n",
       "    </tr>\n",
       "    <tr>\n",
       "      <th>mean</th>\n",
       "      <td>6.529400e+02</td>\n",
       "      <td>1.987936e+02</td>\n",
       "      <td>9.723249e+01</td>\n",
       "      <td>2.051806e+00</td>\n",
       "      <td>1.748955e+00</td>\n",
       "      <td>2.935512e+02</td>\n",
       "      <td>2.708697e+04</td>\n",
       "      <td>1.046399e+04</td>\n",
       "      <td>4.565822e-01</td>\n",
       "      <td>7.499769e-01</td>\n",
       "      <td>1.935755e+00</td>\n",
       "    </tr>\n",
       "    <tr>\n",
       "      <th>std</th>\n",
       "      <td>6.711577e+02</td>\n",
       "      <td>1.652839e+02</td>\n",
       "      <td>8.732697e+01</td>\n",
       "      <td>9.145785e-01</td>\n",
       "      <td>9.864236e-01</td>\n",
       "      <td>9.494631e+02</td>\n",
       "      <td>5.487428e+04</td>\n",
       "      <td>2.230366e+04</td>\n",
       "      <td>8.029246e-01</td>\n",
       "      <td>4.330263e-01</td>\n",
       "      <td>7.717916e-01</td>\n",
       "    </tr>\n",
       "    <tr>\n",
       "      <th>min</th>\n",
       "      <td>1.000000e+00</td>\n",
       "      <td>1.000000e+00</td>\n",
       "      <td>0.000000e+00</td>\n",
       "      <td>0.000000e+00</td>\n",
       "      <td>1.000000e+00</td>\n",
       "      <td>0.000000e+00</td>\n",
       "      <td>3.100000e-01</td>\n",
       "      <td>1.000000e-01</td>\n",
       "      <td>3.312909e-02</td>\n",
       "      <td>0.000000e+00</td>\n",
       "      <td>1.000000e+00</td>\n",
       "    </tr>\n",
       "    <tr>\n",
       "      <th>25%</th>\n",
       "      <td>2.130000e+02</td>\n",
       "      <td>1.080000e+02</td>\n",
       "      <td>0.000000e+00</td>\n",
       "      <td>1.000000e+00</td>\n",
       "      <td>1.000000e+00</td>\n",
       "      <td>0.000000e+00</td>\n",
       "      <td>7.402500e+03</td>\n",
       "      <td>3.234570e+03</td>\n",
       "      <td>3.135802e-01</td>\n",
       "      <td>0.000000e+00</td>\n",
       "      <td>1.000000e+00</td>\n",
       "    </tr>\n",
       "    <tr>\n",
       "      <th>50%</th>\n",
       "      <td>6.300000e+02</td>\n",
       "      <td>1.590000e+02</td>\n",
       "      <td>9.000000e+01</td>\n",
       "      <td>2.000000e+00</td>\n",
       "      <td>1.000000e+00</td>\n",
       "      <td>0.000000e+00</td>\n",
       "      <td>1.458988e+04</td>\n",
       "      <td>5.928480e+03</td>\n",
       "      <td>4.091384e-01</td>\n",
       "      <td>1.000000e+00</td>\n",
       "      <td>2.000000e+00</td>\n",
       "    </tr>\n",
       "    <tr>\n",
       "      <th>75%</th>\n",
       "      <td>9.770000e+02</td>\n",
       "      <td>2.180000e+02</td>\n",
       "      <td>1.740000e+02</td>\n",
       "      <td>3.000000e+00</td>\n",
       "      <td>3.000000e+00</td>\n",
       "      <td>0.000000e+00</td>\n",
       "      <td>2.914547e+04</td>\n",
       "      <td>1.134317e+04</td>\n",
       "      <td>5.192548e-01</td>\n",
       "      <td>1.000000e+00</td>\n",
       "      <td>3.000000e+00</td>\n",
       "    </tr>\n",
       "    <tr>\n",
       "      <th>max</th>\n",
       "      <td>9.250000e+03</td>\n",
       "      <td>6.700000e+02</td>\n",
       "      <td>2.310000e+02</td>\n",
       "      <td>4.000000e+00</td>\n",
       "      <td>4.000000e+00</td>\n",
       "      <td>9.000000e+03</td>\n",
       "      <td>6.196974e+06</td>\n",
       "      <td>2.562478e+06</td>\n",
       "      <td>1.575596e+02</td>\n",
       "      <td>1.000000e+00</td>\n",
       "      <td>5.000000e+00</td>\n",
       "    </tr>\n",
       "  </tbody>\n",
       "</table>\n",
       "</div>"
      ],
      "text/plain": [
       "        hospital_id  ccs_diagnosis_code  ccs_procedure_code  Code_illness  \\\n",
       "count  1.046119e+06        1.048575e+06        1.048575e+06  1.048575e+06   \n",
       "mean   6.529400e+02        1.987936e+02        9.723249e+01  2.051806e+00   \n",
       "std    6.711577e+02        1.652839e+02        8.732697e+01  9.145785e-01   \n",
       "min    1.000000e+00        1.000000e+00        0.000000e+00  0.000000e+00   \n",
       "25%    2.130000e+02        1.080000e+02        0.000000e+00  1.000000e+00   \n",
       "50%    6.300000e+02        1.590000e+02        9.000000e+01  2.000000e+00   \n",
       "75%    9.770000e+02        2.180000e+02        1.740000e+02  3.000000e+00   \n",
       "max    9.250000e+03        6.700000e+02        2.310000e+02  4.000000e+00   \n",
       "\n",
       "       mortality_risk   Weight_baby     Tot_charg      Tot_cost  \\\n",
       "count    1.048533e+06  1.048575e+06  1.048575e+06  1.048575e+06   \n",
       "mean     1.748955e+00  2.935512e+02  2.708697e+04  1.046399e+04   \n",
       "std      9.864236e-01  9.494631e+02  5.487428e+04  2.230366e+04   \n",
       "min      1.000000e+00  0.000000e+00  3.100000e-01  1.000000e-01   \n",
       "25%      1.000000e+00  0.000000e+00  7.402500e+03  3.234570e+03   \n",
       "50%      1.000000e+00  0.000000e+00  1.458988e+04  5.928480e+03   \n",
       "75%      3.000000e+00  0.000000e+00  2.914547e+04  1.134317e+04   \n",
       "max      4.000000e+00  9.000000e+03  6.196974e+06  2.562478e+06   \n",
       "\n",
       "       ratio_of_total_costs_to_total_charges        Result  Payment_Typology  \n",
       "count                           1.048575e+06  1.048575e+06      1.048575e+06  \n",
       "mean                            4.565822e-01  7.499769e-01      1.935755e+00  \n",
       "std                             8.029246e-01  4.330263e-01      7.717916e-01  \n",
       "min                             3.312909e-02  0.000000e+00      1.000000e+00  \n",
       "25%                             3.135802e-01  0.000000e+00      1.000000e+00  \n",
       "50%                             4.091384e-01  1.000000e+00      2.000000e+00  \n",
       "75%                             5.192548e-01  1.000000e+00      3.000000e+00  \n",
       "max                             1.575596e+02  1.000000e+00      5.000000e+00  "
      ]
     },
     "execution_count": 13,
     "metadata": {},
     "output_type": "execute_result"
    }
   ],
   "source": [
    "insu_data.describe()"
   ]
  },
  {
   "cell_type": "code",
   "execution_count": 14,
   "metadata": {
    "colab": {
     "base_uri": "https://localhost:8080/"
    },
    "id": "YRJg908TEpqz",
    "outputId": "bd904e71-5a95-4fdf-faef-6ddf8c9ab162"
   },
   "outputs": [
    {
     "name": "stdout",
     "output_type": "stream",
     "text": [
      "<class 'pandas.core.frame.DataFrame'>\n",
      "RangeIndex: 1048575 entries, 0 to 1048574\n",
      "Data columns (total 24 columns):\n",
      " #   Column                                 Non-Null Count    Dtype  \n",
      "---  ------                                 --------------    -----  \n",
      " 0   Area_Service                           1046119 non-null  object \n",
      " 1   hospital_county                        1046119 non-null  object \n",
      " 2   hospital_id                            1046119 non-null  float64\n",
      " 3   Age                                    1048575 non-null  object \n",
      " 4   Gender                                 1048575 non-null  object \n",
      " 5   Cultural_group                         1048575 non-null  object \n",
      " 6   ethnicity                              1048575 non-null  object \n",
      " 7   Days_spend_hsptl                       1048575 non-null  object \n",
      " 8   Admission_type                         1048575 non-null  object \n",
      " 9   home_self_care                         1048575 non-null  object \n",
      " 10  ccs_diagnosis_code                     1048575 non-null  int64  \n",
      " 11  ccs_procedure_code                     1048575 non-null  int64  \n",
      " 12  apr_drg_description                    1048575 non-null  object \n",
      " 13  Code_illness                           1048575 non-null  int64  \n",
      " 14  mortality_risk                         1048533 non-null  float64\n",
      " 15  Surg_Description                       1048575 non-null  object \n",
      " 16  Weight_baby                            1048575 non-null  int64  \n",
      " 17  Abortion                               1048575 non-null  object \n",
      " 18  emergency_dept_yes_no                  1048575 non-null  object \n",
      " 19  Tot_charg                              1048575 non-null  float64\n",
      " 20  Tot_cost                               1048575 non-null  float64\n",
      " 21  ratio_of_total_costs_to_total_charges  1048575 non-null  float64\n",
      " 22  Result                                 1048575 non-null  int64  \n",
      " 23  Payment_Typology                       1048575 non-null  int64  \n",
      "dtypes: float64(5), int64(6), object(13)\n",
      "memory usage: 192.0+ MB\n"
     ]
    }
   ],
   "source": [
    "insu_data.info()"
   ]
  },
  {
   "cell_type": "code",
   "execution_count": 15,
   "metadata": {
    "colab": {
     "base_uri": "https://localhost:8080/"
    },
    "id": "wVC8tYZREpq0",
    "outputId": "dc077046-a243-4909-e35d-43c6d519dc3a"
   },
   "outputs": [
    {
     "data": {
      "text/plain": [
       "['Area_Service',\n",
       " 'hospital_county',\n",
       " 'hospital_id',\n",
       " 'Age',\n",
       " 'Gender',\n",
       " 'Cultural_group',\n",
       " 'ethnicity',\n",
       " 'Days_spend_hsptl',\n",
       " 'Admission_type',\n",
       " 'home_self_care',\n",
       " 'ccs_diagnosis_code',\n",
       " 'ccs_procedure_code',\n",
       " 'apr_drg_description',\n",
       " 'Code_illness',\n",
       " 'mortality_risk',\n",
       " 'Surg_Description',\n",
       " 'Weight_baby',\n",
       " 'Abortion',\n",
       " 'emergency_dept_yes_no',\n",
       " 'Tot_charg',\n",
       " 'Tot_cost',\n",
       " 'ratio_of_total_costs_to_total_charges',\n",
       " 'Result',\n",
       " 'Payment_Typology']"
      ]
     },
     "execution_count": 15,
     "metadata": {},
     "output_type": "execute_result"
    }
   ],
   "source": [
    "insu_data_columns=['Area_Service', 'hospital_county', 'hospital_id', 'Age', 'Gender','Cultural_group', 'ethnicity', 'Days_spend_hsptl', 'Admission_type','home_self_care', 'ccs_diagnosis_code', 'ccs_procedure_code','apr_drg_description', 'Code_illness', 'mortality_risk','Surg_Description', 'Weight_baby', 'Abortion', 'emergency_dept_yes_no','Tot_charg', 'Tot_cost', 'ratio_of_total_costs_to_total_charges','Result', 'Payment_Typology']\n",
    "insu_data_columns"
   ]
  },
  {
   "cell_type": "code",
   "execution_count": 16,
   "metadata": {
    "colab": {
     "base_uri": "https://localhost:8080/"
    },
    "id": "CHhiZj09Epq5",
    "outputId": "4c07d97c-67ed-4911-f33a-855805fc28c2",
    "scrolled": true
   },
   "outputs": [
    {
     "name": "stdout",
     "output_type": "stream",
     "text": [
      "8\n",
      "52\n",
      "144\n",
      "5\n",
      "3\n",
      "4\n",
      "3\n",
      "120\n",
      "6\n",
      "19\n",
      "262\n",
      "230\n",
      "316\n",
      "5\n",
      "5\n",
      "3\n",
      "70\n",
      "2\n",
      "2\n",
      "869659\n",
      "766537\n",
      "987065\n",
      "2\n",
      "5\n"
     ]
    }
   ],
   "source": [
    "for i in insu_data_columns:\n",
    "   print(len(insu_data[i].unique()))"
   ]
  },
  {
   "cell_type": "code",
   "execution_count": 17,
   "metadata": {
    "colab": {
     "base_uri": "https://localhost:8080/"
    },
    "id": "OXZqVuUBEpq6",
    "outputId": "54b65a14-fb66-4638-e2f3-31422cf05597"
   },
   "outputs": [
    {
     "data": {
      "text/plain": [
       "Area_Service                             2456\n",
       "hospital_county                          2456\n",
       "hospital_id                              2456\n",
       "Age                                         0\n",
       "Gender                                      0\n",
       "Cultural_group                              0\n",
       "ethnicity                                   0\n",
       "Days_spend_hsptl                            0\n",
       "Admission_type                              0\n",
       "home_self_care                              0\n",
       "ccs_diagnosis_code                          0\n",
       "ccs_procedure_code                          0\n",
       "apr_drg_description                         0\n",
       "Code_illness                                0\n",
       "mortality_risk                             42\n",
       "Surg_Description                            0\n",
       "Weight_baby                                 0\n",
       "Abortion                                    0\n",
       "emergency_dept_yes_no                       0\n",
       "Tot_charg                                   0\n",
       "Tot_cost                                    0\n",
       "ratio_of_total_costs_to_total_charges       0\n",
       "Result                                      0\n",
       "Payment_Typology                            0\n",
       "dtype: int64"
      ]
     },
     "execution_count": 17,
     "metadata": {},
     "output_type": "execute_result"
    }
   ],
   "source": [
    "insu_data.isnull().sum()"
   ]
  },
  {
   "cell_type": "code",
   "execution_count": 18,
   "metadata": {
    "colab": {
     "base_uri": "https://localhost:8080/"
    },
    "id": "gX3IRPs5Epq7",
    "outputId": "1fcd2dd6-070f-4b34-816b-7a2bdb138500"
   },
   "outputs": [
    {
     "data": {
      "text/plain": [
       "Area_Service                             0.002342\n",
       "hospital_county                          0.002342\n",
       "hospital_id                              0.002342\n",
       "Age                                      0.000000\n",
       "Gender                                   0.000000\n",
       "Cultural_group                           0.000000\n",
       "ethnicity                                0.000000\n",
       "Days_spend_hsptl                         0.000000\n",
       "Admission_type                           0.000000\n",
       "home_self_care                           0.000000\n",
       "ccs_diagnosis_code                       0.000000\n",
       "ccs_procedure_code                       0.000000\n",
       "apr_drg_description                      0.000000\n",
       "Code_illness                             0.000000\n",
       "mortality_risk                           0.000040\n",
       "Surg_Description                         0.000000\n",
       "Weight_baby                              0.000000\n",
       "Abortion                                 0.000000\n",
       "emergency_dept_yes_no                    0.000000\n",
       "Tot_charg                                0.000000\n",
       "Tot_cost                                 0.000000\n",
       "ratio_of_total_costs_to_total_charges    0.000000\n",
       "Result                                   0.000000\n",
       "Payment_Typology                         0.000000\n",
       "dtype: float64"
      ]
     },
     "execution_count": 18,
     "metadata": {},
     "output_type": "execute_result"
    }
   ],
   "source": [
    "insu_data.isnull().mean()"
   ]
  },
  {
   "cell_type": "markdown",
   "metadata": {
    "id": "yy0PmDF0Epq8"
   },
   "source": [
    "#### Here we have percentage of null values as area of service=0.23, hospital_county=0.23, hospital_id=0.23, mortality_risk=0.04. So replacing these NA values with central tendencies."
   ]
  },
  {
   "cell_type": "code",
   "execution_count": 19,
   "metadata": {
    "id": "qzSjofyEEpq9"
   },
   "outputs": [],
   "source": [
    "#filling missing values with Mode \n",
    "insu_data['Area_Service'] = insu_data['Area_Service'].fillna(insu_data['Area_Service'].mode()[0])\n",
    "insu_data['hospital_county'] = insu_data['hospital_county'].fillna(insu_data['hospital_county'].mode()[0])\n",
    "#filling Hospital Id missing values with Median \n",
    "insu_data['hospital_id'] = insu_data['hospital_id'].fillna(insu_data['hospital_id'].median())\n",
    "insu_data[\"mortality_risk\"].fillna(0,inplace=True)"
   ]
  },
  {
   "cell_type": "code",
   "execution_count": 20,
   "metadata": {
    "colab": {
     "base_uri": "https://localhost:8080/"
    },
    "id": "veYByz25Epq9",
    "outputId": "7f67dcb6-15cc-4cfa-b342-b56431f9dc1e"
   },
   "outputs": [
    {
     "data": {
      "text/plain": [
       "Area_Service                             0\n",
       "hospital_county                          0\n",
       "hospital_id                              0\n",
       "Age                                      0\n",
       "Gender                                   0\n",
       "Cultural_group                           0\n",
       "ethnicity                                0\n",
       "Days_spend_hsptl                         0\n",
       "Admission_type                           0\n",
       "home_self_care                           0\n",
       "ccs_diagnosis_code                       0\n",
       "ccs_procedure_code                       0\n",
       "apr_drg_description                      0\n",
       "Code_illness                             0\n",
       "mortality_risk                           0\n",
       "Surg_Description                         0\n",
       "Weight_baby                              0\n",
       "Abortion                                 0\n",
       "emergency_dept_yes_no                    0\n",
       "Tot_charg                                0\n",
       "Tot_cost                                 0\n",
       "ratio_of_total_costs_to_total_charges    0\n",
       "Result                                   0\n",
       "Payment_Typology                         0\n",
       "dtype: int64"
      ]
     },
     "execution_count": 20,
     "metadata": {},
     "output_type": "execute_result"
    }
   ],
   "source": [
    "insu_data.isna().sum()"
   ]
  },
  {
   "cell_type": "code",
   "execution_count": 21,
   "metadata": {
    "id": "4rlX8g41Epq_",
    "outputId": "5638a3ea-de18-4441-9c39-26ceb904a03b"
   },
   "outputs": [
    {
     "data": {
      "text/html": [
       "<div>\n",
       "<style scoped>\n",
       "    .dataframe tbody tr th:only-of-type {\n",
       "        vertical-align: middle;\n",
       "    }\n",
       "\n",
       "    .dataframe tbody tr th {\n",
       "        vertical-align: top;\n",
       "    }\n",
       "\n",
       "    .dataframe thead th {\n",
       "        text-align: right;\n",
       "    }\n",
       "</style>\n",
       "<table border=\"1\" class=\"dataframe\">\n",
       "  <thead>\n",
       "    <tr style=\"text-align: right;\">\n",
       "      <th></th>\n",
       "      <th>Area_Service</th>\n",
       "      <th>hospital_county</th>\n",
       "      <th>hospital_id</th>\n",
       "      <th>Age</th>\n",
       "      <th>Gender</th>\n",
       "      <th>Cultural_group</th>\n",
       "      <th>ethnicity</th>\n",
       "      <th>Days_spend_hsptl</th>\n",
       "      <th>Admission_type</th>\n",
       "      <th>home_self_care</th>\n",
       "      <th>...</th>\n",
       "      <th>mortality_risk</th>\n",
       "      <th>Surg_Description</th>\n",
       "      <th>Weight_baby</th>\n",
       "      <th>Abortion</th>\n",
       "      <th>emergency_dept_yes_no</th>\n",
       "      <th>Tot_charg</th>\n",
       "      <th>Tot_cost</th>\n",
       "      <th>ratio_of_total_costs_to_total_charges</th>\n",
       "      <th>Result</th>\n",
       "      <th>Payment_Typology</th>\n",
       "    </tr>\n",
       "  </thead>\n",
       "  <tbody>\n",
       "    <tr>\n",
       "      <th>0</th>\n",
       "      <td>Western NY</td>\n",
       "      <td>Allegany</td>\n",
       "      <td>37.0</td>\n",
       "      <td>30 to 49</td>\n",
       "      <td>F</td>\n",
       "      <td>White</td>\n",
       "      <td>Not Span/Hispanic</td>\n",
       "      <td>4</td>\n",
       "      <td>Elective</td>\n",
       "      <td>Home or Self Care</td>\n",
       "      <td>...</td>\n",
       "      <td>1.0</td>\n",
       "      <td>Medical</td>\n",
       "      <td>0</td>\n",
       "      <td>N</td>\n",
       "      <td>Y</td>\n",
       "      <td>5511.95</td>\n",
       "      <td>5582.49</td>\n",
       "      <td>1.012798</td>\n",
       "      <td>1</td>\n",
       "      <td>1</td>\n",
       "    </tr>\n",
       "    <tr>\n",
       "      <th>1</th>\n",
       "      <td>Western NY</td>\n",
       "      <td>Allegany</td>\n",
       "      <td>37.0</td>\n",
       "      <td>70 or Older</td>\n",
       "      <td>F</td>\n",
       "      <td>White</td>\n",
       "      <td>Not Span/Hispanic</td>\n",
       "      <td>4</td>\n",
       "      <td>Urgent</td>\n",
       "      <td>Short-term Hospital</td>\n",
       "      <td>...</td>\n",
       "      <td>2.0</td>\n",
       "      <td>Medical</td>\n",
       "      <td>0</td>\n",
       "      <td>N</td>\n",
       "      <td>Y</td>\n",
       "      <td>4783.20</td>\n",
       "      <td>5162.82</td>\n",
       "      <td>1.079365</td>\n",
       "      <td>1</td>\n",
       "      <td>1</td>\n",
       "    </tr>\n",
       "    <tr>\n",
       "      <th>2</th>\n",
       "      <td>Western NY</td>\n",
       "      <td>Allegany</td>\n",
       "      <td>37.0</td>\n",
       "      <td>30 to 49</td>\n",
       "      <td>F</td>\n",
       "      <td>White</td>\n",
       "      <td>Not Span/Hispanic</td>\n",
       "      <td>3</td>\n",
       "      <td>Urgent</td>\n",
       "      <td>Home or Self Care</td>\n",
       "      <td>...</td>\n",
       "      <td>1.0</td>\n",
       "      <td>Medical</td>\n",
       "      <td>0</td>\n",
       "      <td>N</td>\n",
       "      <td>Y</td>\n",
       "      <td>3829.15</td>\n",
       "      <td>4056.52</td>\n",
       "      <td>1.059379</td>\n",
       "      <td>1</td>\n",
       "      <td>1</td>\n",
       "    </tr>\n",
       "    <tr>\n",
       "      <th>3</th>\n",
       "      <td>Western NY</td>\n",
       "      <td>Allegany</td>\n",
       "      <td>37.0</td>\n",
       "      <td>0 to 17</td>\n",
       "      <td>F</td>\n",
       "      <td>White</td>\n",
       "      <td>Not Span/Hispanic</td>\n",
       "      <td>1</td>\n",
       "      <td>Urgent</td>\n",
       "      <td>Home or Self Care</td>\n",
       "      <td>...</td>\n",
       "      <td>1.0</td>\n",
       "      <td>Medical</td>\n",
       "      <td>0</td>\n",
       "      <td>N</td>\n",
       "      <td>Y</td>\n",
       "      <td>1108.20</td>\n",
       "      <td>1644.75</td>\n",
       "      <td>1.484167</td>\n",
       "      <td>0</td>\n",
       "      <td>1</td>\n",
       "    </tr>\n",
       "    <tr>\n",
       "      <th>4</th>\n",
       "      <td>Western NY</td>\n",
       "      <td>Allegany</td>\n",
       "      <td>37.0</td>\n",
       "      <td>70 or Older</td>\n",
       "      <td>F</td>\n",
       "      <td>White</td>\n",
       "      <td>Not Span/Hispanic</td>\n",
       "      <td>3</td>\n",
       "      <td>Elective</td>\n",
       "      <td>Home or Self Care</td>\n",
       "      <td>...</td>\n",
       "      <td>3.0</td>\n",
       "      <td>Medical</td>\n",
       "      <td>0</td>\n",
       "      <td>N</td>\n",
       "      <td>Y</td>\n",
       "      <td>3418.18</td>\n",
       "      <td>3370.87</td>\n",
       "      <td>0.986161</td>\n",
       "      <td>1</td>\n",
       "      <td>1</td>\n",
       "    </tr>\n",
       "  </tbody>\n",
       "</table>\n",
       "<p>5 rows × 24 columns</p>\n",
       "</div>"
      ],
      "text/plain": [
       "  Area_Service hospital_county  hospital_id          Age Gender  \\\n",
       "0   Western NY        Allegany         37.0     30 to 49      F   \n",
       "1   Western NY        Allegany         37.0  70 or Older      F   \n",
       "2   Western NY        Allegany         37.0     30 to 49      F   \n",
       "3   Western NY        Allegany         37.0      0 to 17      F   \n",
       "4   Western NY        Allegany         37.0  70 or Older      F   \n",
       "\n",
       "  Cultural_group          ethnicity Days_spend_hsptl Admission_type  \\\n",
       "0          White  Not Span/Hispanic                4       Elective   \n",
       "1          White  Not Span/Hispanic                4         Urgent   \n",
       "2          White  Not Span/Hispanic                3         Urgent   \n",
       "3          White  Not Span/Hispanic                1         Urgent   \n",
       "4          White  Not Span/Hispanic                3       Elective   \n",
       "\n",
       "        home_self_care  ...  mortality_risk  Surg_Description Weight_baby  \\\n",
       "0    Home or Self Care  ...             1.0           Medical           0   \n",
       "1  Short-term Hospital  ...             2.0           Medical           0   \n",
       "2    Home or Self Care  ...             1.0           Medical           0   \n",
       "3    Home or Self Care  ...             1.0           Medical           0   \n",
       "4    Home or Self Care  ...             3.0           Medical           0   \n",
       "\n",
       "   Abortion  emergency_dept_yes_no Tot_charg  Tot_cost  \\\n",
       "0         N                      Y   5511.95   5582.49   \n",
       "1         N                      Y   4783.20   5162.82   \n",
       "2         N                      Y   3829.15   4056.52   \n",
       "3         N                      Y   1108.20   1644.75   \n",
       "4         N                      Y   3418.18   3370.87   \n",
       "\n",
       "  ratio_of_total_costs_to_total_charges Result  Payment_Typology  \n",
       "0                              1.012798      1                 1  \n",
       "1                              1.079365      1                 1  \n",
       "2                              1.059379      1                 1  \n",
       "3                              1.484167      0                 1  \n",
       "4                              0.986161      1                 1  \n",
       "\n",
       "[5 rows x 24 columns]"
      ]
     },
     "execution_count": 21,
     "metadata": {},
     "output_type": "execute_result"
    }
   ],
   "source": [
    "insu_data.head()"
   ]
  },
  {
   "cell_type": "markdown",
   "metadata": {
    "id": "AN9fMXiQEprB"
   },
   "source": [
    "#### Now Check for Duplicates if any and delete them"
   ]
  },
  {
   "cell_type": "code",
   "execution_count": 22,
   "metadata": {
    "id": "l0wLz5tHEprC",
    "outputId": "3463bd0c-435f-439e-e846-91e4ca571d6c"
   },
   "outputs": [
    {
     "data": {
      "text/plain": [
       "4814"
      ]
     },
     "execution_count": 22,
     "metadata": {},
     "output_type": "execute_result"
    }
   ],
   "source": [
    "insu_data.duplicated(keep='first').sum()"
   ]
  },
  {
   "cell_type": "code",
   "execution_count": 24,
   "metadata": {
    "id": "NXVtEADjEprC"
   },
   "outputs": [
    {
     "data": {
      "text/plain": [
       "0"
      ]
     },
     "execution_count": 24,
     "metadata": {},
     "output_type": "execute_result"
    }
   ],
   "source": [
    "insu_data.drop_duplicates(keep='first',inplace=True)\n",
    "insu_data.duplicated(keep='first').sum()"
   ]
  },
  {
   "cell_type": "markdown",
   "metadata": {
    "id": "kwmACPxFEprD"
   },
   "source": [
    "#### Let us check count plots for categorical to find which category is having more frequent values"
   ]
  },
  {
   "cell_type": "code",
   "execution_count": 25,
   "metadata": {
    "id": "Sk2M4Ts7EprD",
    "outputId": "f0db8806-d3ba-4a13-f122-831dbcf543f6"
   },
   "outputs": [
    {
     "data": {
      "text/plain": [
       "Hudson Valley      262535\n",
       "Western NY         179371\n",
       "Central NY         170225\n",
       "Capital/Adirond    170076\n",
       "Finger Lakes       155507\n",
       "New York City       74309\n",
       "Southern Tier       31738\n",
       "Name: Area_Service, dtype: int64"
      ]
     },
     "execution_count": 25,
     "metadata": {},
     "output_type": "execute_result"
    }
   ],
   "source": [
    "insu_data['Area_Service'].value_counts()"
   ]
  },
  {
   "cell_type": "code",
   "execution_count": 26,
   "metadata": {
    "id": "u7TbBG8tEprE",
    "outputId": "44d431a9-052f-441e-ea93-78f63091a880"
   },
   "outputs": [
    {
     "name": "stderr",
     "output_type": "stream",
     "text": [
      "C:\\Users\\HP\\anaconda3\\envs\\project\\lib\\site-packages\\seaborn\\_decorators.py:43: FutureWarning: Pass the following variable as a keyword arg: x. From version 0.12, the only valid positional argument will be `data`, and passing other arguments without an explicit keyword will result in an error or misinterpretation.\n",
      "  FutureWarning\n"
     ]
    },
    {
     "data": {
      "text/plain": [
       "<AxesSubplot:xlabel='Area_Service', ylabel='count'>"
      ]
     },
     "execution_count": 26,
     "metadata": {},
     "output_type": "execute_result"
    },
    {
     "data": {
      "image/png": "[encoded data removed]",
      "text/plain": [
       "<Figure size 720x360 with 1 Axes>"
      ]
     },
     "metadata": {
      "needs_background": "light"
     },
     "output_type": "display_data"
    }
   ],
   "source": [
    "plt.figure(figsize=(10,5))\n",
    "sns.countplot(insu_data['Area_Service'])"
   ]
  },
  {
   "cell_type": "code",
   "execution_count": 27,
   "metadata": {
    "id": "DYTNzSddEprT",
    "outputId": "00d21611-fc66-4eb0-a083-220504acc009"
   },
   "outputs": [
    {
     "data": {
      "text/plain": [
       "51"
      ]
     },
     "execution_count": 27,
     "metadata": {},
     "output_type": "execute_result"
    }
   ],
   "source": [
    "len(insu_data['hospital_county'].unique())"
   ]
  },
  {
   "cell_type": "code",
   "execution_count": 28,
   "metadata": {
    "id": "nY1bHjBXEprU",
    "outputId": "dc948648-2448-472b-a4bf-692f4f99a77e"
   },
   "outputs": [
    {
     "name": "stderr",
     "output_type": "stream",
     "text": [
      "C:\\Users\\HP\\anaconda3\\envs\\project\\lib\\site-packages\\seaborn\\_decorators.py:43: FutureWarning: Pass the following variable as a keyword arg: x. From version 0.12, the only valid positional argument will be `data`, and passing other arguments without an explicit keyword will result in an error or misinterpretation.\n",
      "  FutureWarning\n"
     ]
    },
    {
     "data": {
      "text/plain": [
       "<AxesSubplot:xlabel='Age', ylabel='count'>"
      ]
     },
     "execution_count": 28,
     "metadata": {},
     "output_type": "execute_result"
    },
    {
     "data": {
      "image/png": "[encoded data removed]",
      "text/plain": [
       "<Figure size 432x288 with 1 Axes>"
      ]
     },
     "metadata": {
      "needs_background": "light"
     },
     "output_type": "display_data"
    }
   ],
   "source": [
    "len(insu_data['Age'].unique())\n",
    "insu_data['Age'].value_counts()\n",
    "sns.countplot(insu_data['Age'])"
   ]
  },
  {
   "cell_type": "code",
   "execution_count": 29,
   "metadata": {
    "id": "lriYruKhEprW",
    "outputId": "67379946-3808-409e-a206-186c066a4e68"
   },
   "outputs": [
    {
     "name": "stderr",
     "output_type": "stream",
     "text": [
      "C:\\Users\\HP\\anaconda3\\envs\\project\\lib\\site-packages\\seaborn\\_decorators.py:43: FutureWarning: Pass the following variable as a keyword arg: x. From version 0.12, the only valid positional argument will be `data`, and passing other arguments without an explicit keyword will result in an error or misinterpretation.\n",
      "  FutureWarning\n"
     ]
    },
    {
     "data": {
      "text/plain": [
       "<AxesSubplot:xlabel='Gender', ylabel='count'>"
      ]
     },
     "execution_count": 29,
     "metadata": {},
     "output_type": "execute_result"
    },
    {
     "data": {
      "image/png": "[encoded data removed]",
      "text/plain": [
       "<Figure size 432x288 with 1 Axes>"
      ]
     },
     "metadata": {
      "needs_background": "light"
     },
     "output_type": "display_data"
    }
   ],
   "source": [
    "len(insu_data['Gender'].unique())\n",
    "insu_data['Gender'].value_counts()\n",
    "sns.countplot(insu_data['Gender'])"
   ]
  },
  {
   "cell_type": "code",
   "execution_count": 30,
   "metadata": {
    "id": "v1kCTjFMEprX",
    "outputId": "e7a23881-5408-4703-ad1f-bdd26e0635a4"
   },
   "outputs": [
    {
     "name": "stderr",
     "output_type": "stream",
     "text": [
      "C:\\Users\\HP\\anaconda3\\envs\\project\\lib\\site-packages\\seaborn\\_decorators.py:43: FutureWarning: Pass the following variable as a keyword arg: x. From version 0.12, the only valid positional argument will be `data`, and passing other arguments without an explicit keyword will result in an error or misinterpretation.\n",
      "  FutureWarning\n"
     ]
    },
    {
     "data": {
      "text/plain": [
       "<AxesSubplot:xlabel='Cultural_group', ylabel='count'>"
      ]
     },
     "execution_count": 30,
     "metadata": {},
     "output_type": "execute_result"
    },
    {
     "data": {
      "image/png": "[encoded data removed]",
      "text/plain": [
       "<Figure size 720x360 with 1 Axes>"
      ]
     },
     "metadata": {
      "needs_background": "light"
     },
     "output_type": "display_data"
    }
   ],
   "source": [
    "plt.figure(figsize=(10,5))\n",
    "len(insu_data['Cultural_group'].unique())\n",
    "insu_data['Cultural_group'].value_counts()\n",
    "sns.countplot(insu_data['Cultural_group'])"
   ]
  },
  {
   "cell_type": "code",
   "execution_count": 31,
   "metadata": {
    "id": "KYRZ4voHEprY",
    "outputId": "2e649501-32b4-41d1-97f1-27cc0f35735c"
   },
   "outputs": [
    {
     "name": "stderr",
     "output_type": "stream",
     "text": [
      "C:\\Users\\HP\\anaconda3\\envs\\project\\lib\\site-packages\\seaborn\\_decorators.py:43: FutureWarning: Pass the following variable as a keyword arg: x. From version 0.12, the only valid positional argument will be `data`, and passing other arguments without an explicit keyword will result in an error or misinterpretation.\n",
      "  FutureWarning\n"
     ]
    },
    {
     "data": {
      "text/plain": [
       "<AxesSubplot:xlabel='ethnicity', ylabel='count'>"
      ]
     },
     "execution_count": 31,
     "metadata": {},
     "output_type": "execute_result"
    },
    {
     "data": {
      "image/png": "[encoded data removed]",
      "text/plain": [
       "<Figure size 432x288 with 1 Axes>"
      ]
     },
     "metadata": {
      "needs_background": "light"
     },
     "output_type": "display_data"
    }
   ],
   "source": [
    "len(insu_data['ethnicity'].unique())\n",
    "insu_data['ethnicity'].value_counts()\n",
    "sns.countplot(insu_data['ethnicity'])"
   ]
  },
  {
   "cell_type": "code",
   "execution_count": 32,
   "metadata": {
    "id": "W0G2wRfjEprZ",
    "outputId": "4d61a7b3-84a0-4646-cc9b-412dc77514c2"
   },
   "outputs": [
    {
     "data": {
      "text/plain": [
       "120"
      ]
     },
     "execution_count": 32,
     "metadata": {},
     "output_type": "execute_result"
    }
   ],
   "source": [
    "len(insu_data['Days_spend_hsptl'].unique())"
   ]
  },
  {
   "cell_type": "code",
   "execution_count": 33,
   "metadata": {
    "id": "EmwLjrbPEpra",
    "outputId": "2e08d4a5-08cb-4e0b-d1b9-55b7fab7a69d",
    "scrolled": true
   },
   "outputs": [
    {
     "data": {
      "text/plain": [
       "array(['4', '3', '1', '2', '5', '6', '14', '12', '9', '8', '10', '7',\n",
       "       '22', '11', '16', '15', '25', '13', '17', '28', '18', '19', '23',\n",
       "       '38', '20', '24', '26', '21', '27', '30', '29', '39', '87', '35',\n",
       "       '37', '32', '55', '56', '49', '110', '69', '75', '42', '51', '47',\n",
       "       '45', '46', '40', '34', '79', '43', '120 +', '65', '41', '31',\n",
       "       '50', '59', '44', '36', '70', '115', '58', '94', '33', '68', '67',\n",
       "       '54', '80', '85', '95', '78', '91', '88', '48', '52', '63', '57',\n",
       "       '74', '64', '53', '62', '97', '72', '118', '81', '90', '86', '106',\n",
       "       '112', '105', '114', '66', '89', '83', '84', '82', '93', '116',\n",
       "       '71', '60', '73', '61', '92', '76', '96', '77', '104', '100',\n",
       "       '103', '102', '117', '108', '99', '107', '98', '101', '119', '111',\n",
       "       '109', '113'], dtype=object)"
      ]
     },
     "execution_count": 33,
     "metadata": {},
     "output_type": "execute_result"
    }
   ],
   "source": [
    "insu_data['Days_spend_hsptl'].unique()"
   ]
  },
  {
   "cell_type": "markdown",
   "metadata": {},
   "source": [
    "#### Here Days_spend_hsptl is numerical but it is showing as object, So convert it to int and replacing '120+' with numeric value"
   ]
  },
  {
   "cell_type": "code",
   "execution_count": 34,
   "metadata": {
    "id": "Yb2w9N2NEpra",
    "outputId": "d5ade7ba-55d4-4c74-909d-0a8f55e7fb61"
   },
   "outputs": [
    {
     "data": {
      "text/plain": [
       "2      233074\n",
       "3      189837\n",
       "1      155408\n",
       "4      113673\n",
       "5       73643\n",
       "        ...  \n",
       "108        20\n",
       "116        20\n",
       "110        19\n",
       "101        15\n",
       "113         7\n",
       "Name: Days_spend_hsptl, Length: 120, dtype: int64"
      ]
     },
     "execution_count": 34,
     "metadata": {},
     "output_type": "execute_result"
    }
   ],
   "source": [
    "insu_data['Days_spend_hsptl'].value_counts()"
   ]
  },
  {
   "cell_type": "code",
   "execution_count": 35,
   "metadata": {
    "id": "TvhXeigtEprb"
   },
   "outputs": [],
   "source": [
    "insu_data['Days_spend_hsptl'].replace(to_replace='120 +',value='121',inplace=True)"
   ]
  },
  {
   "cell_type": "code",
   "execution_count": 37,
   "metadata": {
    "id": "W-FS7ApbEprb"
   },
   "outputs": [],
   "source": [
    "insu_data['Days_spend_hsptl']=insu_data['Days_spend_hsptl'].astype('int64')"
   ]
  },
  {
   "cell_type": "code",
   "execution_count": 38,
   "metadata": {
    "id": "FlLEA8yuEprc",
    "outputId": "8a11fe9d-efc4-4e08-b235-dbbdd7ba608f"
   },
   "outputs": [
    {
     "data": {
      "text/plain": [
       "array([  4,   3,   1,   2,   5,   6,  14,  12,   9,   8,  10,   7,  22,\n",
       "        11,  16,  15,  25,  13,  17,  28,  18,  19,  23,  38,  20,  24,\n",
       "        26,  21,  27,  30,  29,  39,  87,  35,  37,  32,  55,  56,  49,\n",
       "       110,  69,  75,  42,  51,  47,  45,  46,  40,  34,  79,  43, 121,\n",
       "        65,  41,  31,  50,  59,  44,  36,  70, 115,  58,  94,  33,  68,\n",
       "        67,  54,  80,  85,  95,  78,  91,  88,  48,  52,  63,  57,  74,\n",
       "        64,  53,  62,  97,  72, 118,  81,  90,  86, 106, 112, 105, 114,\n",
       "        66,  89,  83,  84,  82,  93, 116,  71,  60,  73,  61,  92,  76,\n",
       "        96,  77, 104, 100, 103, 102, 117, 108,  99, 107,  98, 101, 119,\n",
       "       111, 109, 113], dtype=int64)"
      ]
     },
     "execution_count": 38,
     "metadata": {},
     "output_type": "execute_result"
    }
   ],
   "source": [
    "insu_data['Days_spend_hsptl'].unique()"
   ]
  },
  {
   "cell_type": "code",
   "execution_count": 39,
   "metadata": {
    "id": "0oUPWI5YEprc",
    "outputId": "b19910a7-a4e4-40ea-ec26-38ed0916cc87"
   },
   "outputs": [
    {
     "name": "stderr",
     "output_type": "stream",
     "text": [
      "C:\\Users\\HP\\anaconda3\\envs\\project\\lib\\site-packages\\seaborn\\_decorators.py:43: FutureWarning: Pass the following variable as a keyword arg: x. From version 0.12, the only valid positional argument will be `data`, and passing other arguments without an explicit keyword will result in an error or misinterpretation.\n",
      "  FutureWarning\n"
     ]
    },
    {
     "data": {
      "text/plain": [
       "<AxesSubplot:xlabel='Admission_type', ylabel='count'>"
      ]
     },
     "execution_count": 39,
     "metadata": {},
     "output_type": "execute_result"
    },
    {
     "data": {
      "image/png": "[encoded data removed]",
      "text/plain": [
       "<Figure size 432x288 with 1 Axes>"
      ]
     },
     "metadata": {
      "needs_background": "light"
     },
     "output_type": "display_data"
    }
   ],
   "source": [
    "len(insu_data['Admission_type'].unique())\n",
    "insu_data['Admission_type'].value_counts()\n",
    "sns.countplot(insu_data['Admission_type'])"
   ]
  },
  {
   "cell_type": "code",
   "execution_count": 40,
   "metadata": {
    "id": "7pclc-8OEprd",
    "outputId": "216ac67e-dae5-4d5a-cc2c-669fd07c4288"
   },
   "outputs": [
    {
     "data": {
      "text/plain": [
       "19"
      ]
     },
     "execution_count": 40,
     "metadata": {},
     "output_type": "execute_result"
    }
   ],
   "source": [
    "len(insu_data['home_self_care'].unique())"
   ]
  },
  {
   "cell_type": "code",
   "execution_count": 41,
   "metadata": {
    "id": "4kav_WRMEpre",
    "outputId": "42f92a6a-e6d2-406b-cab0-725d8ce68d70"
   },
   "outputs": [
    {
     "data": {
      "text/plain": [
       "230"
      ]
     },
     "execution_count": 41,
     "metadata": {},
     "output_type": "execute_result"
    }
   ],
   "source": [
    "len(insu_data['ccs_procedure_code'].unique())"
   ]
  },
  {
   "cell_type": "code",
   "execution_count": 42,
   "metadata": {
    "id": "UJVJR_Q9Eprf",
    "outputId": "9a910f65-27d9-466c-8ae0-c613e1beebd8"
   },
   "outputs": [
    {
     "data": {
      "text/plain": [
       "316"
      ]
     },
     "execution_count": 42,
     "metadata": {},
     "output_type": "execute_result"
    }
   ],
   "source": [
    "len(insu_data['apr_drg_description'].unique())"
   ]
  },
  {
   "cell_type": "code",
   "execution_count": 43,
   "metadata": {
    "id": "UVgF8stBEprg",
    "outputId": "a5ef5d8f-3c3c-4c67-ec72-9a4d4a3a18fa"
   },
   "outputs": [
    {
     "name": "stderr",
     "output_type": "stream",
     "text": [
      "C:\\Users\\HP\\anaconda3\\envs\\project\\lib\\site-packages\\seaborn\\_decorators.py:43: FutureWarning: Pass the following variable as a keyword arg: x. From version 0.12, the only valid positional argument will be `data`, and passing other arguments without an explicit keyword will result in an error or misinterpretation.\n",
      "  FutureWarning\n"
     ]
    },
    {
     "data": {
      "text/plain": [
       "<AxesSubplot:xlabel='Code_illness', ylabel='count'>"
      ]
     },
     "execution_count": 43,
     "metadata": {},
     "output_type": "execute_result"
    },
    {
     "data": {
      "image/png": "[encoded data removed]",
      "text/plain": [
       "<Figure size 432x288 with 1 Axes>"
      ]
     },
     "metadata": {
      "needs_background": "light"
     },
     "output_type": "display_data"
    }
   ],
   "source": [
    "len(insu_data['Code_illness'].unique())\n",
    "insu_data['Code_illness'].value_counts()\n",
    "sns.countplot(insu_data['Code_illness'])"
   ]
  },
  {
   "cell_type": "code",
   "execution_count": 44,
   "metadata": {
    "id": "MKpN1xEFEprg",
    "outputId": "4280b071-91f4-430b-d159-8cb8f1da9326"
   },
   "outputs": [
    {
     "name": "stderr",
     "output_type": "stream",
     "text": [
      "C:\\Users\\HP\\anaconda3\\envs\\project\\lib\\site-packages\\seaborn\\_decorators.py:43: FutureWarning: Pass the following variable as a keyword arg: x. From version 0.12, the only valid positional argument will be `data`, and passing other arguments without an explicit keyword will result in an error or misinterpretation.\n",
      "  FutureWarning\n"
     ]
    },
    {
     "data": {
      "text/plain": [
       "<AxesSubplot:xlabel='mortality_risk', ylabel='count'>"
      ]
     },
     "execution_count": 44,
     "metadata": {},
     "output_type": "execute_result"
    },
    {
     "data": {
      "image/png": "[encoded data removed]",
      "text/plain": [
       "<Figure size 432x288 with 1 Axes>"
      ]
     },
     "metadata": {
      "needs_background": "light"
     },
     "output_type": "display_data"
    }
   ],
   "source": [
    "len(insu_data['mortality_risk'].unique())\n",
    "insu_data['mortality_risk'].value_counts()\n",
    "sns.countplot(insu_data['mortality_risk'])"
   ]
  },
  {
   "cell_type": "code",
   "execution_count": 45,
   "metadata": {
    "id": "KTC1UtQmEprh",
    "outputId": "a5094391-e3a0-42c1-c1df-0c23a72c7f16"
   },
   "outputs": [
    {
     "name": "stderr",
     "output_type": "stream",
     "text": [
      "C:\\Users\\HP\\anaconda3\\envs\\project\\lib\\site-packages\\seaborn\\_decorators.py:43: FutureWarning: Pass the following variable as a keyword arg: x. From version 0.12, the only valid positional argument will be `data`, and passing other arguments without an explicit keyword will result in an error or misinterpretation.\n",
      "  FutureWarning\n"
     ]
    },
    {
     "data": {
      "text/plain": [
       "<AxesSubplot:xlabel='Surg_Description', ylabel='count'>"
      ]
     },
     "execution_count": 45,
     "metadata": {},
     "output_type": "execute_result"
    },
    {
     "data": {
      "image/png": "[encoded data removed]",
      "text/plain": [
       "<Figure size 432x288 with 1 Axes>"
      ]
     },
     "metadata": {
      "needs_background": "light"
     },
     "output_type": "display_data"
    }
   ],
   "source": [
    "len(insu_data['Surg_Description'].unique())\n",
    "insu_data['Surg_Description'].value_counts()\n",
    "sns.countplot(insu_data['Surg_Description'])"
   ]
  },
  {
   "cell_type": "code",
   "execution_count": 46,
   "metadata": {
    "id": "Bz_omgweEpri",
    "outputId": "44b268de-d5c1-4d47-856e-45fc8463edc5"
   },
   "outputs": [
    {
     "data": {
      "text/plain": [
       "262"
      ]
     },
     "execution_count": 46,
     "metadata": {},
     "output_type": "execute_result"
    }
   ],
   "source": [
    "len(insu_data['ccs_diagnosis_code'].unique())"
   ]
  },
  {
   "cell_type": "code",
   "execution_count": 47,
   "metadata": {
    "id": "_9lS2KywEpri",
    "outputId": "b2206292-ac3d-4f04-be40-d3d609fa6fdb"
   },
   "outputs": [
    {
     "data": {
      "text/plain": [
       "70"
      ]
     },
     "execution_count": 47,
     "metadata": {},
     "output_type": "execute_result"
    }
   ],
   "source": [
    "len(insu_data['Weight_baby'].unique())"
   ]
  },
  {
   "cell_type": "code",
   "execution_count": 48,
   "metadata": {
    "id": "9j-q0EyeEprj",
    "outputId": "5ee4887d-4a56-481f-b20d-5d8ca3ba3785"
   },
   "outputs": [
    {
     "name": "stderr",
     "output_type": "stream",
     "text": [
      "C:\\Users\\HP\\anaconda3\\envs\\project\\lib\\site-packages\\seaborn\\_decorators.py:43: FutureWarning: Pass the following variable as a keyword arg: x. From version 0.12, the only valid positional argument will be `data`, and passing other arguments without an explicit keyword will result in an error or misinterpretation.\n",
      "  FutureWarning\n"
     ]
    },
    {
     "data": {
      "text/plain": [
       "<AxesSubplot:xlabel='Abortion', ylabel='count'>"
      ]
     },
     "execution_count": 48,
     "metadata": {},
     "output_type": "execute_result"
    },
    {
     "data": {
      "image/png": "[encoded data removed]",
      "text/plain": [
       "<Figure size 432x288 with 1 Axes>"
      ]
     },
     "metadata": {
      "needs_background": "light"
     },
     "output_type": "display_data"
    }
   ],
   "source": [
    "len(insu_data['Abortion'].unique())\n",
    "insu_data['Abortion'].value_counts()\n",
    "sns.countplot(insu_data['Abortion'])"
   ]
  },
  {
   "cell_type": "code",
   "execution_count": 49,
   "metadata": {
    "id": "H1rZDvhiEprk",
    "outputId": "44b685f3-0fa1-4608-91e3-953a47727c37"
   },
   "outputs": [
    {
     "name": "stderr",
     "output_type": "stream",
     "text": [
      "C:\\Users\\HP\\anaconda3\\envs\\project\\lib\\site-packages\\seaborn\\_decorators.py:43: FutureWarning: Pass the following variable as a keyword arg: x. From version 0.12, the only valid positional argument will be `data`, and passing other arguments without an explicit keyword will result in an error or misinterpretation.\n",
      "  FutureWarning\n"
     ]
    },
    {
     "data": {
      "text/plain": [
       "<AxesSubplot:xlabel='emergency_dept_yes_no', ylabel='count'>"
      ]
     },
     "execution_count": 49,
     "metadata": {},
     "output_type": "execute_result"
    },
    {
     "data": {
      "image/png": "[encoded data removed]",
      "text/plain": [
       "<Figure size 432x288 with 1 Axes>"
      ]
     },
     "metadata": {
      "needs_background": "light"
     },
     "output_type": "display_data"
    }
   ],
   "source": [
    "len(insu_data['emergency_dept_yes_no'].unique())\n",
    "insu_data['emergency_dept_yes_no'].value_counts()\n",
    "sns.countplot(insu_data['emergency_dept_yes_no'])"
   ]
  },
  {
   "cell_type": "code",
   "execution_count": 50,
   "metadata": {
    "id": "CIA_fJoqEprp",
    "outputId": "c7d8fc53-76e9-4410-ab5c-dadf0674b405"
   },
   "outputs": [
    {
     "name": "stderr",
     "output_type": "stream",
     "text": [
      "C:\\Users\\HP\\anaconda3\\envs\\project\\lib\\site-packages\\seaborn\\_decorators.py:43: FutureWarning: Pass the following variable as a keyword arg: x. From version 0.12, the only valid positional argument will be `data`, and passing other arguments without an explicit keyword will result in an error or misinterpretation.\n",
      "  FutureWarning\n"
     ]
    },
    {
     "data": {
      "text/plain": [
       "<AxesSubplot:xlabel='Result', ylabel='count'>"
      ]
     },
     "execution_count": 50,
     "metadata": {},
     "output_type": "execute_result"
    },
    {
     "data": {
      "image/png": "[encoded data removed]",
      "text/plain": [
       "<Figure size 432x288 with 1 Axes>"
      ]
     },
     "metadata": {
      "needs_background": "light"
     },
     "output_type": "display_data"
    }
   ],
   "source": [
    "len(insu_data['Result'].unique())\n",
    "insu_data['Result'].value_counts()\n",
    "sns.countplot(insu_data['Result'])"
   ]
  },
  {
   "cell_type": "code",
   "execution_count": 51,
   "metadata": {
    "id": "XwBmccaZEprq",
    "outputId": "ed7f5329-d7f3-41fa-f16a-2117f5607632"
   },
   "outputs": [
    {
     "name": "stderr",
     "output_type": "stream",
     "text": [
      "C:\\Users\\HP\\anaconda3\\envs\\project\\lib\\site-packages\\seaborn\\_decorators.py:43: FutureWarning: Pass the following variable as a keyword arg: x. From version 0.12, the only valid positional argument will be `data`, and passing other arguments without an explicit keyword will result in an error or misinterpretation.\n",
      "  FutureWarning\n"
     ]
    },
    {
     "data": {
      "text/plain": [
       "<AxesSubplot:xlabel='Payment_Typology', ylabel='count'>"
      ]
     },
     "execution_count": 51,
     "metadata": {},
     "output_type": "execute_result"
    },
    {
     "data": {
      "image/png": "[encoded data removed]",
      "text/plain": [
       "<Figure size 432x288 with 1 Axes>"
      ]
     },
     "metadata": {
      "needs_background": "light"
     },
     "output_type": "display_data"
    }
   ],
   "source": [
    "len(insu_data['Payment_Typology'].unique())\n",
    "insu_data['Payment_Typology'].value_counts()\n",
    "sns.countplot(insu_data['Payment_Typology'])"
   ]
  },
  {
   "cell_type": "markdown",
   "metadata": {
    "id": "wsAWoUxaEprr"
   },
   "source": [
    "### Let us check for outliers"
   ]
  },
  {
   "cell_type": "code",
   "execution_count": 52,
   "metadata": {
    "id": "hMjb4oPCEprs",
    "outputId": "2443bdcb-6f1c-4a37-e35a-2a975c726acd"
   },
   "outputs": [
    {
     "data": {
      "text/plain": [
       "<AxesSubplot:>"
      ]
     },
     "execution_count": 52,
     "metadata": {},
     "output_type": "execute_result"
    },
    {
     "data": {
      "image/png": "[encoded data removed]",
      "text/plain": [
       "<Figure size 432x288 with 1 Axes>"
      ]
     },
     "metadata": {
      "needs_background": "light"
     },
     "output_type": "display_data"
    }
   ],
   "source": [
    "insu_data.boxplot('Days_spend_hsptl')"
   ]
  },
  {
   "cell_type": "code",
   "execution_count": 53,
   "metadata": {
    "id": "4i7wllxYEprt",
    "outputId": "4d44bd35-6df0-4150-8dec-874e7b7f6e9a"
   },
   "outputs": [
    {
     "name": "stderr",
     "output_type": "stream",
     "text": [
      "C:\\Users\\HP\\anaconda3\\envs\\project\\lib\\site-packages\\seaborn\\distributions.py:2557: FutureWarning: `distplot` is a deprecated function and will be removed in a future version. Please adapt your code to use either `displot` (a figure-level function with similar flexibility) or `histplot` (an axes-level function for histograms).\n",
      "  warnings.warn(msg, FutureWarning)\n"
     ]
    },
    {
     "data": {
      "text/plain": [
       "<AxesSubplot:xlabel='Days_spend_hsptl', ylabel='Density'>"
      ]
     },
     "execution_count": 53,
     "metadata": {},
     "output_type": "execute_result"
    },
    {
     "data": {
      "image/png": "[encoded data removed]",
      "text/plain": [
       "<Figure size 432x288 with 1 Axes>"
      ]
     },
     "metadata": {
      "needs_background": "light"
     },
     "output_type": "display_data"
    }
   ],
   "source": [
    "sns.distplot(insu_data['Days_spend_hsptl'])"
   ]
  },
  {
   "cell_type": "code",
   "execution_count": 54,
   "metadata": {
    "id": "CUMNv2guEprx",
    "outputId": "3de9c968-f3d3-4255-933b-abf473355ea7",
    "scrolled": true
   },
   "outputs": [
    {
     "data": {
      "text/plain": [
       "<AxesSubplot:>"
      ]
     },
     "execution_count": 54,
     "metadata": {},
     "output_type": "execute_result"
    },
    {
     "data": {
      "image/png": "[encoded data removed]",
      "text/plain": [
       "<Figure size 432x288 with 1 Axes>"
      ]
     },
     "metadata": {
      "needs_background": "light"
     },
     "output_type": "display_data"
    }
   ],
   "source": [
    "insu_data.boxplot(column='ccs_procedure_code')"
   ]
  },
  {
   "cell_type": "code",
   "execution_count": 55,
   "metadata": {
    "id": "wxl3kn3GEpry",
    "outputId": "d6f6791a-01c8-4f20-9a98-1a64ef716dbb"
   },
   "outputs": [
    {
     "name": "stderr",
     "output_type": "stream",
     "text": [
      "C:\\Users\\HP\\anaconda3\\envs\\project\\lib\\site-packages\\seaborn\\distributions.py:2557: FutureWarning: `distplot` is a deprecated function and will be removed in a future version. Please adapt your code to use either `displot` (a figure-level function with similar flexibility) or `histplot` (an axes-level function for histograms).\n",
      "  warnings.warn(msg, FutureWarning)\n"
     ]
    },
    {
     "data": {
      "text/plain": [
       "<AxesSubplot:xlabel='ccs_procedure_code', ylabel='Density'>"
      ]
     },
     "execution_count": 55,
     "metadata": {},
     "output_type": "execute_result"
    },
    {
     "data": {
      "image/png": "[encoded data removed]",
      "text/plain": [
       "<Figure size 432x288 with 1 Axes>"
      ]
     },
     "metadata": {
      "needs_background": "light"
     },
     "output_type": "display_data"
    }
   ],
   "source": [
    "sns.distplot(insu_data.ccs_procedure_code)"
   ]
  },
  {
   "cell_type": "code",
   "execution_count": 56,
   "metadata": {
    "id": "X60LKloSEpr8",
    "outputId": "c305ee3d-255b-4646-c59b-46b6b5952788"
   },
   "outputs": [
    {
     "name": "stderr",
     "output_type": "stream",
     "text": [
      "C:\\Users\\HP\\anaconda3\\envs\\project\\lib\\site-packages\\seaborn\\distributions.py:2557: FutureWarning: `distplot` is a deprecated function and will be removed in a future version. Please adapt your code to use either `displot` (a figure-level function with similar flexibility) or `histplot` (an axes-level function for histograms).\n",
      "  warnings.warn(msg, FutureWarning)\n"
     ]
    },
    {
     "data": {
      "text/plain": [
       "<AxesSubplot:xlabel='ccs_diagnosis_code', ylabel='Density'>"
      ]
     },
     "execution_count": 56,
     "metadata": {},
     "output_type": "execute_result"
    },
    {
     "data": {
      "image/png": "[encoded data removed]",
      "text/plain": [
       "<Figure size 432x288 with 1 Axes>"
      ]
     },
     "metadata": {
      "needs_background": "light"
     },
     "output_type": "display_data"
    }
   ],
   "source": [
    "sns.distplot(insu_data.ccs_diagnosis_code)"
   ]
  },
  {
   "cell_type": "code",
   "execution_count": 57,
   "metadata": {
    "id": "p7OWz2VrEpr-",
    "outputId": "8bb9cb36-c720-4302-8a01-9864c3bb571e"
   },
   "outputs": [
    {
     "data": {
      "text/plain": [
       "<AxesSubplot:>"
      ]
     },
     "execution_count": 57,
     "metadata": {},
     "output_type": "execute_result"
    },
    {
     "data": {
      "image/png": "[encoded data removed]",
      "text/plain": [
       "<Figure size 432x288 with 1 Axes>"
      ]
     },
     "metadata": {
      "needs_background": "light"
     },
     "output_type": "display_data"
    }
   ],
   "source": [
    "insu_data.boxplot(column='ccs_diagnosis_code')"
   ]
  },
  {
   "cell_type": "code",
   "execution_count": 58,
   "metadata": {
    "id": "2lEZTx79EpsC",
    "outputId": "597d5439-f408-4317-bbce-4027b64d3e43"
   },
   "outputs": [
    {
     "data": {
      "text/plain": [
       "<AxesSubplot:>"
      ]
     },
     "execution_count": 58,
     "metadata": {},
     "output_type": "execute_result"
    },
    {
     "data": {
      "image/png": "[encoded data removed]",
      "text/plain": [
       "<Figure size 432x288 with 1 Axes>"
      ]
     },
     "metadata": {
      "needs_background": "light"
     },
     "output_type": "display_data"
    }
   ],
   "source": [
    "insu_data.boxplot(column='Tot_charg')"
   ]
  },
  {
   "cell_type": "code",
   "execution_count": 59,
   "metadata": {
    "id": "Vk4XBljFEpsD",
    "outputId": "772f0a58-5d5f-45ac-e462-50c9f2a0b751"
   },
   "outputs": [
    {
     "name": "stderr",
     "output_type": "stream",
     "text": [
      "C:\\Users\\HP\\anaconda3\\envs\\project\\lib\\site-packages\\seaborn\\distributions.py:2557: FutureWarning: `distplot` is a deprecated function and will be removed in a future version. Please adapt your code to use either `displot` (a figure-level function with similar flexibility) or `histplot` (an axes-level function for histograms).\n",
      "  warnings.warn(msg, FutureWarning)\n"
     ]
    },
    {
     "data": {
      "text/plain": [
       "<AxesSubplot:xlabel='Tot_charg', ylabel='Density'>"
      ]
     },
     "execution_count": 59,
     "metadata": {},
     "output_type": "execute_result"
    },
    {
     "data": {
      "image/png": "[encoded data removed]",
      "text/plain": [
       "<Figure size 432x288 with 1 Axes>"
      ]
     },
     "metadata": {
      "needs_background": "light"
     },
     "output_type": "display_data"
    }
   ],
   "source": [
    "sns.distplot(insu_data.Tot_charg)"
   ]
  },
  {
   "cell_type": "code",
   "execution_count": 60,
   "metadata": {
    "id": "XGfDLByuEpsM",
    "outputId": "0b730dc7-0f9a-494f-af0e-b098f4c220ac"
   },
   "outputs": [
    {
     "data": {
      "text/plain": [
       "<AxesSubplot:>"
      ]
     },
     "execution_count": 60,
     "metadata": {},
     "output_type": "execute_result"
    },
    {
     "data": {
      "image/png": "[encoded data removed]",
      "text/plain": [
       "<Figure size 432x288 with 1 Axes>"
      ]
     },
     "metadata": {
      "needs_background": "light"
     },
     "output_type": "display_data"
    }
   ],
   "source": [
    "insu_data.boxplot(column='Tot_cost')"
   ]
  },
  {
   "cell_type": "code",
   "execution_count": 61,
   "metadata": {
    "id": "qgn2n-0OEpsN",
    "outputId": "bcf38449-6560-4c40-b61e-cdc2ea82648f"
   },
   "outputs": [
    {
     "name": "stderr",
     "output_type": "stream",
     "text": [
      "C:\\Users\\HP\\anaconda3\\envs\\project\\lib\\site-packages\\seaborn\\distributions.py:2557: FutureWarning: `distplot` is a deprecated function and will be removed in a future version. Please adapt your code to use either `displot` (a figure-level function with similar flexibility) or `histplot` (an axes-level function for histograms).\n",
      "  warnings.warn(msg, FutureWarning)\n"
     ]
    },
    {
     "data": {
      "text/plain": [
       "<AxesSubplot:xlabel='Tot_cost', ylabel='Density'>"
      ]
     },
     "execution_count": 61,
     "metadata": {},
     "output_type": "execute_result"
    },
    {
     "data": {
      "image/png": "[encoded data removed]",
      "text/plain": [
       "<Figure size 432x288 with 1 Axes>"
      ]
     },
     "metadata": {
      "needs_background": "light"
     },
     "output_type": "display_data"
    }
   ],
   "source": [
    "sns.distplot(insu_data.Tot_cost)"
   ]
  },
  {
   "cell_type": "code",
   "execution_count": 62,
   "metadata": {
    "id": "pN426cYaEpsQ",
    "outputId": "d21827a1-c61e-4fab-e918-160300aff46f"
   },
   "outputs": [
    {
     "data": {
      "text/plain": [
       "<AxesSubplot:>"
      ]
     },
     "execution_count": 62,
     "metadata": {},
     "output_type": "execute_result"
    },
    {
     "data": {
      "image/png": "[encoded data removed]",
      "text/plain": [
       "<Figure size 432x288 with 1 Axes>"
      ]
     },
     "metadata": {
      "needs_background": "light"
     },
     "output_type": "display_data"
    }
   ],
   "source": [
    "insu_data.boxplot(column='ratio_of_total_costs_to_total_charges')"
   ]
  },
  {
   "cell_type": "code",
   "execution_count": 63,
   "metadata": {
    "id": "SqPTwuHEEpsR",
    "outputId": "5294c1a4-31a5-46a8-81cd-a8651933580e"
   },
   "outputs": [
    {
     "name": "stderr",
     "output_type": "stream",
     "text": [
      "C:\\Users\\HP\\anaconda3\\envs\\project\\lib\\site-packages\\seaborn\\distributions.py:2557: FutureWarning: `distplot` is a deprecated function and will be removed in a future version. Please adapt your code to use either `displot` (a figure-level function with similar flexibility) or `histplot` (an axes-level function for histograms).\n",
      "  warnings.warn(msg, FutureWarning)\n"
     ]
    },
    {
     "data": {
      "text/plain": [
       "<AxesSubplot:xlabel='ratio_of_total_costs_to_total_charges', ylabel='Density'>"
      ]
     },
     "execution_count": 63,
     "metadata": {},
     "output_type": "execute_result"
    },
    {
     "data": {
      "image/png": "[encoded data removed]",
      "text/plain": [
       "<Figure size 432x288 with 1 Axes>"
      ]
     },
     "metadata": {
      "needs_background": "light"
     },
     "output_type": "display_data"
    }
   ],
   "source": [
    "sns.distplot(insu_data.ratio_of_total_costs_to_total_charges)"
   ]
  },
  {
   "cell_type": "code",
   "execution_count": 64,
   "metadata": {
    "id": "8VOCUGJgKMcg",
    "scrolled": true
   },
   "outputs": [
    {
     "data": {
      "text/plain": [
       "hospital_id                               6.557838\n",
       "Days_spend_hsptl                          6.565761\n",
       "ccs_diagnosis_code                        1.946566\n",
       "ccs_procedure_code                        0.221264\n",
       "Code_illness                              0.443766\n",
       "mortality_risk                            0.867942\n",
       "Weight_baby                               3.110764\n",
       "Tot_charg                                18.074458\n",
       "Tot_cost                                 27.554971\n",
       "ratio_of_total_costs_to_total_charges    95.725052\n",
       "Result                                   -1.150973\n",
       "Payment_Typology                          0.154035\n",
       "dtype: float64"
      ]
     },
     "execution_count": 64,
     "metadata": {},
     "output_type": "execute_result"
    }
   ],
   "source": [
    "insu_data.skew()"
   ]
  },
  {
   "cell_type": "markdown",
   "metadata": {},
   "source": [
    "# Feature Engineering"
   ]
  },
  {
   "cell_type": "markdown",
   "metadata": {
    "id": "CGP6c10nJioO"
   },
   "source": [
    "### Converting Categorical Features to Numerical"
   ]
  },
  {
   "cell_type": "code",
   "execution_count": 65,
   "metadata": {
    "id": "SH3spnLIJc1X"
   },
   "outputs": [],
   "source": [
    "string_columns=['Area_Service','hospital_county','Age','Gender','Cultural_group','ethnicity','Admission_type','home_self_care','apr_drg_description','Surg_Description','Abortion','emergency_dept_yes_no']"
   ]
  },
  {
   "cell_type": "code",
   "execution_count": 66,
   "metadata": {
    "id": "In3IfxseJd2z"
   },
   "outputs": [],
   "source": [
    "from sklearn import preprocessing\n",
    "label_encoder=preprocessing.LabelEncoder()\n",
    "\n",
    "for i in string_columns:\n",
    "    insu_data[i]=label_encoder.fit_transform(insu_data[i])"
   ]
  },
  {
   "cell_type": "code",
   "execution_count": 67,
   "metadata": {
    "id": "QvN_lS2MJd-Y"
   },
   "outputs": [
    {
     "data": {
      "text/html": [
       "<div>\n",
       "<style scoped>\n",
       "    .dataframe tbody tr th:only-of-type {\n",
       "        vertical-align: middle;\n",
       "    }\n",
       "\n",
       "    .dataframe tbody tr th {\n",
       "        vertical-align: top;\n",
       "    }\n",
       "\n",
       "    .dataframe thead th {\n",
       "        text-align: right;\n",
       "    }\n",
       "</style>\n",
       "<table border=\"1\" class=\"dataframe\">\n",
       "  <thead>\n",
       "    <tr style=\"text-align: right;\">\n",
       "      <th></th>\n",
       "      <th>Area_Service</th>\n",
       "      <th>hospital_county</th>\n",
       "      <th>hospital_id</th>\n",
       "      <th>Age</th>\n",
       "      <th>Gender</th>\n",
       "      <th>Cultural_group</th>\n",
       "      <th>ethnicity</th>\n",
       "      <th>Days_spend_hsptl</th>\n",
       "      <th>Admission_type</th>\n",
       "      <th>home_self_care</th>\n",
       "      <th>...</th>\n",
       "      <th>mortality_risk</th>\n",
       "      <th>Surg_Description</th>\n",
       "      <th>Weight_baby</th>\n",
       "      <th>Abortion</th>\n",
       "      <th>emergency_dept_yes_no</th>\n",
       "      <th>Tot_charg</th>\n",
       "      <th>Tot_cost</th>\n",
       "      <th>ratio_of_total_costs_to_total_charges</th>\n",
       "      <th>Result</th>\n",
       "      <th>Payment_Typology</th>\n",
       "    </tr>\n",
       "  </thead>\n",
       "  <tbody>\n",
       "    <tr>\n",
       "      <th>0</th>\n",
       "      <td>6</td>\n",
       "      <td>1</td>\n",
       "      <td>37.0</td>\n",
       "      <td>2</td>\n",
       "      <td>0</td>\n",
       "      <td>3</td>\n",
       "      <td>0</td>\n",
       "      <td>4</td>\n",
       "      <td>0</td>\n",
       "      <td>7</td>\n",
       "      <td>...</td>\n",
       "      <td>1.0</td>\n",
       "      <td>0</td>\n",
       "      <td>0</td>\n",
       "      <td>0</td>\n",
       "      <td>1</td>\n",
       "      <td>5511.95</td>\n",
       "      <td>5582.49</td>\n",
       "      <td>1.012798</td>\n",
       "      <td>1</td>\n",
       "      <td>1</td>\n",
       "    </tr>\n",
       "    <tr>\n",
       "      <th>1</th>\n",
       "      <td>6</td>\n",
       "      <td>1</td>\n",
       "      <td>37.0</td>\n",
       "      <td>4</td>\n",
       "      <td>0</td>\n",
       "      <td>3</td>\n",
       "      <td>0</td>\n",
       "      <td>4</td>\n",
       "      <td>5</td>\n",
       "      <td>17</td>\n",
       "      <td>...</td>\n",
       "      <td>2.0</td>\n",
       "      <td>0</td>\n",
       "      <td>0</td>\n",
       "      <td>0</td>\n",
       "      <td>1</td>\n",
       "      <td>4783.20</td>\n",
       "      <td>5162.82</td>\n",
       "      <td>1.079365</td>\n",
       "      <td>1</td>\n",
       "      <td>1</td>\n",
       "    </tr>\n",
       "    <tr>\n",
       "      <th>2</th>\n",
       "      <td>6</td>\n",
       "      <td>1</td>\n",
       "      <td>37.0</td>\n",
       "      <td>2</td>\n",
       "      <td>0</td>\n",
       "      <td>3</td>\n",
       "      <td>0</td>\n",
       "      <td>3</td>\n",
       "      <td>5</td>\n",
       "      <td>7</td>\n",
       "      <td>...</td>\n",
       "      <td>1.0</td>\n",
       "      <td>0</td>\n",
       "      <td>0</td>\n",
       "      <td>0</td>\n",
       "      <td>1</td>\n",
       "      <td>3829.15</td>\n",
       "      <td>4056.52</td>\n",
       "      <td>1.059379</td>\n",
       "      <td>1</td>\n",
       "      <td>1</td>\n",
       "    </tr>\n",
       "    <tr>\n",
       "      <th>3</th>\n",
       "      <td>6</td>\n",
       "      <td>1</td>\n",
       "      <td>37.0</td>\n",
       "      <td>0</td>\n",
       "      <td>0</td>\n",
       "      <td>3</td>\n",
       "      <td>0</td>\n",
       "      <td>1</td>\n",
       "      <td>5</td>\n",
       "      <td>7</td>\n",
       "      <td>...</td>\n",
       "      <td>1.0</td>\n",
       "      <td>0</td>\n",
       "      <td>0</td>\n",
       "      <td>0</td>\n",
       "      <td>1</td>\n",
       "      <td>1108.20</td>\n",
       "      <td>1644.75</td>\n",
       "      <td>1.484167</td>\n",
       "      <td>0</td>\n",
       "      <td>1</td>\n",
       "    </tr>\n",
       "    <tr>\n",
       "      <th>4</th>\n",
       "      <td>6</td>\n",
       "      <td>1</td>\n",
       "      <td>37.0</td>\n",
       "      <td>4</td>\n",
       "      <td>0</td>\n",
       "      <td>3</td>\n",
       "      <td>0</td>\n",
       "      <td>3</td>\n",
       "      <td>0</td>\n",
       "      <td>7</td>\n",
       "      <td>...</td>\n",
       "      <td>3.0</td>\n",
       "      <td>0</td>\n",
       "      <td>0</td>\n",
       "      <td>0</td>\n",
       "      <td>1</td>\n",
       "      <td>3418.18</td>\n",
       "      <td>3370.87</td>\n",
       "      <td>0.986161</td>\n",
       "      <td>1</td>\n",
       "      <td>1</td>\n",
       "    </tr>\n",
       "  </tbody>\n",
       "</table>\n",
       "<p>5 rows × 24 columns</p>\n",
       "</div>"
      ],
      "text/plain": [
       "   Area_Service  hospital_county  hospital_id  Age  Gender  Cultural_group  \\\n",
       "0             6                1         37.0    2       0               3   \n",
       "1             6                1         37.0    4       0               3   \n",
       "2             6                1         37.0    2       0               3   \n",
       "3             6                1         37.0    0       0               3   \n",
       "4             6                1         37.0    4       0               3   \n",
       "\n",
       "   ethnicity  Days_spend_hsptl  Admission_type  home_self_care  ...  \\\n",
       "0          0                 4               0               7  ...   \n",
       "1          0                 4               5              17  ...   \n",
       "2          0                 3               5               7  ...   \n",
       "3          0                 1               5               7  ...   \n",
       "4          0                 3               0               7  ...   \n",
       "\n",
       "   mortality_risk  Surg_Description  Weight_baby  Abortion  \\\n",
       "0             1.0                 0            0         0   \n",
       "1             2.0                 0            0         0   \n",
       "2             1.0                 0            0         0   \n",
       "3             1.0                 0            0         0   \n",
       "4             3.0                 0            0         0   \n",
       "\n",
       "   emergency_dept_yes_no  Tot_charg  Tot_cost  \\\n",
       "0                      1    5511.95   5582.49   \n",
       "1                      1    4783.20   5162.82   \n",
       "2                      1    3829.15   4056.52   \n",
       "3                      1    1108.20   1644.75   \n",
       "4                      1    3418.18   3370.87   \n",
       "\n",
       "   ratio_of_total_costs_to_total_charges  Result  Payment_Typology  \n",
       "0                               1.012798       1                 1  \n",
       "1                               1.079365       1                 1  \n",
       "2                               1.059379       1                 1  \n",
       "3                               1.484167       0                 1  \n",
       "4                               0.986161       1                 1  \n",
       "\n",
       "[5 rows x 24 columns]"
      ]
     },
     "execution_count": 67,
     "metadata": {},
     "output_type": "execute_result"
    }
   ],
   "source": [
    "insu_data.head()"
   ]
  },
  {
   "cell_type": "markdown",
   "metadata": {
    "id": "j1eQroY_KcFn"
   },
   "source": [
    "#### From EDA we observed that Abortion feature is creating biasness since there is only one category so deleting that feature. \n",
    "\n",
    "#### From all the Analysis and observations hospital_id,hospital_county,Weight_baby,apr_drg_description, ratio_of_total_costs_to_total_charges are some of the features we observe which are not impacting much, so dropping these features as well."
   ]
  },
  {
   "cell_type": "code",
   "execution_count": 68,
   "metadata": {
    "id": "RIMpYhdxJeEJ"
   },
   "outputs": [],
   "source": [
    "insu_data.drop(columns=['Abortion'],inplace=True)"
   ]
  },
  {
   "cell_type": "code",
   "execution_count": 69,
   "metadata": {
    "id": "M8C4gTt0JeLq"
   },
   "outputs": [
    {
     "data": {
      "text/html": [
       "<div>\n",
       "<style scoped>\n",
       "    .dataframe tbody tr th:only-of-type {\n",
       "        vertical-align: middle;\n",
       "    }\n",
       "\n",
       "    .dataframe tbody tr th {\n",
       "        vertical-align: top;\n",
       "    }\n",
       "\n",
       "    .dataframe thead th {\n",
       "        text-align: right;\n",
       "    }\n",
       "</style>\n",
       "<table border=\"1\" class=\"dataframe\">\n",
       "  <thead>\n",
       "    <tr style=\"text-align: right;\">\n",
       "      <th></th>\n",
       "      <th>Area_Service</th>\n",
       "      <th>Age</th>\n",
       "      <th>Gender</th>\n",
       "      <th>Cultural_group</th>\n",
       "      <th>ethnicity</th>\n",
       "      <th>Days_spend_hsptl</th>\n",
       "      <th>Admission_type</th>\n",
       "      <th>home_self_care</th>\n",
       "      <th>ccs_diagnosis_code</th>\n",
       "      <th>ccs_procedure_code</th>\n",
       "      <th>Code_illness</th>\n",
       "      <th>mortality_risk</th>\n",
       "      <th>Surg_Description</th>\n",
       "      <th>emergency_dept_yes_no</th>\n",
       "      <th>Tot_charg</th>\n",
       "      <th>Tot_cost</th>\n",
       "      <th>Result</th>\n",
       "      <th>Payment_Typology</th>\n",
       "    </tr>\n",
       "  </thead>\n",
       "  <tbody>\n",
       "    <tr>\n",
       "      <th>0</th>\n",
       "      <td>6</td>\n",
       "      <td>2</td>\n",
       "      <td>0</td>\n",
       "      <td>3</td>\n",
       "      <td>0</td>\n",
       "      <td>4</td>\n",
       "      <td>0</td>\n",
       "      <td>7</td>\n",
       "      <td>122</td>\n",
       "      <td>0</td>\n",
       "      <td>1</td>\n",
       "      <td>1.0</td>\n",
       "      <td>0</td>\n",
       "      <td>1</td>\n",
       "      <td>5511.95</td>\n",
       "      <td>5582.49</td>\n",
       "      <td>1</td>\n",
       "      <td>1</td>\n",
       "    </tr>\n",
       "    <tr>\n",
       "      <th>1</th>\n",
       "      <td>6</td>\n",
       "      <td>4</td>\n",
       "      <td>0</td>\n",
       "      <td>3</td>\n",
       "      <td>0</td>\n",
       "      <td>4</td>\n",
       "      <td>5</td>\n",
       "      <td>17</td>\n",
       "      <td>197</td>\n",
       "      <td>0</td>\n",
       "      <td>3</td>\n",
       "      <td>2.0</td>\n",
       "      <td>0</td>\n",
       "      <td>1</td>\n",
       "      <td>4783.20</td>\n",
       "      <td>5162.82</td>\n",
       "      <td>1</td>\n",
       "      <td>1</td>\n",
       "    </tr>\n",
       "    <tr>\n",
       "      <th>2</th>\n",
       "      <td>6</td>\n",
       "      <td>2</td>\n",
       "      <td>0</td>\n",
       "      <td>3</td>\n",
       "      <td>0</td>\n",
       "      <td>3</td>\n",
       "      <td>5</td>\n",
       "      <td>7</td>\n",
       "      <td>122</td>\n",
       "      <td>0</td>\n",
       "      <td>1</td>\n",
       "      <td>1.0</td>\n",
       "      <td>0</td>\n",
       "      <td>1</td>\n",
       "      <td>3829.15</td>\n",
       "      <td>4056.52</td>\n",
       "      <td>1</td>\n",
       "      <td>1</td>\n",
       "    </tr>\n",
       "    <tr>\n",
       "      <th>3</th>\n",
       "      <td>6</td>\n",
       "      <td>0</td>\n",
       "      <td>0</td>\n",
       "      <td>3</td>\n",
       "      <td>0</td>\n",
       "      <td>1</td>\n",
       "      <td>5</td>\n",
       "      <td>7</td>\n",
       "      <td>122</td>\n",
       "      <td>0</td>\n",
       "      <td>1</td>\n",
       "      <td>1.0</td>\n",
       "      <td>0</td>\n",
       "      <td>1</td>\n",
       "      <td>1108.20</td>\n",
       "      <td>1644.75</td>\n",
       "      <td>0</td>\n",
       "      <td>1</td>\n",
       "    </tr>\n",
       "    <tr>\n",
       "      <th>4</th>\n",
       "      <td>6</td>\n",
       "      <td>4</td>\n",
       "      <td>0</td>\n",
       "      <td>3</td>\n",
       "      <td>0</td>\n",
       "      <td>3</td>\n",
       "      <td>0</td>\n",
       "      <td>7</td>\n",
       "      <td>122</td>\n",
       "      <td>0</td>\n",
       "      <td>2</td>\n",
       "      <td>3.0</td>\n",
       "      <td>0</td>\n",
       "      <td>1</td>\n",
       "      <td>3418.18</td>\n",
       "      <td>3370.87</td>\n",
       "      <td>1</td>\n",
       "      <td>1</td>\n",
       "    </tr>\n",
       "  </tbody>\n",
       "</table>\n",
       "</div>"
      ],
      "text/plain": [
       "   Area_Service  Age  Gender  Cultural_group  ethnicity  Days_spend_hsptl  \\\n",
       "0             6    2       0               3          0                 4   \n",
       "1             6    4       0               3          0                 4   \n",
       "2             6    2       0               3          0                 3   \n",
       "3             6    0       0               3          0                 1   \n",
       "4             6    4       0               3          0                 3   \n",
       "\n",
       "   Admission_type  home_self_care  ccs_diagnosis_code  ccs_procedure_code  \\\n",
       "0               0               7                 122                   0   \n",
       "1               5              17                 197                   0   \n",
       "2               5               7                 122                   0   \n",
       "3               5               7                 122                   0   \n",
       "4               0               7                 122                   0   \n",
       "\n",
       "   Code_illness  mortality_risk  Surg_Description  emergency_dept_yes_no  \\\n",
       "0             1             1.0                 0                      1   \n",
       "1             3             2.0                 0                      1   \n",
       "2             1             1.0                 0                      1   \n",
       "3             1             1.0                 0                      1   \n",
       "4             2             3.0                 0                      1   \n",
       "\n",
       "   Tot_charg  Tot_cost  Result  Payment_Typology  \n",
       "0    5511.95   5582.49       1                 1  \n",
       "1    4783.20   5162.82       1                 1  \n",
       "2    3829.15   4056.52       1                 1  \n",
       "3    1108.20   1644.75       0                 1  \n",
       "4    3418.18   3370.87       1                 1  "
      ]
     },
     "execution_count": 69,
     "metadata": {},
     "output_type": "execute_result"
    }
   ],
   "source": [
    "#Dropping hospital_id,hospital_county,baby_weight,app_drug_description,ratio_of_total_charges as they does not have much impact on Target\n",
    "insu_data = insu_data.drop(['hospital_county', 'hospital_id','Weight_baby','apr_drg_description','ratio_of_total_costs_to_total_charges'],inplace=False,axis=1)\n",
    "insu_data.head()"
   ]
  },
  {
   "cell_type": "code",
   "execution_count": 70,
   "metadata": {
    "id": "MgTns-Y3JeRs"
   },
   "outputs": [
    {
     "data": {
      "text/plain": [
       "(1043761, 18)"
      ]
     },
     "execution_count": 70,
     "metadata": {},
     "output_type": "execute_result"
    }
   ],
   "source": [
    "insu_data.shape"
   ]
  },
  {
   "cell_type": "markdown",
   "metadata": {
    "id": "ZCPrRUbjEpsU"
   },
   "source": [
    "### Check for Correlation between Features"
   ]
  },
  {
   "cell_type": "code",
   "execution_count": 71,
   "metadata": {
    "id": "ivaHsFmiEpsU",
    "outputId": "d42e2290-eca4-481e-a6be-17df645e414b",
    "scrolled": true
   },
   "outputs": [
    {
     "data": {
      "text/html": [
       "<div>\n",
       "<style scoped>\n",
       "    .dataframe tbody tr th:only-of-type {\n",
       "        vertical-align: middle;\n",
       "    }\n",
       "\n",
       "    .dataframe tbody tr th {\n",
       "        vertical-align: top;\n",
       "    }\n",
       "\n",
       "    .dataframe thead th {\n",
       "        text-align: right;\n",
       "    }\n",
       "</style>\n",
       "<table border=\"1\" class=\"dataframe\">\n",
       "  <thead>\n",
       "    <tr style=\"text-align: right;\">\n",
       "      <th></th>\n",
       "      <th>Area_Service</th>\n",
       "      <th>Age</th>\n",
       "      <th>Gender</th>\n",
       "      <th>Cultural_group</th>\n",
       "      <th>ethnicity</th>\n",
       "      <th>Days_spend_hsptl</th>\n",
       "      <th>Admission_type</th>\n",
       "      <th>home_self_care</th>\n",
       "      <th>ccs_diagnosis_code</th>\n",
       "      <th>ccs_procedure_code</th>\n",
       "      <th>Code_illness</th>\n",
       "      <th>mortality_risk</th>\n",
       "      <th>Surg_Description</th>\n",
       "      <th>emergency_dept_yes_no</th>\n",
       "      <th>Tot_charg</th>\n",
       "      <th>Tot_cost</th>\n",
       "      <th>Result</th>\n",
       "      <th>Payment_Typology</th>\n",
       "    </tr>\n",
       "  </thead>\n",
       "  <tbody>\n",
       "    <tr>\n",
       "      <th>Area_Service</th>\n",
       "      <td>1.000000</td>\n",
       "      <td>-0.006834</td>\n",
       "      <td>-0.003880</td>\n",
       "      <td>-0.121926</td>\n",
       "      <td>-0.082119</td>\n",
       "      <td>0.013977</td>\n",
       "      <td>-0.077236</td>\n",
       "      <td>0.023732</td>\n",
       "      <td>0.002708</td>\n",
       "      <td>0.007466</td>\n",
       "      <td>0.003950</td>\n",
       "      <td>-0.001813</td>\n",
       "      <td>0.000047</td>\n",
       "      <td>0.040467</td>\n",
       "      <td>0.015498</td>\n",
       "      <td>0.021334</td>\n",
       "      <td>0.000004</td>\n",
       "      <td>0.057755</td>\n",
       "    </tr>\n",
       "    <tr>\n",
       "      <th>Age</th>\n",
       "      <td>-0.006834</td>\n",
       "      <td>1.000000</td>\n",
       "      <td>0.010913</td>\n",
       "      <td>0.186841</td>\n",
       "      <td>-0.102025</td>\n",
       "      <td>0.092051</td>\n",
       "      <td>-0.109406</td>\n",
       "      <td>0.303176</td>\n",
       "      <td>-0.222645</td>\n",
       "      <td>-0.119825</td>\n",
       "      <td>0.413808</td>\n",
       "      <td>0.498642</td>\n",
       "      <td>0.090991</td>\n",
       "      <td>0.342108</td>\n",
       "      <td>0.100003</td>\n",
       "      <td>0.084976</td>\n",
       "      <td>0.002090</td>\n",
       "      <td>0.251672</td>\n",
       "    </tr>\n",
       "    <tr>\n",
       "      <th>Gender</th>\n",
       "      <td>-0.003880</td>\n",
       "      <td>0.010913</td>\n",
       "      <td>1.000000</td>\n",
       "      <td>0.000523</td>\n",
       "      <td>-0.002654</td>\n",
       "      <td>0.045817</td>\n",
       "      <td>0.007039</td>\n",
       "      <td>-0.021103</td>\n",
       "      <td>0.063164</td>\n",
       "      <td>-0.019835</td>\n",
       "      <td>0.067311</td>\n",
       "      <td>0.067529</td>\n",
       "      <td>-0.037497</td>\n",
       "      <td>0.077109</td>\n",
       "      <td>0.046418</td>\n",
       "      <td>0.030912</td>\n",
       "      <td>0.000038</td>\n",
       "      <td>-0.006977</td>\n",
       "    </tr>\n",
       "    <tr>\n",
       "      <th>Cultural_group</th>\n",
       "      <td>-0.121926</td>\n",
       "      <td>0.186841</td>\n",
       "      <td>0.000523</td>\n",
       "      <td>1.000000</td>\n",
       "      <td>-0.112354</td>\n",
       "      <td>-0.035564</td>\n",
       "      <td>0.021739</td>\n",
       "      <td>0.062032</td>\n",
       "      <td>-0.063450</td>\n",
       "      <td>-0.051070</td>\n",
       "      <td>0.046961</td>\n",
       "      <td>0.086860</td>\n",
       "      <td>0.065257</td>\n",
       "      <td>-0.003646</td>\n",
       "      <td>-0.041336</td>\n",
       "      <td>-0.021789</td>\n",
       "      <td>-0.000312</td>\n",
       "      <td>-0.081502</td>\n",
       "    </tr>\n",
       "    <tr>\n",
       "      <th>ethnicity</th>\n",
       "      <td>-0.082119</td>\n",
       "      <td>-0.102025</td>\n",
       "      <td>-0.002654</td>\n",
       "      <td>-0.112354</td>\n",
       "      <td>1.000000</td>\n",
       "      <td>-0.013495</td>\n",
       "      <td>0.059717</td>\n",
       "      <td>-0.050596</td>\n",
       "      <td>0.037999</td>\n",
       "      <td>0.020444</td>\n",
       "      <td>-0.056374</td>\n",
       "      <td>-0.060166</td>\n",
       "      <td>-0.034455</td>\n",
       "      <td>-0.022735</td>\n",
       "      <td>-0.021150</td>\n",
       "      <td>-0.020200</td>\n",
       "      <td>0.001304</td>\n",
       "      <td>-0.049928</td>\n",
       "    </tr>\n",
       "    <tr>\n",
       "      <th>Days_spend_hsptl</th>\n",
       "      <td>0.013977</td>\n",
       "      <td>0.092051</td>\n",
       "      <td>0.045817</td>\n",
       "      <td>-0.035564</td>\n",
       "      <td>-0.013495</td>\n",
       "      <td>1.000000</td>\n",
       "      <td>0.015869</td>\n",
       "      <td>0.150028</td>\n",
       "      <td>0.131010</td>\n",
       "      <td>0.039043</td>\n",
       "      <td>0.324976</td>\n",
       "      <td>0.211258</td>\n",
       "      <td>0.023939</td>\n",
       "      <td>0.026098</td>\n",
       "      <td>0.666881</td>\n",
       "      <td>0.616245</td>\n",
       "      <td>-0.000646</td>\n",
       "      <td>0.057692</td>\n",
       "    </tr>\n",
       "    <tr>\n",
       "      <th>Admission_type</th>\n",
       "      <td>-0.077236</td>\n",
       "      <td>-0.109406</td>\n",
       "      <td>0.007039</td>\n",
       "      <td>0.021739</td>\n",
       "      <td>0.059717</td>\n",
       "      <td>0.015869</td>\n",
       "      <td>1.000000</td>\n",
       "      <td>-0.040373</td>\n",
       "      <td>0.012572</td>\n",
       "      <td>-0.002641</td>\n",
       "      <td>0.019036</td>\n",
       "      <td>0.013776</td>\n",
       "      <td>-0.163369</td>\n",
       "      <td>-0.076306</td>\n",
       "      <td>-0.031412</td>\n",
       "      <td>-0.022220</td>\n",
       "      <td>-0.001341</td>\n",
       "      <td>0.013384</td>\n",
       "    </tr>\n",
       "    <tr>\n",
       "      <th>home_self_care</th>\n",
       "      <td>0.023732</td>\n",
       "      <td>0.303176</td>\n",
       "      <td>-0.021103</td>\n",
       "      <td>0.062032</td>\n",
       "      <td>-0.050596</td>\n",
       "      <td>0.150028</td>\n",
       "      <td>-0.040373</td>\n",
       "      <td>1.000000</td>\n",
       "      <td>-0.069997</td>\n",
       "      <td>-0.000596</td>\n",
       "      <td>0.241798</td>\n",
       "      <td>0.243157</td>\n",
       "      <td>0.022927</td>\n",
       "      <td>0.141801</td>\n",
       "      <td>0.107476</td>\n",
       "      <td>0.096845</td>\n",
       "      <td>0.000551</td>\n",
       "      <td>0.127107</td>\n",
       "    </tr>\n",
       "    <tr>\n",
       "      <th>ccs_diagnosis_code</th>\n",
       "      <td>0.002708</td>\n",
       "      <td>-0.222645</td>\n",
       "      <td>0.063164</td>\n",
       "      <td>-0.063450</td>\n",
       "      <td>0.037999</td>\n",
       "      <td>0.131010</td>\n",
       "      <td>0.012572</td>\n",
       "      <td>-0.069997</td>\n",
       "      <td>1.000000</td>\n",
       "      <td>0.051225</td>\n",
       "      <td>-0.181650</td>\n",
       "      <td>-0.269088</td>\n",
       "      <td>-0.148558</td>\n",
       "      <td>-0.100481</td>\n",
       "      <td>-0.076226</td>\n",
       "      <td>-0.041853</td>\n",
       "      <td>0.000351</td>\n",
       "      <td>-0.074999</td>\n",
       "    </tr>\n",
       "    <tr>\n",
       "      <th>ccs_procedure_code</th>\n",
       "      <td>0.007466</td>\n",
       "      <td>-0.119825</td>\n",
       "      <td>-0.019835</td>\n",
       "      <td>-0.051070</td>\n",
       "      <td>0.020444</td>\n",
       "      <td>0.039043</td>\n",
       "      <td>-0.002641</td>\n",
       "      <td>-0.000596</td>\n",
       "      <td>0.051225</td>\n",
       "      <td>1.000000</td>\n",
       "      <td>0.013420</td>\n",
       "      <td>-0.035028</td>\n",
       "      <td>0.047623</td>\n",
       "      <td>-0.170238</td>\n",
       "      <td>0.025696</td>\n",
       "      <td>0.033946</td>\n",
       "      <td>-0.000420</td>\n",
       "      <td>-0.050862</td>\n",
       "    </tr>\n",
       "    <tr>\n",
       "      <th>Code_illness</th>\n",
       "      <td>0.003950</td>\n",
       "      <td>0.413808</td>\n",
       "      <td>0.067311</td>\n",
       "      <td>0.046961</td>\n",
       "      <td>-0.056374</td>\n",
       "      <td>0.324976</td>\n",
       "      <td>0.019036</td>\n",
       "      <td>0.241798</td>\n",
       "      <td>-0.181650</td>\n",
       "      <td>0.013420</td>\n",
       "      <td>1.000000</td>\n",
       "      <td>0.635482</td>\n",
       "      <td>-0.085573</td>\n",
       "      <td>0.306612</td>\n",
       "      <td>0.290312</td>\n",
       "      <td>0.246290</td>\n",
       "      <td>0.002103</td>\n",
       "      <td>0.155966</td>\n",
       "    </tr>\n",
       "    <tr>\n",
       "      <th>mortality_risk</th>\n",
       "      <td>-0.001813</td>\n",
       "      <td>0.498642</td>\n",
       "      <td>0.067529</td>\n",
       "      <td>0.086860</td>\n",
       "      <td>-0.060166</td>\n",
       "      <td>0.211258</td>\n",
       "      <td>0.013776</td>\n",
       "      <td>0.243157</td>\n",
       "      <td>-0.269088</td>\n",
       "      <td>-0.035028</td>\n",
       "      <td>0.635482</td>\n",
       "      <td>1.000000</td>\n",
       "      <td>-0.068926</td>\n",
       "      <td>0.294080</td>\n",
       "      <td>0.221598</td>\n",
       "      <td>0.181644</td>\n",
       "      <td>0.002543</td>\n",
       "      <td>0.182236</td>\n",
       "    </tr>\n",
       "    <tr>\n",
       "      <th>Surg_Description</th>\n",
       "      <td>0.000047</td>\n",
       "      <td>0.090991</td>\n",
       "      <td>-0.037497</td>\n",
       "      <td>0.065257</td>\n",
       "      <td>-0.034455</td>\n",
       "      <td>0.023939</td>\n",
       "      <td>-0.163369</td>\n",
       "      <td>0.022927</td>\n",
       "      <td>-0.148558</td>\n",
       "      <td>0.047623</td>\n",
       "      <td>-0.085573</td>\n",
       "      <td>-0.068926</td>\n",
       "      <td>1.000000</td>\n",
       "      <td>-0.275843</td>\n",
       "      <td>0.209849</td>\n",
       "      <td>0.192109</td>\n",
       "      <td>-0.002206</td>\n",
       "      <td>-0.019411</td>\n",
       "    </tr>\n",
       "    <tr>\n",
       "      <th>emergency_dept_yes_no</th>\n",
       "      <td>0.040467</td>\n",
       "      <td>0.342108</td>\n",
       "      <td>0.077109</td>\n",
       "      <td>-0.003646</td>\n",
       "      <td>-0.022735</td>\n",
       "      <td>0.026098</td>\n",
       "      <td>-0.076306</td>\n",
       "      <td>0.141801</td>\n",
       "      <td>-0.100481</td>\n",
       "      <td>-0.170238</td>\n",
       "      <td>0.306612</td>\n",
       "      <td>0.294080</td>\n",
       "      <td>-0.275843</td>\n",
       "      <td>1.000000</td>\n",
       "      <td>0.010594</td>\n",
       "      <td>-0.010065</td>\n",
       "      <td>0.002585</td>\n",
       "      <td>0.104617</td>\n",
       "    </tr>\n",
       "    <tr>\n",
       "      <th>Tot_charg</th>\n",
       "      <td>0.015498</td>\n",
       "      <td>0.100003</td>\n",
       "      <td>0.046418</td>\n",
       "      <td>-0.041336</td>\n",
       "      <td>-0.021150</td>\n",
       "      <td>0.666881</td>\n",
       "      <td>-0.031412</td>\n",
       "      <td>0.107476</td>\n",
       "      <td>-0.076226</td>\n",
       "      <td>0.025696</td>\n",
       "      <td>0.290312</td>\n",
       "      <td>0.221598</td>\n",
       "      <td>0.209849</td>\n",
       "      <td>0.010594</td>\n",
       "      <td>1.000000</td>\n",
       "      <td>0.722933</td>\n",
       "      <td>-0.001067</td>\n",
       "      <td>0.080763</td>\n",
       "    </tr>\n",
       "    <tr>\n",
       "      <th>Tot_cost</th>\n",
       "      <td>0.021334</td>\n",
       "      <td>0.084976</td>\n",
       "      <td>0.030912</td>\n",
       "      <td>-0.021789</td>\n",
       "      <td>-0.020200</td>\n",
       "      <td>0.616245</td>\n",
       "      <td>-0.022220</td>\n",
       "      <td>0.096845</td>\n",
       "      <td>-0.041853</td>\n",
       "      <td>0.033946</td>\n",
       "      <td>0.246290</td>\n",
       "      <td>0.181644</td>\n",
       "      <td>0.192109</td>\n",
       "      <td>-0.010065</td>\n",
       "      <td>0.722933</td>\n",
       "      <td>1.000000</td>\n",
       "      <td>-0.001368</td>\n",
       "      <td>0.056493</td>\n",
       "    </tr>\n",
       "    <tr>\n",
       "      <th>Result</th>\n",
       "      <td>0.000004</td>\n",
       "      <td>0.002090</td>\n",
       "      <td>0.000038</td>\n",
       "      <td>-0.000312</td>\n",
       "      <td>0.001304</td>\n",
       "      <td>-0.000646</td>\n",
       "      <td>-0.001341</td>\n",
       "      <td>0.000551</td>\n",
       "      <td>0.000351</td>\n",
       "      <td>-0.000420</td>\n",
       "      <td>0.002103</td>\n",
       "      <td>0.002543</td>\n",
       "      <td>-0.002206</td>\n",
       "      <td>0.002585</td>\n",
       "      <td>-0.001067</td>\n",
       "      <td>-0.001368</td>\n",
       "      <td>1.000000</td>\n",
       "      <td>0.001339</td>\n",
       "    </tr>\n",
       "    <tr>\n",
       "      <th>Payment_Typology</th>\n",
       "      <td>0.057755</td>\n",
       "      <td>0.251672</td>\n",
       "      <td>-0.006977</td>\n",
       "      <td>-0.081502</td>\n",
       "      <td>-0.049928</td>\n",
       "      <td>0.057692</td>\n",
       "      <td>0.013384</td>\n",
       "      <td>0.127107</td>\n",
       "      <td>-0.074999</td>\n",
       "      <td>-0.050862</td>\n",
       "      <td>0.155966</td>\n",
       "      <td>0.182236</td>\n",
       "      <td>-0.019411</td>\n",
       "      <td>0.104617</td>\n",
       "      <td>0.080763</td>\n",
       "      <td>0.056493</td>\n",
       "      <td>0.001339</td>\n",
       "      <td>1.000000</td>\n",
       "    </tr>\n",
       "  </tbody>\n",
       "</table>\n",
       "</div>"
      ],
      "text/plain": [
       "                       Area_Service       Age    Gender  Cultural_group  \\\n",
       "Area_Service               1.000000 -0.006834 -0.003880       -0.121926   \n",
       "Age                       -0.006834  1.000000  0.010913        0.186841   \n",
       "Gender                    -0.003880  0.010913  1.000000        0.000523   \n",
       "Cultural_group            -0.121926  0.186841  0.000523        1.000000   \n",
       "ethnicity                 -0.082119 -0.102025 -0.002654       -0.112354   \n",
       "Days_spend_hsptl           0.013977  0.092051  0.045817       -0.035564   \n",
       "Admission_type            -0.077236 -0.109406  0.007039        0.021739   \n",
       "home_self_care             0.023732  0.303176 -0.021103        0.062032   \n",
       "ccs_diagnosis_code         0.002708 -0.222645  0.063164       -0.063450   \n",
       "ccs_procedure_code         0.007466 -0.119825 -0.019835       -0.051070   \n",
       "Code_illness               0.003950  0.413808  0.067311        0.046961   \n",
       "mortality_risk            -0.001813  0.498642  0.067529        0.086860   \n",
       "Surg_Description           0.000047  0.090991 -0.037497        0.065257   \n",
       "emergency_dept_yes_no      0.040467  0.342108  0.077109       -0.003646   \n",
       "Tot_charg                  0.015498  0.100003  0.046418       -0.041336   \n",
       "Tot_cost                   0.021334  0.084976  0.030912       -0.021789   \n",
       "Result                     0.000004  0.002090  0.000038       -0.000312   \n",
       "Payment_Typology           0.057755  0.251672 -0.006977       -0.081502   \n",
       "\n",
       "                       ethnicity  Days_spend_hsptl  Admission_type  \\\n",
       "Area_Service           -0.082119          0.013977       -0.077236   \n",
       "Age                    -0.102025          0.092051       -0.109406   \n",
       "Gender                 -0.002654          0.045817        0.007039   \n",
       "Cultural_group         -0.112354         -0.035564        0.021739   \n",
       "ethnicity               1.000000         -0.013495        0.059717   \n",
       "Days_spend_hsptl       -0.013495          1.000000        0.015869   \n",
       "Admission_type          0.059717          0.015869        1.000000   \n",
       "home_self_care         -0.050596          0.150028       -0.040373   \n",
       "ccs_diagnosis_code      0.037999          0.131010        0.012572   \n",
       "ccs_procedure_code      0.020444          0.039043       -0.002641   \n",
       "Code_illness           -0.056374          0.324976        0.019036   \n",
       "mortality_risk         -0.060166          0.211258        0.013776   \n",
       "Surg_Description       -0.034455          0.023939       -0.163369   \n",
       "emergency_dept_yes_no  -0.022735          0.026098       -0.076306   \n",
       "Tot_charg              -0.021150          0.666881       -0.031412   \n",
       "Tot_cost               -0.020200          0.616245       -0.022220   \n",
       "Result                  0.001304         -0.000646       -0.001341   \n",
       "Payment_Typology       -0.049928          0.057692        0.013384   \n",
       "\n",
       "                       home_self_care  ccs_diagnosis_code  ccs_procedure_code  \\\n",
       "Area_Service                 0.023732            0.002708            0.007466   \n",
       "Age                          0.303176           -0.222645           -0.119825   \n",
       "Gender                      -0.021103            0.063164           -0.019835   \n",
       "Cultural_group               0.062032           -0.063450           -0.051070   \n",
       "ethnicity                   -0.050596            0.037999            0.020444   \n",
       "Days_spend_hsptl             0.150028            0.131010            0.039043   \n",
       "Admission_type              -0.040373            0.012572           -0.002641   \n",
       "home_self_care               1.000000           -0.069997           -0.000596   \n",
       "ccs_diagnosis_code          -0.069997            1.000000            0.051225   \n",
       "ccs_procedure_code          -0.000596            0.051225            1.000000   \n",
       "Code_illness                 0.241798           -0.181650            0.013420   \n",
       "mortality_risk               0.243157           -0.269088           -0.035028   \n",
       "Surg_Description             0.022927           -0.148558            0.047623   \n",
       "emergency_dept_yes_no        0.141801           -0.100481           -0.170238   \n",
       "Tot_charg                    0.107476           -0.076226            0.025696   \n",
       "Tot_cost                     0.096845           -0.041853            0.033946   \n",
       "Result                       0.000551            0.000351           -0.000420   \n",
       "Payment_Typology             0.127107           -0.074999           -0.050862   \n",
       "\n",
       "                       Code_illness  mortality_risk  Surg_Description  \\\n",
       "Area_Service               0.003950       -0.001813          0.000047   \n",
       "Age                        0.413808        0.498642          0.090991   \n",
       "Gender                     0.067311        0.067529         -0.037497   \n",
       "Cultural_group             0.046961        0.086860          0.065257   \n",
       "ethnicity                 -0.056374       -0.060166         -0.034455   \n",
       "Days_spend_hsptl           0.324976        0.211258          0.023939   \n",
       "Admission_type             0.019036        0.013776         -0.163369   \n",
       "home_self_care             0.241798        0.243157          0.022927   \n",
       "ccs_diagnosis_code        -0.181650       -0.269088         -0.148558   \n",
       "ccs_procedure_code         0.013420       -0.035028          0.047623   \n",
       "Code_illness               1.000000        0.635482         -0.085573   \n",
       "mortality_risk             0.635482        1.000000         -0.068926   \n",
       "Surg_Description          -0.085573       -0.068926          1.000000   \n",
       "emergency_dept_yes_no      0.306612        0.294080         -0.275843   \n",
       "Tot_charg                  0.290312        0.221598          0.209849   \n",
       "Tot_cost                   0.246290        0.181644          0.192109   \n",
       "Result                     0.002103        0.002543         -0.002206   \n",
       "Payment_Typology           0.155966        0.182236         -0.019411   \n",
       "\n",
       "                       emergency_dept_yes_no  Tot_charg  Tot_cost    Result  \\\n",
       "Area_Service                        0.040467   0.015498  0.021334  0.000004   \n",
       "Age                                 0.342108   0.100003  0.084976  0.002090   \n",
       "Gender                              0.077109   0.046418  0.030912  0.000038   \n",
       "Cultural_group                     -0.003646  -0.041336 -0.021789 -0.000312   \n",
       "ethnicity                          -0.022735  -0.021150 -0.020200  0.001304   \n",
       "Days_spend_hsptl                    0.026098   0.666881  0.616245 -0.000646   \n",
       "Admission_type                     -0.076306  -0.031412 -0.022220 -0.001341   \n",
       "home_self_care                      0.141801   0.107476  0.096845  0.000551   \n",
       "ccs_diagnosis_code                 -0.100481  -0.076226 -0.041853  0.000351   \n",
       "ccs_procedure_code                 -0.170238   0.025696  0.033946 -0.000420   \n",
       "Code_illness                        0.306612   0.290312  0.246290  0.002103   \n",
       "mortality_risk                      0.294080   0.221598  0.181644  0.002543   \n",
       "Surg_Description                   -0.275843   0.209849  0.192109 -0.002206   \n",
       "emergency_dept_yes_no               1.000000   0.010594 -0.010065  0.002585   \n",
       "Tot_charg                           0.010594   1.000000  0.722933 -0.001067   \n",
       "Tot_cost                           -0.010065   0.722933  1.000000 -0.001368   \n",
       "Result                              0.002585  -0.001067 -0.001368  1.000000   \n",
       "Payment_Typology                    0.104617   0.080763  0.056493  0.001339   \n",
       "\n",
       "                       Payment_Typology  \n",
       "Area_Service                   0.057755  \n",
       "Age                            0.251672  \n",
       "Gender                        -0.006977  \n",
       "Cultural_group                -0.081502  \n",
       "ethnicity                     -0.049928  \n",
       "Days_spend_hsptl               0.057692  \n",
       "Admission_type                 0.013384  \n",
       "home_self_care                 0.127107  \n",
       "ccs_diagnosis_code            -0.074999  \n",
       "ccs_procedure_code            -0.050862  \n",
       "Code_illness                   0.155966  \n",
       "mortality_risk                 0.182236  \n",
       "Surg_Description              -0.019411  \n",
       "emergency_dept_yes_no          0.104617  \n",
       "Tot_charg                      0.080763  \n",
       "Tot_cost                       0.056493  \n",
       "Result                         0.001339  \n",
       "Payment_Typology               1.000000  "
      ]
     },
     "execution_count": 71,
     "metadata": {},
     "output_type": "execute_result"
    }
   ],
   "source": [
    "insu_data.corr()"
   ]
  },
  {
   "cell_type": "code",
   "execution_count": 74,
   "metadata": {
    "id": "NNm1tJddEpsW",
    "outputId": "4ad18d04-5ca8-44dd-e2bf-4614fcde398d"
   },
   "outputs": [
    {
     "data": {
      "image/png": "[encoded data removed]",
      "text/plain": [
       "<Figure size 1440x1440 with 2 Axes>"
      ]
     },
     "metadata": {
      "needs_background": "light"
     },
     "output_type": "display_data"
    }
   ],
   "source": [
    "import seaborn as sns\n",
    "#get correlations of each features in dataset\n",
    "corrmat = insu_data.corr()\n",
    "top_corr_features = corrmat.index\n",
    "plt.figure(figsize=(20,20))\n",
    "#plot heat map\n",
    "g=sns.heatmap(insu_data[top_corr_features].corr(),annot=True)"
   ]
  },
  {
   "cell_type": "markdown",
   "metadata": {
    "id": "1pFJD9niEps2"
   },
   "source": [
    "### Dividing data in to Predictors and Target"
   ]
  },
  {
   "cell_type": "code",
   "execution_count": 75,
   "metadata": {
    "id": "jKMVIgN8Eps4",
    "outputId": "d0cd17d2-eedd-40f8-f000-0cdd40d56cb2"
   },
   "outputs": [
    {
     "data": {
      "text/html": [
       "<div>\n",
       "<style scoped>\n",
       "    .dataframe tbody tr th:only-of-type {\n",
       "        vertical-align: middle;\n",
       "    }\n",
       "\n",
       "    .dataframe tbody tr th {\n",
       "        vertical-align: top;\n",
       "    }\n",
       "\n",
       "    .dataframe thead th {\n",
       "        text-align: right;\n",
       "    }\n",
       "</style>\n",
       "<table border=\"1\" class=\"dataframe\">\n",
       "  <thead>\n",
       "    <tr style=\"text-align: right;\">\n",
       "      <th></th>\n",
       "      <th>Area_Service</th>\n",
       "      <th>Age</th>\n",
       "      <th>Gender</th>\n",
       "      <th>Cultural_group</th>\n",
       "      <th>ethnicity</th>\n",
       "      <th>Days_spend_hsptl</th>\n",
       "      <th>Admission_type</th>\n",
       "      <th>home_self_care</th>\n",
       "      <th>ccs_diagnosis_code</th>\n",
       "      <th>ccs_procedure_code</th>\n",
       "      <th>Code_illness</th>\n",
       "      <th>mortality_risk</th>\n",
       "      <th>Surg_Description</th>\n",
       "      <th>emergency_dept_yes_no</th>\n",
       "      <th>Tot_charg</th>\n",
       "      <th>Tot_cost</th>\n",
       "      <th>Payment_Typology</th>\n",
       "    </tr>\n",
       "  </thead>\n",
       "  <tbody>\n",
       "    <tr>\n",
       "      <th>0</th>\n",
       "      <td>6</td>\n",
       "      <td>2</td>\n",
       "      <td>0</td>\n",
       "      <td>3</td>\n",
       "      <td>0</td>\n",
       "      <td>4</td>\n",
       "      <td>0</td>\n",
       "      <td>7</td>\n",
       "      <td>122</td>\n",
       "      <td>0</td>\n",
       "      <td>1</td>\n",
       "      <td>1.0</td>\n",
       "      <td>0</td>\n",
       "      <td>1</td>\n",
       "      <td>5511.95</td>\n",
       "      <td>5582.49</td>\n",
       "      <td>1</td>\n",
       "    </tr>\n",
       "    <tr>\n",
       "      <th>1</th>\n",
       "      <td>6</td>\n",
       "      <td>4</td>\n",
       "      <td>0</td>\n",
       "      <td>3</td>\n",
       "      <td>0</td>\n",
       "      <td>4</td>\n",
       "      <td>5</td>\n",
       "      <td>17</td>\n",
       "      <td>197</td>\n",
       "      <td>0</td>\n",
       "      <td>3</td>\n",
       "      <td>2.0</td>\n",
       "      <td>0</td>\n",
       "      <td>1</td>\n",
       "      <td>4783.20</td>\n",
       "      <td>5162.82</td>\n",
       "      <td>1</td>\n",
       "    </tr>\n",
       "    <tr>\n",
       "      <th>2</th>\n",
       "      <td>6</td>\n",
       "      <td>2</td>\n",
       "      <td>0</td>\n",
       "      <td>3</td>\n",
       "      <td>0</td>\n",
       "      <td>3</td>\n",
       "      <td>5</td>\n",
       "      <td>7</td>\n",
       "      <td>122</td>\n",
       "      <td>0</td>\n",
       "      <td>1</td>\n",
       "      <td>1.0</td>\n",
       "      <td>0</td>\n",
       "      <td>1</td>\n",
       "      <td>3829.15</td>\n",
       "      <td>4056.52</td>\n",
       "      <td>1</td>\n",
       "    </tr>\n",
       "    <tr>\n",
       "      <th>3</th>\n",
       "      <td>6</td>\n",
       "      <td>0</td>\n",
       "      <td>0</td>\n",
       "      <td>3</td>\n",
       "      <td>0</td>\n",
       "      <td>1</td>\n",
       "      <td>5</td>\n",
       "      <td>7</td>\n",
       "      <td>122</td>\n",
       "      <td>0</td>\n",
       "      <td>1</td>\n",
       "      <td>1.0</td>\n",
       "      <td>0</td>\n",
       "      <td>1</td>\n",
       "      <td>1108.20</td>\n",
       "      <td>1644.75</td>\n",
       "      <td>1</td>\n",
       "    </tr>\n",
       "    <tr>\n",
       "      <th>4</th>\n",
       "      <td>6</td>\n",
       "      <td>4</td>\n",
       "      <td>0</td>\n",
       "      <td>3</td>\n",
       "      <td>0</td>\n",
       "      <td>3</td>\n",
       "      <td>0</td>\n",
       "      <td>7</td>\n",
       "      <td>122</td>\n",
       "      <td>0</td>\n",
       "      <td>2</td>\n",
       "      <td>3.0</td>\n",
       "      <td>0</td>\n",
       "      <td>1</td>\n",
       "      <td>3418.18</td>\n",
       "      <td>3370.87</td>\n",
       "      <td>1</td>\n",
       "    </tr>\n",
       "  </tbody>\n",
       "</table>\n",
       "</div>"
      ],
      "text/plain": [
       "   Area_Service  Age  Gender  Cultural_group  ethnicity  Days_spend_hsptl  \\\n",
       "0             6    2       0               3          0                 4   \n",
       "1             6    4       0               3          0                 4   \n",
       "2             6    2       0               3          0                 3   \n",
       "3             6    0       0               3          0                 1   \n",
       "4             6    4       0               3          0                 3   \n",
       "\n",
       "   Admission_type  home_self_care  ccs_diagnosis_code  ccs_procedure_code  \\\n",
       "0               0               7                 122                   0   \n",
       "1               5              17                 197                   0   \n",
       "2               5               7                 122                   0   \n",
       "3               5               7                 122                   0   \n",
       "4               0               7                 122                   0   \n",
       "\n",
       "   Code_illness  mortality_risk  Surg_Description  emergency_dept_yes_no  \\\n",
       "0             1             1.0                 0                      1   \n",
       "1             3             2.0                 0                      1   \n",
       "2             1             1.0                 0                      1   \n",
       "3             1             1.0                 0                      1   \n",
       "4             2             3.0                 0                      1   \n",
       "\n",
       "   Tot_charg  Tot_cost  Payment_Typology  \n",
       "0    5511.95   5582.49                 1  \n",
       "1    4783.20   5162.82                 1  \n",
       "2    3829.15   4056.52                 1  \n",
       "3    1108.20   1644.75                 1  \n",
       "4    3418.18   3370.87                 1  "
      ]
     },
     "execution_count": 75,
     "metadata": {},
     "output_type": "execute_result"
    }
   ],
   "source": [
    "X=insu_data.drop(columns=['Result'])\n",
    "X.columns\n",
    "X.head()"
   ]
  },
  {
   "cell_type": "code",
   "execution_count": 76,
   "metadata": {
    "id": "qZFJ-95lEps5",
    "outputId": "4a1a6349-9b6c-43bd-95b5-60981e5f7af1"
   },
   "outputs": [
    {
     "data": {
      "text/plain": [
       "0          1\n",
       "1          1\n",
       "2          1\n",
       "3          0\n",
       "4          1\n",
       "          ..\n",
       "1048570    1\n",
       "1048571    1\n",
       "1048572    0\n",
       "1048573    1\n",
       "1048574    1\n",
       "Name: Result, Length: 1043761, dtype: int64"
      ]
     },
     "execution_count": 76,
     "metadata": {},
     "output_type": "execute_result"
    }
   ],
   "source": [
    "Y=insu_data.Result\n",
    "Y"
   ]
  },
  {
   "cell_type": "code",
   "execution_count": 77,
   "metadata": {
    "id": "nk_uvQoZEps7",
    "outputId": "da346e63-f71b-4b2e-cce5-95c20dfd6103",
    "scrolled": true
   },
   "outputs": [
    {
     "data": {
      "text/plain": [
       "(1043761, 17)"
      ]
     },
     "execution_count": 77,
     "metadata": {},
     "output_type": "execute_result"
    }
   ],
   "source": [
    "X.shape"
   ]
  },
  {
   "cell_type": "markdown",
   "metadata": {
    "id": "fjdEwBcXLx4W"
   },
   "source": [
    "# Feature Selection"
   ]
  },
  {
   "cell_type": "markdown",
   "metadata": {
    "id": "Q0EixBhSL0qW"
   },
   "source": [
    "### Feature Importance using Extra Trees Classifier"
   ]
  },
  {
   "cell_type": "code",
   "execution_count": 78,
   "metadata": {
    "id": "e6O4HakYEps8"
   },
   "outputs": [
    {
     "data": {
      "text/plain": [
       "ExtraTreesClassifier()"
      ]
     },
     "execution_count": 78,
     "metadata": {},
     "output_type": "execute_result"
    }
   ],
   "source": [
    "from sklearn.ensemble import ExtraTreesClassifier\n",
    "import matplotlib.pyplot as plt\n",
    "feat_imp = ExtraTreesClassifier()\n",
    "feat_imp.fit(X,Y)"
   ]
  },
  {
   "cell_type": "code",
   "execution_count": 79,
   "metadata": {
    "id": "E8V2pNt0Eps8",
    "outputId": "5fc1bccd-d4e7-4f18-f301-8b19df2529c0"
   },
   "outputs": [
    {
     "name": "stdout",
     "output_type": "stream",
     "text": [
      "[0.0445344  0.02868458 0.01127429 0.01200927 0.00768513 0.10010891\n",
      " 0.010111   0.04274225 0.12876936 0.07198609 0.02343382 0.01384685\n",
      " 0.00200934 0.00323302 0.23562135 0.23506379 0.02888655]\n"
     ]
    }
   ],
   "source": [
    "print(feat_imp.feature_importances_)"
   ]
  },
  {
   "cell_type": "code",
   "execution_count": 80,
   "metadata": {
    "id": "tj0Uz1FMEps9"
   },
   "outputs": [
    {
     "data": {
      "image/png": "[encoded data removed]",
      "text/plain": [
       "<Figure size 432x288 with 1 Axes>"
      ]
     },
     "metadata": {
      "needs_background": "light"
     },
     "output_type": "display_data"
    }
   ],
   "source": [
    "#plot graph of feature importances for better visualization\n",
    "feat_importances = pd.Series(feat_imp.feature_importances_, index=X.columns)\n",
    "feat_importances.nlargest(20).plot(kind='barh')\n",
    "plt.show()"
   ]
  },
  {
   "cell_type": "markdown",
   "metadata": {
    "id": "Tyubkn4ZMLLH"
   },
   "source": [
    "## Check whether Data is Balanced or Imbalanced"
   ]
  },
  {
   "cell_type": "code",
   "execution_count": 82,
   "metadata": {
    "id": "yjdz5-wXEps9"
   },
   "outputs": [
    {
     "data": {
      "text/plain": [
       "1    782188\n",
       "0    261573\n",
       "Name: Result, dtype: int64"
      ]
     },
     "execution_count": 82,
     "metadata": {},
     "output_type": "execute_result"
    }
   ],
   "source": [
    "Y.value_counts()"
   ]
  },
  {
   "cell_type": "markdown",
   "metadata": {},
   "source": [
    "#### From the data we came to know that data is containing 75% of Genuine data (1) and 25% of Fraudulent (0) data.\n",
    "\n",
    "#### This imbalance may create biasness in the model towards Genuine data, So Over Sampling is done to balance the data."
   ]
  },
  {
   "cell_type": "markdown",
   "metadata": {
    "id": "I5IpFTaXMWJx"
   },
   "source": [
    "### Random Over Sampling"
   ]
  },
  {
   "cell_type": "code",
   "execution_count": 83,
   "metadata": {
    "id": "T0xHRBlvEps-"
   },
   "outputs": [
    {
     "data": {
      "text/plain": [
       "((1564376, 17), (1564376,))"
      ]
     },
     "execution_count": 83,
     "metadata": {},
     "output_type": "execute_result"
    }
   ],
   "source": [
    "from imblearn.over_sampling import RandomOverSampler\n",
    "os =  RandomOverSampler(sampling_strategy='minority')\n",
    "X_over, Y_over = os.fit_resample(X, Y)\n",
    "X_over.shape,Y_over.shape"
   ]
  },
  {
   "cell_type": "code",
   "execution_count": 84,
   "metadata": {
    "id": "_EBeWgPYEps-"
   },
   "outputs": [
    {
     "name": "stdout",
     "output_type": "stream",
     "text": [
      "Counter({1: 782188, 0: 261573})\n",
      "Counter({1: 782188, 0: 782188})\n"
     ]
    }
   ],
   "source": [
    "from collections import Counter\n",
    "print(Counter(Y))\n",
    "print(Counter(Y_over))"
   ]
  },
  {
   "cell_type": "markdown",
   "metadata": {
    "id": "VwQfGkHWMhOr"
   },
   "source": [
    "# Model Building"
   ]
  },
  {
   "cell_type": "markdown",
   "metadata": {},
   "source": [
    "### Splitting data in to partitions for Training and Testing.\n",
    "\n",
    "#### 80% of data for Training the model and 20% of data or Testing the model."
   ]
  },
  {
   "cell_type": "code",
   "execution_count": 107,
   "metadata": {
    "id": "AsA0VvbLMxcE"
   },
   "outputs": [],
   "source": [
    "from sklearn.model_selection import train_test_split\n",
    "x_train,x_test,y_train,y_test=train_test_split(X_over,Y_over,test_size=0.2)"
   ]
  },
  {
   "cell_type": "code",
   "execution_count": 114,
   "metadata": {},
   "outputs": [],
   "source": [
    "x_test=x_test.reset_index(drop=True)\n",
    "\n",
    "y_test=pd.DataFrame(y_test)\n",
    "y_test=y_test.reset_index(drop=True)"
   ]
  },
  {
   "cell_type": "markdown",
   "metadata": {
    "id": "a5bcm7R7Mhdj"
   },
   "source": [
    "### Model Building using Random Forest Classifier"
   ]
  },
  {
   "cell_type": "code",
   "execution_count": 117,
   "metadata": {
    "id": "iZpvr3NEEps_",
    "outputId": "a43ca903-7e88-4361-8f81-638c864d0de2"
   },
   "outputs": [
    {
     "name": "stdout",
     "output_type": "stream",
     "text": [
      "[[142444  13945]\n",
      " [ 16610 139877]]\n",
      "Train_Accuracy_score= 99.46\n",
      "Test_Accuracy Score= 90.23\n",
      "Classification report:               precision    recall  f1-score   support\n",
      "\n",
      "           0       0.90      0.91      0.90    156389\n",
      "           1       0.91      0.89      0.90    156487\n",
      "\n",
      "    accuracy                           0.90    312876\n",
      "   macro avg       0.90      0.90      0.90    312876\n",
      "weighted avg       0.90      0.90      0.90    312876\n",
      "\n"
     ]
    }
   ],
   "source": [
    "from sklearn.ensemble import RandomForestClassifier\n",
    "rf=RandomForestClassifier(n_estimators=200,random_state=3)\n",
    "rf.fit(x_train,y_train)\n",
    "from sklearn.metrics import accuracy_score,classification_report,confusion_matrix\n",
    "y_pred_rf=rf.predict(x_test)\n",
    "print(confusion_matrix(y_test,y_pred_rf))\n",
    "train_acc_rf=round(rf.score(x_train, y_train) * 100, 2)\n",
    "test_acc_rf=round(accuracy_score(y_test,y_pred_rf)*100,2)\n",
    "print('Train_Accuracy_score= {}'.format(train_acc_rf))\n",
    "print(\"Test_Accuracy Score= {}\".format(test_acc_rf))\n",
    "\n",
    "print(\"Classification report: {}\".format(classification_report(y_test,y_pred_rf)))"
   ]
  },
  {
   "cell_type": "code",
   "execution_count": 118,
   "metadata": {},
   "outputs": [],
   "source": [
    "y_pred_rf=pd.DataFrame(y_pred_rf)\n",
    "y_pred_rf.columns=['Predicted Values']"
   ]
  },
  {
   "cell_type": "code",
   "execution_count": 127,
   "metadata": {
    "id": "HQABQaa7Eps_",
    "outputId": "2a0a2cb5-7da7-44cb-daec-acb3736ac79c"
   },
   "outputs": [
    {
     "data": {
      "text/plain": [
       "Predicted Values\n",
       "0                   159054\n",
       "1                   153822\n",
       "dtype: int64"
      ]
     },
     "execution_count": 127,
     "metadata": {},
     "output_type": "execute_result"
    }
   ],
   "source": [
    "y_pred_rf.value_counts()"
   ]
  },
  {
   "cell_type": "code",
   "execution_count": 120,
   "metadata": {},
   "outputs": [],
   "source": [
    "y_test=pd.DataFrame(y_test)\n",
    "y_test.columns=['Actual Values']"
   ]
  },
  {
   "cell_type": "code",
   "execution_count": 128,
   "metadata": {
    "id": "fxMmPd2_EptA",
    "outputId": "b4ceaada-6af5-4965-fb9d-df2f388f8bf9"
   },
   "outputs": [
    {
     "data": {
      "text/plain": [
       "Actual Values\n",
       "1                156487\n",
       "0                156389\n",
       "dtype: int64"
      ]
     },
     "execution_count": 128,
     "metadata": {},
     "output_type": "execute_result"
    }
   ],
   "source": [
    "y_test.value_counts()"
   ]
  },
  {
   "cell_type": "markdown",
   "metadata": {},
   "source": [
    "#### Comparision of Actual Values and Predicted Values"
   ]
  },
  {
   "cell_type": "code",
   "execution_count": 126,
   "metadata": {
    "id": "L4zmZEHmEptB",
    "scrolled": true
   },
   "outputs": [
    {
     "data": {
      "text/html": [
       "<div>\n",
       "<style scoped>\n",
       "    .dataframe tbody tr th:only-of-type {\n",
       "        vertical-align: middle;\n",
       "    }\n",
       "\n",
       "    .dataframe tbody tr th {\n",
       "        vertical-align: top;\n",
       "    }\n",
       "\n",
       "    .dataframe thead th {\n",
       "        text-align: right;\n",
       "    }\n",
       "</style>\n",
       "<table border=\"1\" class=\"dataframe\">\n",
       "  <thead>\n",
       "    <tr style=\"text-align: right;\">\n",
       "      <th></th>\n",
       "      <th>Actual Values</th>\n",
       "      <th>Predicted Values</th>\n",
       "    </tr>\n",
       "  </thead>\n",
       "  <tbody>\n",
       "    <tr>\n",
       "      <th>0</th>\n",
       "      <td>0</td>\n",
       "      <td>0</td>\n",
       "    </tr>\n",
       "    <tr>\n",
       "      <th>1</th>\n",
       "      <td>0</td>\n",
       "      <td>0</td>\n",
       "    </tr>\n",
       "    <tr>\n",
       "      <th>2</th>\n",
       "      <td>0</td>\n",
       "      <td>0</td>\n",
       "    </tr>\n",
       "    <tr>\n",
       "      <th>3</th>\n",
       "      <td>1</td>\n",
       "      <td>1</td>\n",
       "    </tr>\n",
       "    <tr>\n",
       "      <th>4</th>\n",
       "      <td>0</td>\n",
       "      <td>0</td>\n",
       "    </tr>\n",
       "    <tr>\n",
       "      <th>5</th>\n",
       "      <td>1</td>\n",
       "      <td>1</td>\n",
       "    </tr>\n",
       "    <tr>\n",
       "      <th>6</th>\n",
       "      <td>1</td>\n",
       "      <td>1</td>\n",
       "    </tr>\n",
       "    <tr>\n",
       "      <th>7</th>\n",
       "      <td>0</td>\n",
       "      <td>0</td>\n",
       "    </tr>\n",
       "    <tr>\n",
       "      <th>8</th>\n",
       "      <td>1</td>\n",
       "      <td>1</td>\n",
       "    </tr>\n",
       "    <tr>\n",
       "      <th>9</th>\n",
       "      <td>1</td>\n",
       "      <td>1</td>\n",
       "    </tr>\n",
       "  </tbody>\n",
       "</table>\n",
       "</div>"
      ],
      "text/plain": [
       "   Actual Values  Predicted Values\n",
       "0              0                 0\n",
       "1              0                 0\n",
       "2              0                 0\n",
       "3              1                 1\n",
       "4              0                 0\n",
       "5              1                 1\n",
       "6              1                 1\n",
       "7              0                 0\n",
       "8              1                 1\n",
       "9              1                 1"
      ]
     },
     "execution_count": 126,
     "metadata": {},
     "output_type": "execute_result"
    }
   ],
   "source": [
    "comparision=pd.concat([y_test,y_pred_rf],axis=1)\n",
    "comparision.head(10)"
   ]
  },
  {
   "cell_type": "markdown",
   "metadata": {},
   "source": [
    "###  ROC Curve and Score"
   ]
  },
  {
   "cell_type": "code",
   "execution_count": 123,
   "metadata": {},
   "outputs": [],
   "source": [
    "# ROC Curve\n",
    "from sklearn.metrics import roc_curve\n",
    "from sklearn.metrics import roc_auc_score\n",
    "\n",
    "fpr, tpr, thresholds = roc_curve(y_test, y_pred_rf)"
   ]
  },
  {
   "cell_type": "code",
   "execution_count": 124,
   "metadata": {},
   "outputs": [
    {
     "name": "stdout",
     "output_type": "stream",
     "text": [
      "AUC: 0.902\n"
     ]
    }
   ],
   "source": [
    "# calculate AUC\n",
    "auc = roc_auc_score(y_test, y_pred_rf)\n",
    "print('AUC: %.3f' % auc)"
   ]
  },
  {
   "cell_type": "code",
   "execution_count": 125,
   "metadata": {},
   "outputs": [
    {
     "data": {
      "text/plain": [
       "Text(0, 0.5, 'True Positive Rate')"
      ]
     },
     "execution_count": 125,
     "metadata": {},
     "output_type": "execute_result"
    },
    {
     "data": {
      "image/png": "[encoded data removed]",
      "text/plain": [
       "<Figure size 432x288 with 1 Axes>"
      ]
     },
     "metadata": {
      "needs_background": "light"
     },
     "output_type": "display_data"
    }
   ],
   "source": [
    "# Plotting of AUC\n",
    "import matplotlib.pyplot as plt\n",
    "plt.plot(fpr, tpr, color='red', label='logit model ( area  = %0.2f)'%auc)\n",
    "plt.plot([0, 1], [0, 1], 'k--')\n",
    "plt.xlabel('False Positive Rate')\n",
    "plt.ylabel('True Positive Rate')"
   ]
  }
 ],
 "metadata": {
  "colab": {
   "name": "eda1.ipynb",
   "provenance": []
  },
  "kernelspec": {
   "display_name": "Python 3",
   "language": "python",
   "name": "python3"
  },
  "language_info": {
   "codemirror_mode": {
    "name": "ipython",
    "version": 3
   },
   "file_extension": ".py",
   "mimetype": "text/x-python",
   "name": "python",
   "nbconvert_exporter": "python",
   "pygments_lexer": "ipython3",
   "version": "3.6.12"
  }
 },
 "nbformat": 4,
 "nbformat_minor": 1
}
